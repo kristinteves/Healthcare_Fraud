{
 "cells": [
  {
   "cell_type": "code",
   "execution_count": 218,
   "metadata": {},
   "outputs": [],
   "source": [
    "%matplotlib inline\n",
    "import matplotlib.pyplot as plt\n",
    "import numpy as np\n",
    "import pandas as pd\n",
    "from sklearn.metrics import confusion_matrix\n",
    "import math\n",
    "from sklearn import ensemble\n",
    "import sklearn.model_selection as ms\n",
    "from sklearn.model_selection import train_test_split\n",
    "from sklearn.metrics import accuracy_score, confusion_matrix, classification_report, roc_auc_score, precision_score, recall_score, precision_recall_curve\n"
   ]
  },
  {
   "cell_type": "code",
   "execution_count": 92,
   "metadata": {},
   "outputs": [],
   "source": [
    "pd.options.display.max_columns = None\n",
    "pd.options.display.max_rows = None"
   ]
  },
  {
   "cell_type": "code",
   "execution_count": 104,
   "metadata": {},
   "outputs": [],
   "source": [
    "final_df = pd.read_csv('clean_groubyProvider.csv')\n",
    "target = pd.read_csv('train.csv')\n",
    "test_df = pd.read_csv('test.csv', index_col=0)"
   ]
  },
  {
   "cell_type": "code",
   "execution_count": 105,
   "metadata": {},
   "outputs": [
    {
     "data": {
      "text/html": [
       "<div>\n",
       "<style scoped>\n",
       "    .dataframe tbody tr th:only-of-type {\n",
       "        vertical-align: middle;\n",
       "    }\n",
       "\n",
       "    .dataframe tbody tr th {\n",
       "        vertical-align: top;\n",
       "    }\n",
       "\n",
       "    .dataframe thead th {\n",
       "        text-align: right;\n",
       "    }\n",
       "</style>\n",
       "<table border=\"1\" class=\"dataframe\">\n",
       "  <thead>\n",
       "    <tr style=\"text-align: right;\">\n",
       "      <th></th>\n",
       "      <th>Provider</th>\n",
       "      <th>ClaimID</th>\n",
       "      <th>DOD</th>\n",
       "      <th>ClmAdmitDiagnosisCode</th>\n",
       "      <th>Inpatient</th>\n",
       "      <th>ClmProcedureCode</th>\n",
       "      <th>ClmProcedureCode_count</th>\n",
       "      <th>ClmDiagnosisCode_count</th>\n",
       "      <th>RenalDiseaseIndicator</th>\n",
       "      <th>duplicate</th>\n",
       "      <th>V5869_diagcode</th>\n",
       "      <th>Other_diagcode</th>\n",
       "      <th>V5861_diagcode</th>\n",
       "      <th>2724_diagcode</th>\n",
       "      <th>4011_diagcode</th>\n",
       "      <th>2449_diagcode</th>\n",
       "      <th>4019_diagcode</th>\n",
       "      <th>25000_diagcode</th>\n",
       "      <th>42731_diagcode</th>\n",
       "      <th>PHY338032</th>\n",
       "      <th>None_PHY</th>\n",
       "      <th>PHY341578</th>\n",
       "      <th>PHY357120</th>\n",
       "      <th>PHY330576</th>\n",
       "      <th>PHY337425</th>\n",
       "      <th>PHY314027</th>\n",
       "      <th>PHY327046</th>\n",
       "      <th>PHY412132</th>\n",
       "      <th>PHY350277</th>\n",
       "      <th>PHY423534</th>\n",
       "      <th>Patient_Connections</th>\n",
       "      <th>AttPhys_Connections</th>\n",
       "      <th>InscClaimAmtReimbursed</th>\n",
       "      <th>DeductibleAmtPaid</th>\n",
       "      <th>Gender</th>\n",
       "      <th>IPAnnualReimbursementAmt</th>\n",
       "      <th>NoOfMonths_PartACov</th>\n",
       "      <th>NoOfMonths_PartBCov</th>\n",
       "      <th>IPAnnualDeductibleAmt</th>\n",
       "      <th>OPAnnualReimbursementAmt</th>\n",
       "      <th>OPAnnualDeductibleAmt</th>\n",
       "      <th>num_chronic</th>\n",
       "      <th>Age</th>\n",
       "      <th>claim_Days</th>\n",
       "    </tr>\n",
       "  </thead>\n",
       "  <tbody>\n",
       "    <tr>\n",
       "      <th>0</th>\n",
       "      <td>PRV51001</td>\n",
       "      <td>25</td>\n",
       "      <td>0</td>\n",
       "      <td>11</td>\n",
       "      <td>5.0</td>\n",
       "      <td>2.0</td>\n",
       "      <td>3.0</td>\n",
       "      <td>80.0</td>\n",
       "      <td>8.0</td>\n",
       "      <td>12</td>\n",
       "      <td>1</td>\n",
       "      <td>25</td>\n",
       "      <td>0</td>\n",
       "      <td>2</td>\n",
       "      <td>0</td>\n",
       "      <td>1</td>\n",
       "      <td>3</td>\n",
       "      <td>1</td>\n",
       "      <td>2</td>\n",
       "      <td>0</td>\n",
       "      <td>0</td>\n",
       "      <td>0</td>\n",
       "      <td>0</td>\n",
       "      <td>0</td>\n",
       "      <td>0</td>\n",
       "      <td>0</td>\n",
       "      <td>0</td>\n",
       "      <td>0</td>\n",
       "      <td>0</td>\n",
       "      <td>0</td>\n",
       "      <td>24.0</td>\n",
       "      <td>14.0</td>\n",
       "      <td>4185.600000</td>\n",
       "      <td>213.600000</td>\n",
       "      <td>0.640000</td>\n",
       "      <td>17606.000000</td>\n",
       "      <td>12.000000</td>\n",
       "      <td>12.000000</td>\n",
       "      <td>897.120000</td>\n",
       "      <td>2615.200000</td>\n",
       "      <td>463.920000</td>\n",
       "      <td>5.560000</td>\n",
       "      <td>77.880000</td>\n",
       "      <td>1.440000</td>\n",
       "    </tr>\n",
       "    <tr>\n",
       "      <th>1</th>\n",
       "      <td>PRV51003</td>\n",
       "      <td>132</td>\n",
       "      <td>1</td>\n",
       "      <td>78</td>\n",
       "      <td>62.0</td>\n",
       "      <td>39.0</td>\n",
       "      <td>48.0</td>\n",
       "      <td>693.0</td>\n",
       "      <td>29.0</td>\n",
       "      <td>30</td>\n",
       "      <td>7</td>\n",
       "      <td>132</td>\n",
       "      <td>6</td>\n",
       "      <td>16</td>\n",
       "      <td>3</td>\n",
       "      <td>12</td>\n",
       "      <td>25</td>\n",
       "      <td>15</td>\n",
       "      <td>11</td>\n",
       "      <td>0</td>\n",
       "      <td>0</td>\n",
       "      <td>0</td>\n",
       "      <td>0</td>\n",
       "      <td>0</td>\n",
       "      <td>0</td>\n",
       "      <td>0</td>\n",
       "      <td>0</td>\n",
       "      <td>0</td>\n",
       "      <td>0</td>\n",
       "      <td>0</td>\n",
       "      <td>117.0</td>\n",
       "      <td>44.0</td>\n",
       "      <td>4588.409091</td>\n",
       "      <td>502.166667</td>\n",
       "      <td>0.590909</td>\n",
       "      <td>7568.181818</td>\n",
       "      <td>11.818182</td>\n",
       "      <td>11.871212</td>\n",
       "      <td>931.424242</td>\n",
       "      <td>2678.181818</td>\n",
       "      <td>737.121212</td>\n",
       "      <td>4.545455</td>\n",
       "      <td>69.083333</td>\n",
       "      <td>3.674242</td>\n",
       "    </tr>\n",
       "    <tr>\n",
       "      <th>2</th>\n",
       "      <td>PRV51004</td>\n",
       "      <td>149</td>\n",
       "      <td>1</td>\n",
       "      <td>28</td>\n",
       "      <td>0.0</td>\n",
       "      <td>0.0</td>\n",
       "      <td>0.0</td>\n",
       "      <td>385.0</td>\n",
       "      <td>23.0</td>\n",
       "      <td>76</td>\n",
       "      <td>2</td>\n",
       "      <td>149</td>\n",
       "      <td>4</td>\n",
       "      <td>12</td>\n",
       "      <td>6</td>\n",
       "      <td>8</td>\n",
       "      <td>22</td>\n",
       "      <td>8</td>\n",
       "      <td>3</td>\n",
       "      <td>0</td>\n",
       "      <td>0</td>\n",
       "      <td>0</td>\n",
       "      <td>0</td>\n",
       "      <td>0</td>\n",
       "      <td>0</td>\n",
       "      <td>0</td>\n",
       "      <td>0</td>\n",
       "      <td>0</td>\n",
       "      <td>0</td>\n",
       "      <td>0</td>\n",
       "      <td>138.0</td>\n",
       "      <td>38.0</td>\n",
       "      <td>350.134228</td>\n",
       "      <td>2.080537</td>\n",
       "      <td>0.691275</td>\n",
       "      <td>4351.879195</td>\n",
       "      <td>11.865772</td>\n",
       "      <td>11.959732</td>\n",
       "      <td>434.953020</td>\n",
       "      <td>2194.899329</td>\n",
       "      <td>622.751678</td>\n",
       "      <td>4.342282</td>\n",
       "      <td>71.261745</td>\n",
       "      <td>1.429530</td>\n",
       "    </tr>\n",
       "    <tr>\n",
       "      <th>3</th>\n",
       "      <td>PRV51005</td>\n",
       "      <td>1165</td>\n",
       "      <td>4</td>\n",
       "      <td>252</td>\n",
       "      <td>0.0</td>\n",
       "      <td>0.0</td>\n",
       "      <td>0.0</td>\n",
       "      <td>3016.0</td>\n",
       "      <td>259.0</td>\n",
       "      <td>565</td>\n",
       "      <td>56</td>\n",
       "      <td>1165</td>\n",
       "      <td>47</td>\n",
       "      <td>73</td>\n",
       "      <td>62</td>\n",
       "      <td>30</td>\n",
       "      <td>140</td>\n",
       "      <td>54</td>\n",
       "      <td>23</td>\n",
       "      <td>0</td>\n",
       "      <td>2</td>\n",
       "      <td>0</td>\n",
       "      <td>0</td>\n",
       "      <td>0</td>\n",
       "      <td>0</td>\n",
       "      <td>0</td>\n",
       "      <td>0</td>\n",
       "      <td>0</td>\n",
       "      <td>0</td>\n",
       "      <td>0</td>\n",
       "      <td>495.0</td>\n",
       "      <td>7.0</td>\n",
       "      <td>241.124464</td>\n",
       "      <td>3.175966</td>\n",
       "      <td>0.561373</td>\n",
       "      <td>3623.991416</td>\n",
       "      <td>11.907296</td>\n",
       "      <td>11.939914</td>\n",
       "      <td>379.162232</td>\n",
       "      <td>2109.733906</td>\n",
       "      <td>636.328755</td>\n",
       "      <td>4.335622</td>\n",
       "      <td>69.526180</td>\n",
       "      <td>1.088412</td>\n",
       "    </tr>\n",
       "    <tr>\n",
       "      <th>4</th>\n",
       "      <td>PRV51007</td>\n",
       "      <td>72</td>\n",
       "      <td>1</td>\n",
       "      <td>17</td>\n",
       "      <td>3.0</td>\n",
       "      <td>1.0</td>\n",
       "      <td>1.0</td>\n",
       "      <td>215.0</td>\n",
       "      <td>11.0</td>\n",
       "      <td>31</td>\n",
       "      <td>2</td>\n",
       "      <td>72</td>\n",
       "      <td>7</td>\n",
       "      <td>5</td>\n",
       "      <td>3</td>\n",
       "      <td>6</td>\n",
       "      <td>10</td>\n",
       "      <td>6</td>\n",
       "      <td>2</td>\n",
       "      <td>0</td>\n",
       "      <td>0</td>\n",
       "      <td>0</td>\n",
       "      <td>0</td>\n",
       "      <td>0</td>\n",
       "      <td>0</td>\n",
       "      <td>0</td>\n",
       "      <td>0</td>\n",
       "      <td>0</td>\n",
       "      <td>0</td>\n",
       "      <td>0</td>\n",
       "      <td>58.0</td>\n",
       "      <td>10.0</td>\n",
       "      <td>468.194444</td>\n",
       "      <td>45.333333</td>\n",
       "      <td>0.527778</td>\n",
       "      <td>3050.000000</td>\n",
       "      <td>11.833333</td>\n",
       "      <td>11.833333</td>\n",
       "      <td>445.000000</td>\n",
       "      <td>1729.722222</td>\n",
       "      <td>469.722222</td>\n",
       "      <td>4.166667</td>\n",
       "      <td>68.305556</td>\n",
       "      <td>0.958333</td>\n",
       "    </tr>\n",
       "  </tbody>\n",
       "</table>\n",
       "</div>"
      ],
      "text/plain": [
       "   Provider  ClaimID  DOD  ClmAdmitDiagnosisCode  Inpatient  ClmProcedureCode  \\\n",
       "0  PRV51001       25    0                     11        5.0               2.0   \n",
       "1  PRV51003      132    1                     78       62.0              39.0   \n",
       "2  PRV51004      149    1                     28        0.0               0.0   \n",
       "3  PRV51005     1165    4                    252        0.0               0.0   \n",
       "4  PRV51007       72    1                     17        3.0               1.0   \n",
       "\n",
       "   ClmProcedureCode_count  ClmDiagnosisCode_count  RenalDiseaseIndicator  \\\n",
       "0                     3.0                    80.0                    8.0   \n",
       "1                    48.0                   693.0                   29.0   \n",
       "2                     0.0                   385.0                   23.0   \n",
       "3                     0.0                  3016.0                  259.0   \n",
       "4                     1.0                   215.0                   11.0   \n",
       "\n",
       "   duplicate  V5869_diagcode  Other_diagcode  V5861_diagcode  2724_diagcode  \\\n",
       "0         12               1              25               0              2   \n",
       "1         30               7             132               6             16   \n",
       "2         76               2             149               4             12   \n",
       "3        565              56            1165              47             73   \n",
       "4         31               2              72               7              5   \n",
       "\n",
       "   4011_diagcode  2449_diagcode  4019_diagcode  25000_diagcode  \\\n",
       "0              0              1              3               1   \n",
       "1              3             12             25              15   \n",
       "2              6              8             22               8   \n",
       "3             62             30            140              54   \n",
       "4              3              6             10               6   \n",
       "\n",
       "   42731_diagcode  PHY338032  None_PHY  PHY341578  PHY357120  PHY330576  \\\n",
       "0               2          0         0          0          0          0   \n",
       "1              11          0         0          0          0          0   \n",
       "2               3          0         0          0          0          0   \n",
       "3              23          0         2          0          0          0   \n",
       "4               2          0         0          0          0          0   \n",
       "\n",
       "   PHY337425  PHY314027  PHY327046  PHY412132  PHY350277  PHY423534  \\\n",
       "0          0          0          0          0          0          0   \n",
       "1          0          0          0          0          0          0   \n",
       "2          0          0          0          0          0          0   \n",
       "3          0          0          0          0          0          0   \n",
       "4          0          0          0          0          0          0   \n",
       "\n",
       "   Patient_Connections  AttPhys_Connections  InscClaimAmtReimbursed  \\\n",
       "0                 24.0                 14.0             4185.600000   \n",
       "1                117.0                 44.0             4588.409091   \n",
       "2                138.0                 38.0              350.134228   \n",
       "3                495.0                  7.0              241.124464   \n",
       "4                 58.0                 10.0              468.194444   \n",
       "\n",
       "   DeductibleAmtPaid    Gender  IPAnnualReimbursementAmt  NoOfMonths_PartACov  \\\n",
       "0         213.600000  0.640000              17606.000000            12.000000   \n",
       "1         502.166667  0.590909               7568.181818            11.818182   \n",
       "2           2.080537  0.691275               4351.879195            11.865772   \n",
       "3           3.175966  0.561373               3623.991416            11.907296   \n",
       "4          45.333333  0.527778               3050.000000            11.833333   \n",
       "\n",
       "   NoOfMonths_PartBCov  IPAnnualDeductibleAmt  OPAnnualReimbursementAmt  \\\n",
       "0            12.000000             897.120000               2615.200000   \n",
       "1            11.871212             931.424242               2678.181818   \n",
       "2            11.959732             434.953020               2194.899329   \n",
       "3            11.939914             379.162232               2109.733906   \n",
       "4            11.833333             445.000000               1729.722222   \n",
       "\n",
       "   OPAnnualDeductibleAmt  num_chronic        Age  claim_Days  \n",
       "0             463.920000     5.560000  77.880000    1.440000  \n",
       "1             737.121212     4.545455  69.083333    3.674242  \n",
       "2             622.751678     4.342282  71.261745    1.429530  \n",
       "3             636.328755     4.335622  69.526180    1.088412  \n",
       "4             469.722222     4.166667  68.305556    0.958333  "
      ]
     },
     "execution_count": 105,
     "metadata": {},
     "output_type": "execute_result"
    }
   ],
   "source": [
    "final_df.head()"
   ]
  },
  {
   "cell_type": "code",
   "execution_count": 106,
   "metadata": {},
   "outputs": [
    {
     "name": "stdout",
     "output_type": "stream",
     "text": [
      "(5410, 44)\n",
      "(5410, 2)\n"
     ]
    }
   ],
   "source": [
    "print(final_df.shape)\n",
    "print(target.shape)"
   ]
  },
  {
   "cell_type": "code",
   "execution_count": 107,
   "metadata": {},
   "outputs": [
    {
     "data": {
      "text/html": [
       "<div>\n",
       "<style scoped>\n",
       "    .dataframe tbody tr th:only-of-type {\n",
       "        vertical-align: middle;\n",
       "    }\n",
       "\n",
       "    .dataframe tbody tr th {\n",
       "        vertical-align: top;\n",
       "    }\n",
       "\n",
       "    .dataframe thead th {\n",
       "        text-align: right;\n",
       "    }\n",
       "</style>\n",
       "<table border=\"1\" class=\"dataframe\">\n",
       "  <thead>\n",
       "    <tr style=\"text-align: right;\">\n",
       "      <th></th>\n",
       "      <th>Provider</th>\n",
       "      <th>PotentialFraud</th>\n",
       "    </tr>\n",
       "  </thead>\n",
       "  <tbody>\n",
       "    <tr>\n",
       "      <th>0</th>\n",
       "      <td>PRV51001</td>\n",
       "      <td>0</td>\n",
       "    </tr>\n",
       "    <tr>\n",
       "      <th>1</th>\n",
       "      <td>PRV51003</td>\n",
       "      <td>1</td>\n",
       "    </tr>\n",
       "    <tr>\n",
       "      <th>2</th>\n",
       "      <td>PRV51004</td>\n",
       "      <td>0</td>\n",
       "    </tr>\n",
       "    <tr>\n",
       "      <th>3</th>\n",
       "      <td>PRV51005</td>\n",
       "      <td>1</td>\n",
       "    </tr>\n",
       "    <tr>\n",
       "      <th>4</th>\n",
       "      <td>PRV51007</td>\n",
       "      <td>0</td>\n",
       "    </tr>\n",
       "  </tbody>\n",
       "</table>\n",
       "</div>"
      ],
      "text/plain": [
       "   Provider  PotentialFraud\n",
       "0  PRV51001               0\n",
       "1  PRV51003               1\n",
       "2  PRV51004               0\n",
       "3  PRV51005               1\n",
       "4  PRV51007               0"
      ]
     },
     "execution_count": 107,
     "metadata": {},
     "output_type": "execute_result"
    }
   ],
   "source": [
    "target.replace({'No':0, 'Yes':1}, inplace=True)\n",
    "target.head()"
   ]
  },
  {
   "cell_type": "code",
   "execution_count": 158,
   "metadata": {},
   "outputs": [
    {
     "data": {
      "text/plain": [
       "Text(0, 0.5, 'Frequency')"
      ]
     },
     "execution_count": 158,
     "metadata": {},
     "output_type": "execute_result"
    },
    {
     "data": {
      "image/png": "[encoded data removed]",
      "text/plain": [
       "<Figure size 432x288 with 1 Axes>"
      ]
     },
     "metadata": {
      "needs_background": "light"
     },
     "output_type": "display_data"
    }
   ],
   "source": [
    "target.value_counts(sort = True).plot(kind = 'bar')\n",
    "plt.title(\"Providers Flagged with Potential Fraud\")\n",
    "plt.xlabel(\"Potential Fraud\")\n",
    "plt.ylabel(\"Frequency\")"
   ]
  },
  {
   "cell_type": "code",
   "execution_count": 108,
   "metadata": {},
   "outputs": [],
   "source": [
    "final_df = pd.merge(final_df, target, on='Provider')"
   ]
  },
  {
   "cell_type": "code",
   "execution_count": 109,
   "metadata": {},
   "outputs": [],
   "source": [
    "final_df.drop('Provider', axis=1, inplace=True)"
   ]
  },
  {
   "cell_type": "code",
   "execution_count": 110,
   "metadata": {},
   "outputs": [
    {
     "data": {
      "text/html": [
       "<div>\n",
       "<style scoped>\n",
       "    .dataframe tbody tr th:only-of-type {\n",
       "        vertical-align: middle;\n",
       "    }\n",
       "\n",
       "    .dataframe tbody tr th {\n",
       "        vertical-align: top;\n",
       "    }\n",
       "\n",
       "    .dataframe thead th {\n",
       "        text-align: right;\n",
       "    }\n",
       "</style>\n",
       "<table border=\"1\" class=\"dataframe\">\n",
       "  <thead>\n",
       "    <tr style=\"text-align: right;\">\n",
       "      <th></th>\n",
       "      <th>ClaimID</th>\n",
       "      <th>DOD</th>\n",
       "      <th>ClmAdmitDiagnosisCode</th>\n",
       "      <th>Inpatient</th>\n",
       "      <th>ClmProcedureCode</th>\n",
       "      <th>ClmProcedureCode_count</th>\n",
       "      <th>ClmDiagnosisCode_count</th>\n",
       "      <th>RenalDiseaseIndicator</th>\n",
       "      <th>duplicate</th>\n",
       "      <th>V5869_diagcode</th>\n",
       "      <th>Other_diagcode</th>\n",
       "      <th>V5861_diagcode</th>\n",
       "      <th>2724_diagcode</th>\n",
       "      <th>4011_diagcode</th>\n",
       "      <th>2449_diagcode</th>\n",
       "      <th>4019_diagcode</th>\n",
       "      <th>25000_diagcode</th>\n",
       "      <th>42731_diagcode</th>\n",
       "      <th>PHY338032</th>\n",
       "      <th>None_PHY</th>\n",
       "      <th>PHY341578</th>\n",
       "      <th>PHY357120</th>\n",
       "      <th>PHY330576</th>\n",
       "      <th>PHY337425</th>\n",
       "      <th>PHY314027</th>\n",
       "      <th>PHY327046</th>\n",
       "      <th>PHY412132</th>\n",
       "      <th>PHY350277</th>\n",
       "      <th>PHY423534</th>\n",
       "      <th>Patient_Connections</th>\n",
       "      <th>AttPhys_Connections</th>\n",
       "      <th>InscClaimAmtReimbursed</th>\n",
       "      <th>DeductibleAmtPaid</th>\n",
       "      <th>Gender</th>\n",
       "      <th>IPAnnualReimbursementAmt</th>\n",
       "      <th>NoOfMonths_PartACov</th>\n",
       "      <th>NoOfMonths_PartBCov</th>\n",
       "      <th>IPAnnualDeductibleAmt</th>\n",
       "      <th>OPAnnualReimbursementAmt</th>\n",
       "      <th>OPAnnualDeductibleAmt</th>\n",
       "      <th>num_chronic</th>\n",
       "      <th>Age</th>\n",
       "      <th>claim_Days</th>\n",
       "      <th>PotentialFraud</th>\n",
       "    </tr>\n",
       "  </thead>\n",
       "  <tbody>\n",
       "    <tr>\n",
       "      <th>0</th>\n",
       "      <td>25</td>\n",
       "      <td>0</td>\n",
       "      <td>11</td>\n",
       "      <td>5.0</td>\n",
       "      <td>2.0</td>\n",
       "      <td>3.0</td>\n",
       "      <td>80.0</td>\n",
       "      <td>8.0</td>\n",
       "      <td>12</td>\n",
       "      <td>1</td>\n",
       "      <td>25</td>\n",
       "      <td>0</td>\n",
       "      <td>2</td>\n",
       "      <td>0</td>\n",
       "      <td>1</td>\n",
       "      <td>3</td>\n",
       "      <td>1</td>\n",
       "      <td>2</td>\n",
       "      <td>0</td>\n",
       "      <td>0</td>\n",
       "      <td>0</td>\n",
       "      <td>0</td>\n",
       "      <td>0</td>\n",
       "      <td>0</td>\n",
       "      <td>0</td>\n",
       "      <td>0</td>\n",
       "      <td>0</td>\n",
       "      <td>0</td>\n",
       "      <td>0</td>\n",
       "      <td>24.0</td>\n",
       "      <td>14.0</td>\n",
       "      <td>4185.600000</td>\n",
       "      <td>213.600000</td>\n",
       "      <td>0.640000</td>\n",
       "      <td>17606.000000</td>\n",
       "      <td>12.000000</td>\n",
       "      <td>12.000000</td>\n",
       "      <td>897.120000</td>\n",
       "      <td>2615.200000</td>\n",
       "      <td>463.920000</td>\n",
       "      <td>5.560000</td>\n",
       "      <td>77.880000</td>\n",
       "      <td>1.440000</td>\n",
       "      <td>0</td>\n",
       "    </tr>\n",
       "    <tr>\n",
       "      <th>1</th>\n",
       "      <td>132</td>\n",
       "      <td>1</td>\n",
       "      <td>78</td>\n",
       "      <td>62.0</td>\n",
       "      <td>39.0</td>\n",
       "      <td>48.0</td>\n",
       "      <td>693.0</td>\n",
       "      <td>29.0</td>\n",
       "      <td>30</td>\n",
       "      <td>7</td>\n",
       "      <td>132</td>\n",
       "      <td>6</td>\n",
       "      <td>16</td>\n",
       "      <td>3</td>\n",
       "      <td>12</td>\n",
       "      <td>25</td>\n",
       "      <td>15</td>\n",
       "      <td>11</td>\n",
       "      <td>0</td>\n",
       "      <td>0</td>\n",
       "      <td>0</td>\n",
       "      <td>0</td>\n",
       "      <td>0</td>\n",
       "      <td>0</td>\n",
       "      <td>0</td>\n",
       "      <td>0</td>\n",
       "      <td>0</td>\n",
       "      <td>0</td>\n",
       "      <td>0</td>\n",
       "      <td>117.0</td>\n",
       "      <td>44.0</td>\n",
       "      <td>4588.409091</td>\n",
       "      <td>502.166667</td>\n",
       "      <td>0.590909</td>\n",
       "      <td>7568.181818</td>\n",
       "      <td>11.818182</td>\n",
       "      <td>11.871212</td>\n",
       "      <td>931.424242</td>\n",
       "      <td>2678.181818</td>\n",
       "      <td>737.121212</td>\n",
       "      <td>4.545455</td>\n",
       "      <td>69.083333</td>\n",
       "      <td>3.674242</td>\n",
       "      <td>1</td>\n",
       "    </tr>\n",
       "    <tr>\n",
       "      <th>2</th>\n",
       "      <td>149</td>\n",
       "      <td>1</td>\n",
       "      <td>28</td>\n",
       "      <td>0.0</td>\n",
       "      <td>0.0</td>\n",
       "      <td>0.0</td>\n",
       "      <td>385.0</td>\n",
       "      <td>23.0</td>\n",
       "      <td>76</td>\n",
       "      <td>2</td>\n",
       "      <td>149</td>\n",
       "      <td>4</td>\n",
       "      <td>12</td>\n",
       "      <td>6</td>\n",
       "      <td>8</td>\n",
       "      <td>22</td>\n",
       "      <td>8</td>\n",
       "      <td>3</td>\n",
       "      <td>0</td>\n",
       "      <td>0</td>\n",
       "      <td>0</td>\n",
       "      <td>0</td>\n",
       "      <td>0</td>\n",
       "      <td>0</td>\n",
       "      <td>0</td>\n",
       "      <td>0</td>\n",
       "      <td>0</td>\n",
       "      <td>0</td>\n",
       "      <td>0</td>\n",
       "      <td>138.0</td>\n",
       "      <td>38.0</td>\n",
       "      <td>350.134228</td>\n",
       "      <td>2.080537</td>\n",
       "      <td>0.691275</td>\n",
       "      <td>4351.879195</td>\n",
       "      <td>11.865772</td>\n",
       "      <td>11.959732</td>\n",
       "      <td>434.953020</td>\n",
       "      <td>2194.899329</td>\n",
       "      <td>622.751678</td>\n",
       "      <td>4.342282</td>\n",
       "      <td>71.261745</td>\n",
       "      <td>1.429530</td>\n",
       "      <td>0</td>\n",
       "    </tr>\n",
       "    <tr>\n",
       "      <th>3</th>\n",
       "      <td>1165</td>\n",
       "      <td>4</td>\n",
       "      <td>252</td>\n",
       "      <td>0.0</td>\n",
       "      <td>0.0</td>\n",
       "      <td>0.0</td>\n",
       "      <td>3016.0</td>\n",
       "      <td>259.0</td>\n",
       "      <td>565</td>\n",
       "      <td>56</td>\n",
       "      <td>1165</td>\n",
       "      <td>47</td>\n",
       "      <td>73</td>\n",
       "      <td>62</td>\n",
       "      <td>30</td>\n",
       "      <td>140</td>\n",
       "      <td>54</td>\n",
       "      <td>23</td>\n",
       "      <td>0</td>\n",
       "      <td>2</td>\n",
       "      <td>0</td>\n",
       "      <td>0</td>\n",
       "      <td>0</td>\n",
       "      <td>0</td>\n",
       "      <td>0</td>\n",
       "      <td>0</td>\n",
       "      <td>0</td>\n",
       "      <td>0</td>\n",
       "      <td>0</td>\n",
       "      <td>495.0</td>\n",
       "      <td>7.0</td>\n",
       "      <td>241.124464</td>\n",
       "      <td>3.175966</td>\n",
       "      <td>0.561373</td>\n",
       "      <td>3623.991416</td>\n",
       "      <td>11.907296</td>\n",
       "      <td>11.939914</td>\n",
       "      <td>379.162232</td>\n",
       "      <td>2109.733906</td>\n",
       "      <td>636.328755</td>\n",
       "      <td>4.335622</td>\n",
       "      <td>69.526180</td>\n",
       "      <td>1.088412</td>\n",
       "      <td>1</td>\n",
       "    </tr>\n",
       "    <tr>\n",
       "      <th>4</th>\n",
       "      <td>72</td>\n",
       "      <td>1</td>\n",
       "      <td>17</td>\n",
       "      <td>3.0</td>\n",
       "      <td>1.0</td>\n",
       "      <td>1.0</td>\n",
       "      <td>215.0</td>\n",
       "      <td>11.0</td>\n",
       "      <td>31</td>\n",
       "      <td>2</td>\n",
       "      <td>72</td>\n",
       "      <td>7</td>\n",
       "      <td>5</td>\n",
       "      <td>3</td>\n",
       "      <td>6</td>\n",
       "      <td>10</td>\n",
       "      <td>6</td>\n",
       "      <td>2</td>\n",
       "      <td>0</td>\n",
       "      <td>0</td>\n",
       "      <td>0</td>\n",
       "      <td>0</td>\n",
       "      <td>0</td>\n",
       "      <td>0</td>\n",
       "      <td>0</td>\n",
       "      <td>0</td>\n",
       "      <td>0</td>\n",
       "      <td>0</td>\n",
       "      <td>0</td>\n",
       "      <td>58.0</td>\n",
       "      <td>10.0</td>\n",
       "      <td>468.194444</td>\n",
       "      <td>45.333333</td>\n",
       "      <td>0.527778</td>\n",
       "      <td>3050.000000</td>\n",
       "      <td>11.833333</td>\n",
       "      <td>11.833333</td>\n",
       "      <td>445.000000</td>\n",
       "      <td>1729.722222</td>\n",
       "      <td>469.722222</td>\n",
       "      <td>4.166667</td>\n",
       "      <td>68.305556</td>\n",
       "      <td>0.958333</td>\n",
       "      <td>0</td>\n",
       "    </tr>\n",
       "  </tbody>\n",
       "</table>\n",
       "</div>"
      ],
      "text/plain": [
       "   ClaimID  DOD  ClmAdmitDiagnosisCode  Inpatient  ClmProcedureCode  \\\n",
       "0       25    0                     11        5.0               2.0   \n",
       "1      132    1                     78       62.0              39.0   \n",
       "2      149    1                     28        0.0               0.0   \n",
       "3     1165    4                    252        0.0               0.0   \n",
       "4       72    1                     17        3.0               1.0   \n",
       "\n",
       "   ClmProcedureCode_count  ClmDiagnosisCode_count  RenalDiseaseIndicator  \\\n",
       "0                     3.0                    80.0                    8.0   \n",
       "1                    48.0                   693.0                   29.0   \n",
       "2                     0.0                   385.0                   23.0   \n",
       "3                     0.0                  3016.0                  259.0   \n",
       "4                     1.0                   215.0                   11.0   \n",
       "\n",
       "   duplicate  V5869_diagcode  Other_diagcode  V5861_diagcode  2724_diagcode  \\\n",
       "0         12               1              25               0              2   \n",
       "1         30               7             132               6             16   \n",
       "2         76               2             149               4             12   \n",
       "3        565              56            1165              47             73   \n",
       "4         31               2              72               7              5   \n",
       "\n",
       "   4011_diagcode  2449_diagcode  4019_diagcode  25000_diagcode  \\\n",
       "0              0              1              3               1   \n",
       "1              3             12             25              15   \n",
       "2              6              8             22               8   \n",
       "3             62             30            140              54   \n",
       "4              3              6             10               6   \n",
       "\n",
       "   42731_diagcode  PHY338032  None_PHY  PHY341578  PHY357120  PHY330576  \\\n",
       "0               2          0         0          0          0          0   \n",
       "1              11          0         0          0          0          0   \n",
       "2               3          0         0          0          0          0   \n",
       "3              23          0         2          0          0          0   \n",
       "4               2          0         0          0          0          0   \n",
       "\n",
       "   PHY337425  PHY314027  PHY327046  PHY412132  PHY350277  PHY423534  \\\n",
       "0          0          0          0          0          0          0   \n",
       "1          0          0          0          0          0          0   \n",
       "2          0          0          0          0          0          0   \n",
       "3          0          0          0          0          0          0   \n",
       "4          0          0          0          0          0          0   \n",
       "\n",
       "   Patient_Connections  AttPhys_Connections  InscClaimAmtReimbursed  \\\n",
       "0                 24.0                 14.0             4185.600000   \n",
       "1                117.0                 44.0             4588.409091   \n",
       "2                138.0                 38.0              350.134228   \n",
       "3                495.0                  7.0              241.124464   \n",
       "4                 58.0                 10.0              468.194444   \n",
       "\n",
       "   DeductibleAmtPaid    Gender  IPAnnualReimbursementAmt  NoOfMonths_PartACov  \\\n",
       "0         213.600000  0.640000              17606.000000            12.000000   \n",
       "1         502.166667  0.590909               7568.181818            11.818182   \n",
       "2           2.080537  0.691275               4351.879195            11.865772   \n",
       "3           3.175966  0.561373               3623.991416            11.907296   \n",
       "4          45.333333  0.527778               3050.000000            11.833333   \n",
       "\n",
       "   NoOfMonths_PartBCov  IPAnnualDeductibleAmt  OPAnnualReimbursementAmt  \\\n",
       "0            12.000000             897.120000               2615.200000   \n",
       "1            11.871212             931.424242               2678.181818   \n",
       "2            11.959732             434.953020               2194.899329   \n",
       "3            11.939914             379.162232               2109.733906   \n",
       "4            11.833333             445.000000               1729.722222   \n",
       "\n",
       "   OPAnnualDeductibleAmt  num_chronic        Age  claim_Days  PotentialFraud  \n",
       "0             463.920000     5.560000  77.880000    1.440000               0  \n",
       "1             737.121212     4.545455  69.083333    3.674242               1  \n",
       "2             622.751678     4.342282  71.261745    1.429530               0  \n",
       "3             636.328755     4.335622  69.526180    1.088412               1  \n",
       "4             469.722222     4.166667  68.305556    0.958333               0  "
      ]
     },
     "execution_count": 110,
     "metadata": {},
     "output_type": "execute_result"
    }
   ],
   "source": [
    "final_df.head()"
   ]
  },
  {
   "cell_type": "code",
   "execution_count": 113,
   "metadata": {},
   "outputs": [],
   "source": [
    "target = final_df['PotentialFraud']\n",
    "final_df.drop('PotentialFraud', axis=1, inplace=True)"
   ]
  },
  {
   "cell_type": "code",
   "execution_count": 114,
   "metadata": {},
   "outputs": [],
   "source": [
    "X_train, X_test, y_train, y_test = train_test_split(final_df, target, test_size=0.2, random_state=0)"
   ]
  },
  {
   "cell_type": "code",
   "execution_count": 115,
   "metadata": {},
   "outputs": [
    {
     "data": {
      "text/plain": [
       "((4328, 43), (4328,), (1082, 43), (1082,))"
      ]
     },
     "execution_count": 115,
     "metadata": {},
     "output_type": "execute_result"
    }
   ],
   "source": [
    "X_train.shape, y_train.shape, X_test.shape, y_test.shape"
   ]
  },
  {
   "cell_type": "code",
   "execution_count": 122,
   "metadata": {},
   "outputs": [
    {
     "data": {
      "text/plain": [
       "0.9995378927911276"
      ]
     },
     "execution_count": 122,
     "metadata": {},
     "output_type": "execute_result"
    }
   ],
   "source": [
    "randomForest = ensemble.RandomForestClassifier()\n",
    "randomForest.set_params(n_estimators=50, random_state=10)\n",
    "randomForest.fit(X_train, y_train)  \n",
    "randomForest.score(X_train, y_train) "
   ]
  },
  {
   "cell_type": "code",
   "execution_count": 219,
   "metadata": {},
   "outputs": [
    {
     "name": "stdout",
     "output_type": "stream",
     "text": [
      "Confusion Matrix: \n",
      " [[973  18]\n",
      " [ 46  45]] \n",
      "\n",
      "Area Under the Curve: 0.738171011632162\n",
      "Classification Report: \n",
      "               precision    recall  f1-score   support\n",
      "\n",
      "           0       0.95      0.98      0.97       991\n",
      "           1       0.71      0.49      0.58        91\n",
      "\n",
      "    accuracy                           0.94      1082\n",
      "   macro avg       0.83      0.74      0.78      1082\n",
      "weighted avg       0.93      0.94      0.94      1082\n",
      " \n",
      "\n"
     ]
    }
   ],
   "source": [
    "y_pred = randomForest.predict(X_test)\n",
    "print('Confusion Matrix: \\n {} \\n'.format(confusion_matrix(y_test, y_pred)))\n",
    "print('Area Under the Curve: {}'.format(roc_auc_score(y_test, y_pred)))\n",
    "print('Classification Report: \\n {} \\n'.format(classification_report(y_test, y_pred)))"
   ]
  },
  {
   "cell_type": "markdown",
   "metadata": {},
   "source": [
    "### Random Forest with Grid Search Cross Validation"
   ]
  },
  {
   "cell_type": "code",
   "execution_count": 124,
   "metadata": {},
   "outputs": [],
   "source": [
    "# set the parameter grid\n",
    "grid_para_forest = {\n",
    "    'criterion': ['gini', 'entropy'],\n",
    "    'max_depth': range(1, 31),\n",
    "    'n_estimators': range(10, 110, 10)\n",
    "}"
   ]
  },
  {
   "cell_type": "code",
   "execution_count": 125,
   "metadata": {},
   "outputs": [
    {
     "name": "stdout",
     "output_type": "stream",
     "text": [
      "CPU times: user 19 s, sys: 1.8 s, total: 20.8 s\n",
      "Wall time: 8min 25s\n"
     ]
    },
    {
     "data": {
      "text/plain": [
       "GridSearchCV(cv=5, error_score=nan,\n",
       "             estimator=RandomForestClassifier(bootstrap=True, ccp_alpha=0.0,\n",
       "                                              class_weight=None,\n",
       "                                              criterion='gini', max_depth=None,\n",
       "                                              max_features='auto',\n",
       "                                              max_leaf_nodes=None,\n",
       "                                              max_samples=None,\n",
       "                                              min_impurity_decrease=0.0,\n",
       "                                              min_impurity_split=None,\n",
       "                                              min_samples_leaf=1,\n",
       "                                              min_samples_split=2,\n",
       "                                              min_weight_fraction_leaf=0.0,\n",
       "                                              n_estimators=50, n_jobs=None,\n",
       "                                              oob_score=False, random_state=10,\n",
       "                                              verbose=0, warm_start=False),\n",
       "             iid='deprecated', n_jobs=-1,\n",
       "             param_grid={'criterion': ['gini', 'entropy'],\n",
       "                         'max_depth': range(1, 31),\n",
       "                         'n_estimators': range(10, 110, 10)},\n",
       "             pre_dispatch='2*n_jobs', refit=True, return_train_score=False,\n",
       "             scoring='accuracy', verbose=0)"
      ]
     },
     "execution_count": 125,
     "metadata": {},
     "output_type": "execute_result"
    }
   ],
   "source": [
    "randomForest2 = ensemble.RandomForestClassifier()\n",
    "grid_search_forest = ms.GridSearchCV(randomForest2, grid_para_forest, scoring='accuracy', cv=5, n_jobs=-1)\n",
    "%time grid_search_forest.fit(X_train, y_train)"
   ]
  },
  {
   "cell_type": "code",
   "execution_count": 126,
   "metadata": {},
   "outputs": [
    {
     "data": {
      "text/plain": [
       "{'criterion': 'gini', 'max_depth': 3, 'n_estimators': 50}"
      ]
     },
     "execution_count": 126,
     "metadata": {},
     "output_type": "execute_result"
    }
   ],
   "source": [
    "# get the best parameters\n",
    "grid_search_forest.best_params_"
   ]
  },
  {
   "cell_type": "code",
   "execution_count": 127,
   "metadata": {},
   "outputs": [
    {
     "data": {
      "text/plain": [
       "0.9343817164826657"
      ]
     },
     "execution_count": 127,
     "metadata": {},
     "output_type": "execute_result"
    }
   ],
   "source": [
    "# get the best score\n",
    "grid_search_forest.best_score_"
   ]
  },
  {
   "cell_type": "code",
   "execution_count": 220,
   "metadata": {},
   "outputs": [
    {
     "name": "stdout",
     "output_type": "stream",
     "text": [
      "Confusion Matrix: \n",
      " [[977  14]\n",
      " [ 54  37]] \n",
      "\n",
      "Area Under the Curve: 0.6962331311473592\n",
      "Classification Report: \n",
      "               precision    recall  f1-score   support\n",
      "\n",
      "           0       0.95      0.99      0.97       991\n",
      "           1       0.73      0.41      0.52        91\n",
      "\n",
      "    accuracy                           0.94      1082\n",
      "   macro avg       0.84      0.70      0.74      1082\n",
      "weighted avg       0.93      0.94      0.93      1082\n",
      " \n",
      "\n"
     ]
    }
   ],
   "source": [
    "y_pred = grid_search_forest.best_estimator_.predict(X_test)\n",
    "print('Confusion Matrix: \\n {} \\n'.format(confusion_matrix(y_test, y_pred)))\n",
    "print('Area Under the Curve: {}'.format(roc_auc_score(y_test, y_pred)))\n",
    "print('Classification Report: \\n {} \\n'.format(classification_report(y_test, y_pred)))"
   ]
  },
  {
   "cell_type": "markdown",
   "metadata": {},
   "source": [
    "### Random Forest with Class Weight"
   ]
  },
  {
   "cell_type": "markdown",
   "metadata": {},
   "source": [
    "#### Random Forest with \"balanced\" Class Weight"
   ]
  },
  {
   "cell_type": "code",
   "execution_count": 163,
   "metadata": {},
   "outputs": [
    {
     "data": {
      "text/plain": [
       "0.8535120147874307"
      ]
     },
     "execution_count": 163,
     "metadata": {},
     "output_type": "execute_result"
    }
   ],
   "source": [
    "# Class Weight = 'balanced'\n",
    "randomForest3 = ensemble.RandomForestClassifier()\n",
    "randomForest3.set_params(criterion = 'gini', max_depth = 3, n_estimators = 50, class_weight = 'balanced')\n",
    "randomForest3.fit(X_train, y_train) # fit \n",
    "randomForest3.score(X_train, y_train)\n",
    "\n"
   ]
  },
  {
   "cell_type": "code",
   "execution_count": 221,
   "metadata": {},
   "outputs": [
    {
     "name": "stdout",
     "output_type": "stream",
     "text": [
      "Confusion Matrix: \n",
      " [[842 149]\n",
      " [ 10  81]] \n",
      "\n",
      "Area Under the Curve: 0.8698783557512114\n",
      "Classification Report: \n",
      "               precision    recall  f1-score   support\n",
      "\n",
      "           0       0.99      0.85      0.91       991\n",
      "           1       0.35      0.89      0.50        91\n",
      "\n",
      "    accuracy                           0.85      1082\n",
      "   macro avg       0.67      0.87      0.71      1082\n",
      "weighted avg       0.93      0.85      0.88      1082\n",
      " \n",
      "\n"
     ]
    }
   ],
   "source": [
    "y_pred = randomForest3.predict(X_test)\n",
    "print('Confusion Matrix: \\n {} \\n'.format(confusion_matrix(y_test, y_pred)))\n",
    "print('Area Under the Curve: {}'.format(roc_auc_score(y_test, y_pred)))\n",
    "print('Classification Report: \\n {} \\n'.format(classification_report(y_test, y_pred)))"
   ]
  },
  {
   "cell_type": "markdown",
   "metadata": {},
   "source": [
    "#### Random Forest with \"balanced_subsample\" Class Weight"
   ]
  },
  {
   "cell_type": "code",
   "execution_count": 176,
   "metadata": {},
   "outputs": [
    {
     "data": {
      "text/plain": [
       "0.8481977818853974"
      ]
     },
     "execution_count": 176,
     "metadata": {},
     "output_type": "execute_result"
    }
   ],
   "source": [
    "# Class Weight = balanced_subsample\n",
    "# This is the same as “balanced” except that weights are computed based on \n",
    "# the bootstrap sample for every tree grown\n",
    "\n",
    "randomForest4 = ensemble.RandomForestClassifier()\n",
    "randomForest4.set_params(criterion = 'gini', max_depth = 3, n_estimators = 50, class_weight = 'balanced_subsample')\n",
    "randomForest4.fit(X_train, y_train) # fit \n",
    "randomForest4.score(X_train, y_train)\n"
   ]
  },
  {
   "cell_type": "code",
   "execution_count": 222,
   "metadata": {},
   "outputs": [
    {
     "name": "stdout",
     "output_type": "stream",
     "text": [
      "Confusion Matrix: \n",
      " [[835 156]\n",
      " [ 11  80]] \n",
      "\n",
      "Area Under the Curve: 0.8608520641820339\n",
      "Classification Report: \n",
      "               precision    recall  f1-score   support\n",
      "\n",
      "           0       0.99      0.84      0.91       991\n",
      "           1       0.34      0.88      0.49        91\n",
      "\n",
      "    accuracy                           0.85      1082\n",
      "   macro avg       0.66      0.86      0.70      1082\n",
      "weighted avg       0.93      0.85      0.87      1082\n",
      " \n",
      "\n"
     ]
    }
   ],
   "source": [
    "y_pred = randomForest4.predict(X_test)\n",
    "print('Confusion Matrix: \\n {} \\n'.format(confusion_matrix(y_test, y_pred)))\n",
    "print('Area Under the Curve: {}'.format(roc_auc_score(y_test, y_pred)))\n",
    "print('Classification Report: \\n {} \\n'.format(classification_report(y_test, y_pred)))"
   ]
  },
  {
   "cell_type": "markdown",
   "metadata": {},
   "source": [
    "#### Random Forest with Manual Class Weight"
   ]
  },
  {
   "cell_type": "code",
   "execution_count": 159,
   "metadata": {},
   "outputs": [
    {
     "data": {
      "text/plain": [
       "0    4904\n",
       "1     506\n",
       "Name: PotentialFraud, dtype: int64"
      ]
     },
     "execution_count": 159,
     "metadata": {},
     "output_type": "execute_result"
    }
   ],
   "source": [
    "target.value_counts()"
   ]
  },
  {
   "cell_type": "code",
   "execution_count": 160,
   "metadata": {},
   "outputs": [
    {
     "name": "stdout",
     "output_type": "stream",
     "text": [
      "0.10318107667210441\n"
     ]
    }
   ],
   "source": [
    "print(506/4904)\n",
    "# Class 1 is about 10 times more prevalent than class 0"
   ]
  },
  {
   "cell_type": "code",
   "execution_count": 179,
   "metadata": {},
   "outputs": [
    {
     "data": {
      "text/plain": [
       "0.8475046210720887"
      ]
     },
     "execution_count": 179,
     "metadata": {},
     "output_type": "execute_result"
    }
   ],
   "source": [
    "randomForest5 = ensemble.RandomForestClassifier()\n",
    "randomForest5.set_params(criterion = 'gini', max_depth = 3, n_estimators = 50, class_weight = {0:1, 1:10})\n",
    "randomForest5.fit(X_train, y_train)\n",
    "randomForest5.score(X_train, y_train)"
   ]
  },
  {
   "cell_type": "code",
   "execution_count": 223,
   "metadata": {},
   "outputs": [
    {
     "name": "stdout",
     "output_type": "stream",
     "text": [
      "Confusion Matrix: \n",
      " [[834 157]\n",
      " [  8  83]] \n",
      "\n",
      "Area Under the Curve: 0.8768310397977399\n",
      "Classification Report: \n",
      "               precision    recall  f1-score   support\n",
      "\n",
      "           0       0.99      0.84      0.91       991\n",
      "           1       0.35      0.91      0.50        91\n",
      "\n",
      "    accuracy                           0.85      1082\n",
      "   macro avg       0.67      0.88      0.71      1082\n",
      "weighted avg       0.94      0.85      0.88      1082\n",
      " \n",
      "\n"
     ]
    }
   ],
   "source": [
    "y_pred = randomForest5.predict(X_test)\n",
    "print('Confusion Matrix: \\n {} \\n'.format(confusion_matrix(y_test, y_pred)))\n",
    "print('Area Under the Curve: {}'.format(roc_auc_score(y_test, y_pred)))\n",
    "print('Classification Report: \\n {} \\n'.format(classification_report(y_test, y_pred)))"
   ]
  },
  {
   "cell_type": "markdown",
   "metadata": {},
   "source": [
    "### Grid Search with \"balanced\" Class Weight"
   ]
  },
  {
   "cell_type": "code",
   "execution_count": 189,
   "metadata": {},
   "outputs": [
    {
     "name": "stdout",
     "output_type": "stream",
     "text": [
      "CPU times: user 22.3 s, sys: 4.63 s, total: 27 s\n",
      "Wall time: 8min 46s\n"
     ]
    },
    {
     "data": {
      "text/plain": [
       "GridSearchCV(cv=5, error_score=nan,\n",
       "             estimator=RandomForestClassifier(bootstrap=True, ccp_alpha=0.0,\n",
       "                                              class_weight='balanced',\n",
       "                                              criterion='gini', max_depth=None,\n",
       "                                              max_features='auto',\n",
       "                                              max_leaf_nodes=None,\n",
       "                                              max_samples=None,\n",
       "                                              min_impurity_decrease=0.0,\n",
       "                                              min_impurity_split=None,\n",
       "                                              min_samples_leaf=1,\n",
       "                                              min_samples_split=2,\n",
       "                                              min_weight_fraction_leaf=0.0,\n",
       "                                              n_estimators=100, n_jobs=None,\n",
       "                                              oob_score=False,\n",
       "                                              random_state=None, verbose=0,\n",
       "                                              warm_start=False),\n",
       "             iid='deprecated', n_jobs=-1,\n",
       "             param_grid={'criterion': ['gini', 'entropy'],\n",
       "                         'max_depth': range(1, 31),\n",
       "                         'n_estimators': range(10, 110, 10)},\n",
       "             pre_dispatch='2*n_jobs', refit=True, return_train_score=False,\n",
       "             scoring='accuracy', verbose=0)"
      ]
     },
     "execution_count": 189,
     "metadata": {},
     "output_type": "execute_result"
    }
   ],
   "source": [
    "randomForest6 = ensemble.RandomForestClassifier(class_weight = 'balanced')\n",
    "grid_search_forest2 = ms.GridSearchCV(randomForest6, grid_para_forest, scoring='accuracy', cv=5, n_jobs=-1)\n",
    "%time grid_search_forest2.fit(X_train, y_train)\n"
   ]
  },
  {
   "cell_type": "code",
   "execution_count": 190,
   "metadata": {},
   "outputs": [
    {
     "data": {
      "text/plain": [
       "{'criterion': 'entropy', 'max_depth': 21, 'n_estimators': 50}"
      ]
     },
     "execution_count": 190,
     "metadata": {},
     "output_type": "execute_result"
    }
   ],
   "source": [
    "grid_search_forest2.best_params_"
   ]
  },
  {
   "cell_type": "code",
   "execution_count": 191,
   "metadata": {},
   "outputs": [
    {
     "data": {
      "text/plain": [
       "0.933225914109119"
      ]
     },
     "execution_count": 191,
     "metadata": {},
     "output_type": "execute_result"
    }
   ],
   "source": [
    "grid_search_forest2.best_score_"
   ]
  },
  {
   "cell_type": "code",
   "execution_count": 224,
   "metadata": {},
   "outputs": [
    {
     "name": "stdout",
     "output_type": "stream",
     "text": [
      "Confusion Matrix: \n",
      " [[975  16]\n",
      " [ 51  40]] \n",
      "\n",
      "Area Under the Curve: 0.7117075658952551\n",
      "Classification Report: \n",
      "               precision    recall  f1-score   support\n",
      "\n",
      "           0       0.95      0.98      0.97       991\n",
      "           1       0.71      0.44      0.54        91\n",
      "\n",
      "    accuracy                           0.94      1082\n",
      "   macro avg       0.83      0.71      0.76      1082\n",
      "weighted avg       0.93      0.94      0.93      1082\n",
      " \n",
      "\n"
     ]
    }
   ],
   "source": [
    "y_pred = grid_search_forest2.predict(X_test)\n",
    "print('Confusion Matrix: \\n {} \\n'.format(confusion_matrix(y_test, y_pred)))\n",
    "print('Area Under the Curve: {}'.format(roc_auc_score(y_test, y_pred)))\n",
    "print('Classification Report: \\n {} \\n'.format(classification_report(y_test, y_pred)))"
   ]
  },
  {
   "cell_type": "markdown",
   "metadata": {},
   "source": [
    "### Feature Importance from Model with Best Accuracy Score"
   ]
  },
  {
   "cell_type": "code",
   "execution_count": 225,
   "metadata": {},
   "outputs": [
    {
     "data": {
      "text/plain": [
       "[b'Inpatient',\n",
       " b'ClmProcedureCode',\n",
       " b'ClmAdmitDiagnosisCode',\n",
       " b'ClmProcedureCode_count',\n",
       " b'ClmDiagnosisCode_count',\n",
       " b'InscClaimAmtReimbursed',\n",
       " b'DeductibleAmtPaid',\n",
       " b'4019_diagcode',\n",
       " b'RenalDiseaseIndicator',\n",
       " b'IPAnnualDeductibleAmt',\n",
       " b'Other_diagcode',\n",
       " b'Patient_Connections',\n",
       " b'IPAnnualReimbursementAmt',\n",
       " b'42731_diagcode',\n",
       " b'claim_Days',\n",
       " b'25000_diagcode',\n",
       " b'Age',\n",
       " b'ClaimID',\n",
       " b'2724_diagcode',\n",
       " b'2449_diagcode']"
      ]
     },
     "execution_count": 225,
     "metadata": {},
     "output_type": "execute_result"
    }
   ],
   "source": [
    "# Showing 20 most important features\n",
    "feature_importance = list(zip(final_df.columns, grid_search_forest2.best_estimator_.feature_importances_))\n",
    "dtype = [('feature', 'S30'), ('importance', 'float')]\n",
    "feature_importance = np.array(feature_importance, dtype=dtype)\n",
    "feature_sort = np.sort(feature_importance, order='importance')[::-1]\n",
    "[i for (i, j) in feature_sort[0:20]]"
   ]
  },
  {
   "cell_type": "code",
   "execution_count": 213,
   "metadata": {},
   "outputs": [
    {
     "data": {
      "text/plain": [
       "Text(0.5, 1.0, 'feature importance')"
      ]
     },
     "execution_count": 213,
     "metadata": {},
     "output_type": "execute_result"
    },
    {
     "data": {
      "image/png": "[encoded data removed]",
      "text/plain": [
       "<Figure size 1440x720 with 1 Axes>"
      ]
     },
     "metadata": {
      "needs_background": "light"
     },
     "output_type": "display_data"
    }
   ],
   "source": [
    "featureNames, featureScores = zip(*list(feature_sort))\n",
    "plt.figure(figsize=(20,10))\n",
    "plt.barh(range(len(featureScores)), featureScores, tick_label=featureNames)\n",
    "plt.title('feature importance')"
   ]
  },
  {
   "cell_type": "code",
   "execution_count": null,
   "metadata": {},
   "outputs": [],
   "source": []
  }
 ],
 "metadata": {
  "kernelspec": {
   "display_name": "Python 3",
   "language": "python",
   "name": "python3"
  },
  "language_info": {
   "codemirror_mode": {
    "name": "ipython",
    "version": 3
   },
   "file_extension": ".py",
   "mimetype": "text/x-python",
   "name": "python",
   "nbconvert_exporter": "python",
   "pygments_lexer": "ipython3",
   "version": "3.7.6"
  }
 },
 "nbformat": 4,
 "nbformat_minor": 4
}
