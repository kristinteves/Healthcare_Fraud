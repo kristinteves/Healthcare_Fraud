{
 "cells": [
  {
   "cell_type": "code",
   "execution_count": 86,
   "metadata": {},
   "outputs": [],
   "source": [
    "%matplotlib inline\n",
    "import matplotlib.pyplot as plt\n",
    "import seaborn as sns\n",
    "import numpy as np\n",
    "import pandas as pd\n",
    "from sklearn.metrics import confusion_matrix\n",
    "import math\n",
    "from sklearn import ensemble\n",
    "import sklearn.model_selection as ms\n",
    "from sklearn.model_selection import train_test_split\n",
    "from sklearn.metrics import fbeta_score, f1_score, accuracy_score, confusion_matrix, classification_report, roc_auc_score, precision_score, recall_score, precision_recall_curve\n",
    "from imblearn.ensemble import BalancedRandomForestClassifier\n",
    "from imblearn.over_sampling import SMOTE\n"
   ]
  },
  {
   "cell_type": "code",
   "execution_count": 87,
   "metadata": {},
   "outputs": [],
   "source": [
    "pd.options.display.max_columns = None\n",
    "pd.options.display.max_rows = None"
   ]
  },
  {
   "cell_type": "code",
   "execution_count": 91,
   "metadata": {},
   "outputs": [],
   "source": [
    "train_df = pd.read_csv('final_features.csv')\n",
    "target = pd.read_csv('train.csv')\n",
    "test_df = pd.read_csv('Test_Clean_data.csv', index_col=0)"
   ]
  },
  {
   "cell_type": "code",
   "execution_count": 92,
   "metadata": {},
   "outputs": [
    {
     "data": {
      "text/html": [
       "<div>\n",
       "<style scoped>\n",
       "    .dataframe tbody tr th:only-of-type {\n",
       "        vertical-align: middle;\n",
       "    }\n",
       "\n",
       "    .dataframe tbody tr th {\n",
       "        vertical-align: top;\n",
       "    }\n",
       "\n",
       "    .dataframe thead th {\n",
       "        text-align: right;\n",
       "    }\n",
       "</style>\n",
       "<table border=\"1\" class=\"dataframe\">\n",
       "  <thead>\n",
       "    <tr style=\"text-align: right;\">\n",
       "      <th></th>\n",
       "      <th>Provider</th>\n",
       "      <th>ClaimID</th>\n",
       "      <th>ClmAdmitDiagnosisCode</th>\n",
       "      <th>Inpatient</th>\n",
       "      <th>ClmProcedureCode</th>\n",
       "      <th>ClmProcedureCode_count</th>\n",
       "      <th>ClmDiagnosisCode_count</th>\n",
       "      <th>RenalDiseaseIndicator</th>\n",
       "      <th>duplicate</th>\n",
       "      <th>V5869_diag</th>\n",
       "      <th>V5861_diag</th>\n",
       "      <th>2724_diag</th>\n",
       "      <th>4011_diag</th>\n",
       "      <th>2449_diag</th>\n",
       "      <th>4019_diag</th>\n",
       "      <th>25000_diag</th>\n",
       "      <th>42731_diag</th>\n",
       "      <th>4019_proc</th>\n",
       "      <th>9904_proc</th>\n",
       "      <th>2724_proc</th>\n",
       "      <th>8154_proc</th>\n",
       "      <th>66_proc</th>\n",
       "      <th>3893_proc</th>\n",
       "      <th>3995_proc</th>\n",
       "      <th>4516_proc</th>\n",
       "      <th>3722_proc</th>\n",
       "      <th>8151_proc</th>\n",
       "      <th>8872_proc</th>\n",
       "      <th>5_state</th>\n",
       "      <th>10_state</th>\n",
       "      <th>33_state</th>\n",
       "      <th>45_state</th>\n",
       "      <th>14_state</th>\n",
       "      <th>39_state</th>\n",
       "      <th>Patient_Connections</th>\n",
       "      <th>AttPhys_Connections</th>\n",
       "      <th>InscClaimAmtReimbursed</th>\n",
       "      <th>DeductibleAmtPaid</th>\n",
       "      <th>treatment_days</th>\n",
       "      <th>Gender</th>\n",
       "      <th>IPAnnualReimbursementAmt</th>\n",
       "      <th>NoOfMonths_PartACov</th>\n",
       "      <th>NoOfMonths_PartBCov</th>\n",
       "      <th>IPAnnualDeductibleAmt</th>\n",
       "      <th>OPAnnualReimbursementAmt</th>\n",
       "      <th>OPAnnualDeductibleAmt</th>\n",
       "      <th>num_chronic</th>\n",
       "      <th>Age</th>\n",
       "      <th>claim_days</th>\n",
       "    </tr>\n",
       "  </thead>\n",
       "  <tbody>\n",
       "    <tr>\n",
       "      <th>0</th>\n",
       "      <td>PRV51001</td>\n",
       "      <td>25</td>\n",
       "      <td>11</td>\n",
       "      <td>5.0</td>\n",
       "      <td>2</td>\n",
       "      <td>3</td>\n",
       "      <td>80.0</td>\n",
       "      <td>8.0</td>\n",
       "      <td>12</td>\n",
       "      <td>1</td>\n",
       "      <td>0</td>\n",
       "      <td>2</td>\n",
       "      <td>0</td>\n",
       "      <td>1</td>\n",
       "      <td>3</td>\n",
       "      <td>1</td>\n",
       "      <td>2</td>\n",
       "      <td>0</td>\n",
       "      <td>0</td>\n",
       "      <td>1</td>\n",
       "      <td>0</td>\n",
       "      <td>0</td>\n",
       "      <td>0</td>\n",
       "      <td>0</td>\n",
       "      <td>0</td>\n",
       "      <td>0</td>\n",
       "      <td>0</td>\n",
       "      <td>0</td>\n",
       "      <td>0</td>\n",
       "      <td>0</td>\n",
       "      <td>0</td>\n",
       "      <td>0</td>\n",
       "      <td>0</td>\n",
       "      <td>0</td>\n",
       "      <td>24.0</td>\n",
       "      <td>14.0</td>\n",
       "      <td>4185.600000</td>\n",
       "      <td>213.600000</td>\n",
       "      <td>1.000000</td>\n",
       "      <td>0.640000</td>\n",
       "      <td>17606.000000</td>\n",
       "      <td>12.000000</td>\n",
       "      <td>12.000000</td>\n",
       "      <td>897.120000</td>\n",
       "      <td>2615.200000</td>\n",
       "      <td>463.920000</td>\n",
       "      <td>5.560000</td>\n",
       "      <td>77.880000</td>\n",
       "      <td>1.440000</td>\n",
       "    </tr>\n",
       "    <tr>\n",
       "      <th>1</th>\n",
       "      <td>PRV51003</td>\n",
       "      <td>132</td>\n",
       "      <td>78</td>\n",
       "      <td>62.0</td>\n",
       "      <td>39</td>\n",
       "      <td>48</td>\n",
       "      <td>693.0</td>\n",
       "      <td>29.0</td>\n",
       "      <td>29</td>\n",
       "      <td>7</td>\n",
       "      <td>6</td>\n",
       "      <td>16</td>\n",
       "      <td>3</td>\n",
       "      <td>12</td>\n",
       "      <td>25</td>\n",
       "      <td>15</td>\n",
       "      <td>11</td>\n",
       "      <td>3</td>\n",
       "      <td>0</td>\n",
       "      <td>1</td>\n",
       "      <td>2</td>\n",
       "      <td>1</td>\n",
       "      <td>2</td>\n",
       "      <td>2</td>\n",
       "      <td>1</td>\n",
       "      <td>2</td>\n",
       "      <td>0</td>\n",
       "      <td>0</td>\n",
       "      <td>0</td>\n",
       "      <td>23</td>\n",
       "      <td>0</td>\n",
       "      <td>0</td>\n",
       "      <td>0</td>\n",
       "      <td>0</td>\n",
       "      <td>117.0</td>\n",
       "      <td>44.0</td>\n",
       "      <td>4588.409091</td>\n",
       "      <td>502.166667</td>\n",
       "      <td>2.424242</td>\n",
       "      <td>0.590909</td>\n",
       "      <td>7568.181818</td>\n",
       "      <td>11.818182</td>\n",
       "      <td>11.871212</td>\n",
       "      <td>931.424242</td>\n",
       "      <td>2678.181818</td>\n",
       "      <td>737.121212</td>\n",
       "      <td>4.545455</td>\n",
       "      <td>69.083333</td>\n",
       "      <td>3.674242</td>\n",
       "    </tr>\n",
       "    <tr>\n",
       "      <th>2</th>\n",
       "      <td>PRV51004</td>\n",
       "      <td>149</td>\n",
       "      <td>28</td>\n",
       "      <td>0.0</td>\n",
       "      <td>0</td>\n",
       "      <td>0</td>\n",
       "      <td>385.0</td>\n",
       "      <td>23.0</td>\n",
       "      <td>76</td>\n",
       "      <td>2</td>\n",
       "      <td>4</td>\n",
       "      <td>12</td>\n",
       "      <td>6</td>\n",
       "      <td>8</td>\n",
       "      <td>22</td>\n",
       "      <td>8</td>\n",
       "      <td>3</td>\n",
       "      <td>0</td>\n",
       "      <td>0</td>\n",
       "      <td>0</td>\n",
       "      <td>0</td>\n",
       "      <td>0</td>\n",
       "      <td>0</td>\n",
       "      <td>0</td>\n",
       "      <td>0</td>\n",
       "      <td>0</td>\n",
       "      <td>0</td>\n",
       "      <td>0</td>\n",
       "      <td>0</td>\n",
       "      <td>6</td>\n",
       "      <td>0</td>\n",
       "      <td>0</td>\n",
       "      <td>4</td>\n",
       "      <td>0</td>\n",
       "      <td>138.0</td>\n",
       "      <td>38.0</td>\n",
       "      <td>350.134228</td>\n",
       "      <td>2.080537</td>\n",
       "      <td>0.000000</td>\n",
       "      <td>0.691275</td>\n",
       "      <td>4351.879195</td>\n",
       "      <td>11.865772</td>\n",
       "      <td>11.959732</td>\n",
       "      <td>434.953020</td>\n",
       "      <td>2194.899329</td>\n",
       "      <td>622.751678</td>\n",
       "      <td>4.342282</td>\n",
       "      <td>71.261745</td>\n",
       "      <td>1.429530</td>\n",
       "    </tr>\n",
       "    <tr>\n",
       "      <th>3</th>\n",
       "      <td>PRV51005</td>\n",
       "      <td>1165</td>\n",
       "      <td>252</td>\n",
       "      <td>0.0</td>\n",
       "      <td>0</td>\n",
       "      <td>0</td>\n",
       "      <td>3016.0</td>\n",
       "      <td>259.0</td>\n",
       "      <td>565</td>\n",
       "      <td>56</td>\n",
       "      <td>47</td>\n",
       "      <td>73</td>\n",
       "      <td>62</td>\n",
       "      <td>30</td>\n",
       "      <td>140</td>\n",
       "      <td>54</td>\n",
       "      <td>23</td>\n",
       "      <td>0</td>\n",
       "      <td>0</td>\n",
       "      <td>0</td>\n",
       "      <td>0</td>\n",
       "      <td>0</td>\n",
       "      <td>0</td>\n",
       "      <td>0</td>\n",
       "      <td>0</td>\n",
       "      <td>0</td>\n",
       "      <td>0</td>\n",
       "      <td>0</td>\n",
       "      <td>0</td>\n",
       "      <td>1</td>\n",
       "      <td>0</td>\n",
       "      <td>0</td>\n",
       "      <td>1</td>\n",
       "      <td>0</td>\n",
       "      <td>495.0</td>\n",
       "      <td>7.0</td>\n",
       "      <td>241.124464</td>\n",
       "      <td>3.175966</td>\n",
       "      <td>0.000000</td>\n",
       "      <td>0.561373</td>\n",
       "      <td>3623.991416</td>\n",
       "      <td>11.907296</td>\n",
       "      <td>11.939914</td>\n",
       "      <td>379.162232</td>\n",
       "      <td>2109.733906</td>\n",
       "      <td>636.328755</td>\n",
       "      <td>4.335622</td>\n",
       "      <td>69.526180</td>\n",
       "      <td>1.088412</td>\n",
       "    </tr>\n",
       "    <tr>\n",
       "      <th>4</th>\n",
       "      <td>PRV51007</td>\n",
       "      <td>72</td>\n",
       "      <td>17</td>\n",
       "      <td>3.0</td>\n",
       "      <td>1</td>\n",
       "      <td>1</td>\n",
       "      <td>215.0</td>\n",
       "      <td>11.0</td>\n",
       "      <td>31</td>\n",
       "      <td>2</td>\n",
       "      <td>7</td>\n",
       "      <td>5</td>\n",
       "      <td>3</td>\n",
       "      <td>6</td>\n",
       "      <td>10</td>\n",
       "      <td>6</td>\n",
       "      <td>2</td>\n",
       "      <td>0</td>\n",
       "      <td>0</td>\n",
       "      <td>0</td>\n",
       "      <td>0</td>\n",
       "      <td>0</td>\n",
       "      <td>0</td>\n",
       "      <td>0</td>\n",
       "      <td>0</td>\n",
       "      <td>0</td>\n",
       "      <td>0</td>\n",
       "      <td>0</td>\n",
       "      <td>0</td>\n",
       "      <td>0</td>\n",
       "      <td>0</td>\n",
       "      <td>0</td>\n",
       "      <td>0</td>\n",
       "      <td>0</td>\n",
       "      <td>58.0</td>\n",
       "      <td>10.0</td>\n",
       "      <td>468.194444</td>\n",
       "      <td>45.333333</td>\n",
       "      <td>0.222222</td>\n",
       "      <td>0.527778</td>\n",
       "      <td>3050.000000</td>\n",
       "      <td>11.833333</td>\n",
       "      <td>11.833333</td>\n",
       "      <td>445.000000</td>\n",
       "      <td>1729.722222</td>\n",
       "      <td>469.722222</td>\n",
       "      <td>4.166667</td>\n",
       "      <td>68.305556</td>\n",
       "      <td>0.958333</td>\n",
       "    </tr>\n",
       "  </tbody>\n",
       "</table>\n",
       "</div>"
      ],
      "text/plain": [
       "   Provider  ClaimID  ClmAdmitDiagnosisCode  Inpatient  ClmProcedureCode  \\\n",
       "0  PRV51001       25                     11        5.0                 2   \n",
       "1  PRV51003      132                     78       62.0                39   \n",
       "2  PRV51004      149                     28        0.0                 0   \n",
       "3  PRV51005     1165                    252        0.0                 0   \n",
       "4  PRV51007       72                     17        3.0                 1   \n",
       "\n",
       "   ClmProcedureCode_count  ClmDiagnosisCode_count  RenalDiseaseIndicator  \\\n",
       "0                       3                    80.0                    8.0   \n",
       "1                      48                   693.0                   29.0   \n",
       "2                       0                   385.0                   23.0   \n",
       "3                       0                  3016.0                  259.0   \n",
       "4                       1                   215.0                   11.0   \n",
       "\n",
       "   duplicate  V5869_diag  V5861_diag  2724_diag  4011_diag  2449_diag  \\\n",
       "0         12           1           0          2          0          1   \n",
       "1         29           7           6         16          3         12   \n",
       "2         76           2           4         12          6          8   \n",
       "3        565          56          47         73         62         30   \n",
       "4         31           2           7          5          3          6   \n",
       "\n",
       "   4019_diag  25000_diag  42731_diag  4019_proc  9904_proc  2724_proc  \\\n",
       "0          3           1           2          0          0          1   \n",
       "1         25          15          11          3          0          1   \n",
       "2         22           8           3          0          0          0   \n",
       "3        140          54          23          0          0          0   \n",
       "4         10           6           2          0          0          0   \n",
       "\n",
       "   8154_proc  66_proc  3893_proc  3995_proc  4516_proc  3722_proc  8151_proc  \\\n",
       "0          0        0          0          0          0          0          0   \n",
       "1          2        1          2          2          1          2          0   \n",
       "2          0        0          0          0          0          0          0   \n",
       "3          0        0          0          0          0          0          0   \n",
       "4          0        0          0          0          0          0          0   \n",
       "\n",
       "   8872_proc  5_state  10_state  33_state  45_state  14_state  39_state  \\\n",
       "0          0        0         0         0         0         0         0   \n",
       "1          0        0        23         0         0         0         0   \n",
       "2          0        0         6         0         0         4         0   \n",
       "3          0        0         1         0         0         1         0   \n",
       "4          0        0         0         0         0         0         0   \n",
       "\n",
       "   Patient_Connections  AttPhys_Connections  InscClaimAmtReimbursed  \\\n",
       "0                 24.0                 14.0             4185.600000   \n",
       "1                117.0                 44.0             4588.409091   \n",
       "2                138.0                 38.0              350.134228   \n",
       "3                495.0                  7.0              241.124464   \n",
       "4                 58.0                 10.0              468.194444   \n",
       "\n",
       "   DeductibleAmtPaid  treatment_days    Gender  IPAnnualReimbursementAmt  \\\n",
       "0         213.600000        1.000000  0.640000              17606.000000   \n",
       "1         502.166667        2.424242  0.590909               7568.181818   \n",
       "2           2.080537        0.000000  0.691275               4351.879195   \n",
       "3           3.175966        0.000000  0.561373               3623.991416   \n",
       "4          45.333333        0.222222  0.527778               3050.000000   \n",
       "\n",
       "   NoOfMonths_PartACov  NoOfMonths_PartBCov  IPAnnualDeductibleAmt  \\\n",
       "0            12.000000            12.000000             897.120000   \n",
       "1            11.818182            11.871212             931.424242   \n",
       "2            11.865772            11.959732             434.953020   \n",
       "3            11.907296            11.939914             379.162232   \n",
       "4            11.833333            11.833333             445.000000   \n",
       "\n",
       "   OPAnnualReimbursementAmt  OPAnnualDeductibleAmt  num_chronic        Age  \\\n",
       "0               2615.200000             463.920000     5.560000  77.880000   \n",
       "1               2678.181818             737.121212     4.545455  69.083333   \n",
       "2               2194.899329             622.751678     4.342282  71.261745   \n",
       "3               2109.733906             636.328755     4.335622  69.526180   \n",
       "4               1729.722222             469.722222     4.166667  68.305556   \n",
       "\n",
       "   claim_days  \n",
       "0    1.440000  \n",
       "1    3.674242  \n",
       "2    1.429530  \n",
       "3    1.088412  \n",
       "4    0.958333  "
      ]
     },
     "execution_count": 92,
     "metadata": {},
     "output_type": "execute_result"
    }
   ],
   "source": [
    "train_df.head()"
   ]
  },
  {
   "cell_type": "code",
   "execution_count": 93,
   "metadata": {},
   "outputs": [
    {
     "data": {
      "text/plain": [
       "Index(['Provider', 'ClaimID', 'ClmAdmitDiagnosisCode', 'Inpatient',\n",
       "       'ClmProcedureCode', 'ClmProcedureCode_count', 'ClmDiagnosisCode_count',\n",
       "       'RenalDiseaseIndicator', 'duplicate', 'V5869_diag', 'V5861_diag',\n",
       "       '2724_diag', '4011_diag', '2449_diag', '4019_diag', '25000_diag',\n",
       "       '42731_diag', '4019_proc', '9904_proc', '2724_proc', '8154_proc',\n",
       "       '66_proc', '3893_proc', '3995_proc', '4516_proc', '3722_proc',\n",
       "       '8151_proc', '8872_proc', '5_state', '10_state', '33_state', '45_state',\n",
       "       '14_state', '39_state', 'Patient_Connections', 'AttPhys_Connections',\n",
       "       'InscClaimAmtReimbursed', 'DeductibleAmtPaid', 'treatment_days',\n",
       "       'Gender', 'IPAnnualReimbursementAmt', 'NoOfMonths_PartACov',\n",
       "       'NoOfMonths_PartBCov', 'IPAnnualDeductibleAmt',\n",
       "       'OPAnnualReimbursementAmt', 'OPAnnualDeductibleAmt', 'num_chronic',\n",
       "       'Age', 'claim_days'],\n",
       "      dtype='object')"
      ]
     },
     "execution_count": 93,
     "metadata": {},
     "output_type": "execute_result"
    }
   ],
   "source": [
    "train_df.columns"
   ]
  },
  {
   "cell_type": "code",
   "execution_count": 94,
   "metadata": {},
   "outputs": [
    {
     "name": "stdout",
     "output_type": "stream",
     "text": [
      "(5410, 49)\n",
      "(5410, 2)\n",
      "(1353, 44)\n"
     ]
    }
   ],
   "source": [
    "print(train_df.shape)\n",
    "print(target.shape)\n",
    "print(test_df.shape)"
   ]
  },
  {
   "cell_type": "code",
   "execution_count": 95,
   "metadata": {},
   "outputs": [
    {
     "data": {
      "text/html": [
       "<div>\n",
       "<style scoped>\n",
       "    .dataframe tbody tr th:only-of-type {\n",
       "        vertical-align: middle;\n",
       "    }\n",
       "\n",
       "    .dataframe tbody tr th {\n",
       "        vertical-align: top;\n",
       "    }\n",
       "\n",
       "    .dataframe thead th {\n",
       "        text-align: right;\n",
       "    }\n",
       "</style>\n",
       "<table border=\"1\" class=\"dataframe\">\n",
       "  <thead>\n",
       "    <tr style=\"text-align: right;\">\n",
       "      <th></th>\n",
       "      <th>Provider</th>\n",
       "      <th>PotentialFraud</th>\n",
       "    </tr>\n",
       "  </thead>\n",
       "  <tbody>\n",
       "    <tr>\n",
       "      <th>0</th>\n",
       "      <td>PRV51001</td>\n",
       "      <td>0</td>\n",
       "    </tr>\n",
       "    <tr>\n",
       "      <th>1</th>\n",
       "      <td>PRV51003</td>\n",
       "      <td>1</td>\n",
       "    </tr>\n",
       "    <tr>\n",
       "      <th>2</th>\n",
       "      <td>PRV51004</td>\n",
       "      <td>0</td>\n",
       "    </tr>\n",
       "    <tr>\n",
       "      <th>3</th>\n",
       "      <td>PRV51005</td>\n",
       "      <td>1</td>\n",
       "    </tr>\n",
       "    <tr>\n",
       "      <th>4</th>\n",
       "      <td>PRV51007</td>\n",
       "      <td>0</td>\n",
       "    </tr>\n",
       "  </tbody>\n",
       "</table>\n",
       "</div>"
      ],
      "text/plain": [
       "   Provider  PotentialFraud\n",
       "0  PRV51001               0\n",
       "1  PRV51003               1\n",
       "2  PRV51004               0\n",
       "3  PRV51005               1\n",
       "4  PRV51007               0"
      ]
     },
     "execution_count": 95,
     "metadata": {},
     "output_type": "execute_result"
    }
   ],
   "source": [
    "target['PotentialFraud'].replace({'No':0, 'Yes':1}, inplace=True)\n",
    "target.head()"
   ]
  },
  {
   "cell_type": "code",
   "execution_count": 96,
   "metadata": {},
   "outputs": [
    {
     "data": {
      "text/plain": [
       "Text(0, 0.5, 'Frequency')"
      ]
     },
     "execution_count": 96,
     "metadata": {},
     "output_type": "execute_result"
    },
    {
     "data": {
      "image/png": "[encoded data removed]",
      "text/plain": [
       "<Figure size 432x288 with 1 Axes>"
      ]
     },
     "metadata": {
      "needs_background": "light"
     },
     "output_type": "display_data"
    }
   ],
   "source": [
    "target['PotentialFraud'].value_counts().plot(kind = 'bar')\n",
    "plt.title(\"Providers Flagged with Potential Fraud\")\n",
    "plt.xlabel(\"Potential Fraud\")\n",
    "plt.ylabel(\"Frequency\")"
   ]
  },
  {
   "cell_type": "code",
   "execution_count": 97,
   "metadata": {},
   "outputs": [],
   "source": [
    "final_df = pd.merge(train_df, target, on='Provider')"
   ]
  },
  {
   "cell_type": "code",
   "execution_count": 98,
   "metadata": {},
   "outputs": [],
   "source": [
    "final_df.drop('Provider', axis=1, inplace=True)"
   ]
  },
  {
   "cell_type": "code",
   "execution_count": 99,
   "metadata": {},
   "outputs": [
    {
     "data": {
      "text/html": [
       "<div>\n",
       "<style scoped>\n",
       "    .dataframe tbody tr th:only-of-type {\n",
       "        vertical-align: middle;\n",
       "    }\n",
       "\n",
       "    .dataframe tbody tr th {\n",
       "        vertical-align: top;\n",
       "    }\n",
       "\n",
       "    .dataframe thead th {\n",
       "        text-align: right;\n",
       "    }\n",
       "</style>\n",
       "<table border=\"1\" class=\"dataframe\">\n",
       "  <thead>\n",
       "    <tr style=\"text-align: right;\">\n",
       "      <th></th>\n",
       "      <th>ClaimID</th>\n",
       "      <th>ClmAdmitDiagnosisCode</th>\n",
       "      <th>Inpatient</th>\n",
       "      <th>ClmProcedureCode</th>\n",
       "      <th>ClmProcedureCode_count</th>\n",
       "      <th>ClmDiagnosisCode_count</th>\n",
       "      <th>RenalDiseaseIndicator</th>\n",
       "      <th>duplicate</th>\n",
       "      <th>V5869_diag</th>\n",
       "      <th>V5861_diag</th>\n",
       "      <th>2724_diag</th>\n",
       "      <th>4011_diag</th>\n",
       "      <th>2449_diag</th>\n",
       "      <th>4019_diag</th>\n",
       "      <th>25000_diag</th>\n",
       "      <th>42731_diag</th>\n",
       "      <th>4019_proc</th>\n",
       "      <th>9904_proc</th>\n",
       "      <th>2724_proc</th>\n",
       "      <th>8154_proc</th>\n",
       "      <th>66_proc</th>\n",
       "      <th>3893_proc</th>\n",
       "      <th>3995_proc</th>\n",
       "      <th>4516_proc</th>\n",
       "      <th>3722_proc</th>\n",
       "      <th>8151_proc</th>\n",
       "      <th>8872_proc</th>\n",
       "      <th>5_state</th>\n",
       "      <th>10_state</th>\n",
       "      <th>33_state</th>\n",
       "      <th>45_state</th>\n",
       "      <th>14_state</th>\n",
       "      <th>39_state</th>\n",
       "      <th>Patient_Connections</th>\n",
       "      <th>AttPhys_Connections</th>\n",
       "      <th>InscClaimAmtReimbursed</th>\n",
       "      <th>DeductibleAmtPaid</th>\n",
       "      <th>treatment_days</th>\n",
       "      <th>Gender</th>\n",
       "      <th>IPAnnualReimbursementAmt</th>\n",
       "      <th>NoOfMonths_PartACov</th>\n",
       "      <th>NoOfMonths_PartBCov</th>\n",
       "      <th>IPAnnualDeductibleAmt</th>\n",
       "      <th>OPAnnualReimbursementAmt</th>\n",
       "      <th>OPAnnualDeductibleAmt</th>\n",
       "      <th>num_chronic</th>\n",
       "      <th>Age</th>\n",
       "      <th>claim_days</th>\n",
       "      <th>PotentialFraud</th>\n",
       "    </tr>\n",
       "  </thead>\n",
       "  <tbody>\n",
       "    <tr>\n",
       "      <th>0</th>\n",
       "      <td>25</td>\n",
       "      <td>11</td>\n",
       "      <td>5.0</td>\n",
       "      <td>2</td>\n",
       "      <td>3</td>\n",
       "      <td>80.0</td>\n",
       "      <td>8.0</td>\n",
       "      <td>12</td>\n",
       "      <td>1</td>\n",
       "      <td>0</td>\n",
       "      <td>2</td>\n",
       "      <td>0</td>\n",
       "      <td>1</td>\n",
       "      <td>3</td>\n",
       "      <td>1</td>\n",
       "      <td>2</td>\n",
       "      <td>0</td>\n",
       "      <td>0</td>\n",
       "      <td>1</td>\n",
       "      <td>0</td>\n",
       "      <td>0</td>\n",
       "      <td>0</td>\n",
       "      <td>0</td>\n",
       "      <td>0</td>\n",
       "      <td>0</td>\n",
       "      <td>0</td>\n",
       "      <td>0</td>\n",
       "      <td>0</td>\n",
       "      <td>0</td>\n",
       "      <td>0</td>\n",
       "      <td>0</td>\n",
       "      <td>0</td>\n",
       "      <td>0</td>\n",
       "      <td>24.0</td>\n",
       "      <td>14.0</td>\n",
       "      <td>4185.600000</td>\n",
       "      <td>213.600000</td>\n",
       "      <td>1.000000</td>\n",
       "      <td>0.640000</td>\n",
       "      <td>17606.000000</td>\n",
       "      <td>12.000000</td>\n",
       "      <td>12.000000</td>\n",
       "      <td>897.120000</td>\n",
       "      <td>2615.200000</td>\n",
       "      <td>463.920000</td>\n",
       "      <td>5.560000</td>\n",
       "      <td>77.880000</td>\n",
       "      <td>1.440000</td>\n",
       "      <td>0</td>\n",
       "    </tr>\n",
       "    <tr>\n",
       "      <th>1</th>\n",
       "      <td>132</td>\n",
       "      <td>78</td>\n",
       "      <td>62.0</td>\n",
       "      <td>39</td>\n",
       "      <td>48</td>\n",
       "      <td>693.0</td>\n",
       "      <td>29.0</td>\n",
       "      <td>29</td>\n",
       "      <td>7</td>\n",
       "      <td>6</td>\n",
       "      <td>16</td>\n",
       "      <td>3</td>\n",
       "      <td>12</td>\n",
       "      <td>25</td>\n",
       "      <td>15</td>\n",
       "      <td>11</td>\n",
       "      <td>3</td>\n",
       "      <td>0</td>\n",
       "      <td>1</td>\n",
       "      <td>2</td>\n",
       "      <td>1</td>\n",
       "      <td>2</td>\n",
       "      <td>2</td>\n",
       "      <td>1</td>\n",
       "      <td>2</td>\n",
       "      <td>0</td>\n",
       "      <td>0</td>\n",
       "      <td>0</td>\n",
       "      <td>23</td>\n",
       "      <td>0</td>\n",
       "      <td>0</td>\n",
       "      <td>0</td>\n",
       "      <td>0</td>\n",
       "      <td>117.0</td>\n",
       "      <td>44.0</td>\n",
       "      <td>4588.409091</td>\n",
       "      <td>502.166667</td>\n",
       "      <td>2.424242</td>\n",
       "      <td>0.590909</td>\n",
       "      <td>7568.181818</td>\n",
       "      <td>11.818182</td>\n",
       "      <td>11.871212</td>\n",
       "      <td>931.424242</td>\n",
       "      <td>2678.181818</td>\n",
       "      <td>737.121212</td>\n",
       "      <td>4.545455</td>\n",
       "      <td>69.083333</td>\n",
       "      <td>3.674242</td>\n",
       "      <td>1</td>\n",
       "    </tr>\n",
       "    <tr>\n",
       "      <th>2</th>\n",
       "      <td>149</td>\n",
       "      <td>28</td>\n",
       "      <td>0.0</td>\n",
       "      <td>0</td>\n",
       "      <td>0</td>\n",
       "      <td>385.0</td>\n",
       "      <td>23.0</td>\n",
       "      <td>76</td>\n",
       "      <td>2</td>\n",
       "      <td>4</td>\n",
       "      <td>12</td>\n",
       "      <td>6</td>\n",
       "      <td>8</td>\n",
       "      <td>22</td>\n",
       "      <td>8</td>\n",
       "      <td>3</td>\n",
       "      <td>0</td>\n",
       "      <td>0</td>\n",
       "      <td>0</td>\n",
       "      <td>0</td>\n",
       "      <td>0</td>\n",
       "      <td>0</td>\n",
       "      <td>0</td>\n",
       "      <td>0</td>\n",
       "      <td>0</td>\n",
       "      <td>0</td>\n",
       "      <td>0</td>\n",
       "      <td>0</td>\n",
       "      <td>6</td>\n",
       "      <td>0</td>\n",
       "      <td>0</td>\n",
       "      <td>4</td>\n",
       "      <td>0</td>\n",
       "      <td>138.0</td>\n",
       "      <td>38.0</td>\n",
       "      <td>350.134228</td>\n",
       "      <td>2.080537</td>\n",
       "      <td>0.000000</td>\n",
       "      <td>0.691275</td>\n",
       "      <td>4351.879195</td>\n",
       "      <td>11.865772</td>\n",
       "      <td>11.959732</td>\n",
       "      <td>434.953020</td>\n",
       "      <td>2194.899329</td>\n",
       "      <td>622.751678</td>\n",
       "      <td>4.342282</td>\n",
       "      <td>71.261745</td>\n",
       "      <td>1.429530</td>\n",
       "      <td>0</td>\n",
       "    </tr>\n",
       "    <tr>\n",
       "      <th>3</th>\n",
       "      <td>1165</td>\n",
       "      <td>252</td>\n",
       "      <td>0.0</td>\n",
       "      <td>0</td>\n",
       "      <td>0</td>\n",
       "      <td>3016.0</td>\n",
       "      <td>259.0</td>\n",
       "      <td>565</td>\n",
       "      <td>56</td>\n",
       "      <td>47</td>\n",
       "      <td>73</td>\n",
       "      <td>62</td>\n",
       "      <td>30</td>\n",
       "      <td>140</td>\n",
       "      <td>54</td>\n",
       "      <td>23</td>\n",
       "      <td>0</td>\n",
       "      <td>0</td>\n",
       "      <td>0</td>\n",
       "      <td>0</td>\n",
       "      <td>0</td>\n",
       "      <td>0</td>\n",
       "      <td>0</td>\n",
       "      <td>0</td>\n",
       "      <td>0</td>\n",
       "      <td>0</td>\n",
       "      <td>0</td>\n",
       "      <td>0</td>\n",
       "      <td>1</td>\n",
       "      <td>0</td>\n",
       "      <td>0</td>\n",
       "      <td>1</td>\n",
       "      <td>0</td>\n",
       "      <td>495.0</td>\n",
       "      <td>7.0</td>\n",
       "      <td>241.124464</td>\n",
       "      <td>3.175966</td>\n",
       "      <td>0.000000</td>\n",
       "      <td>0.561373</td>\n",
       "      <td>3623.991416</td>\n",
       "      <td>11.907296</td>\n",
       "      <td>11.939914</td>\n",
       "      <td>379.162232</td>\n",
       "      <td>2109.733906</td>\n",
       "      <td>636.328755</td>\n",
       "      <td>4.335622</td>\n",
       "      <td>69.526180</td>\n",
       "      <td>1.088412</td>\n",
       "      <td>1</td>\n",
       "    </tr>\n",
       "    <tr>\n",
       "      <th>4</th>\n",
       "      <td>72</td>\n",
       "      <td>17</td>\n",
       "      <td>3.0</td>\n",
       "      <td>1</td>\n",
       "      <td>1</td>\n",
       "      <td>215.0</td>\n",
       "      <td>11.0</td>\n",
       "      <td>31</td>\n",
       "      <td>2</td>\n",
       "      <td>7</td>\n",
       "      <td>5</td>\n",
       "      <td>3</td>\n",
       "      <td>6</td>\n",
       "      <td>10</td>\n",
       "      <td>6</td>\n",
       "      <td>2</td>\n",
       "      <td>0</td>\n",
       "      <td>0</td>\n",
       "      <td>0</td>\n",
       "      <td>0</td>\n",
       "      <td>0</td>\n",
       "      <td>0</td>\n",
       "      <td>0</td>\n",
       "      <td>0</td>\n",
       "      <td>0</td>\n",
       "      <td>0</td>\n",
       "      <td>0</td>\n",
       "      <td>0</td>\n",
       "      <td>0</td>\n",
       "      <td>0</td>\n",
       "      <td>0</td>\n",
       "      <td>0</td>\n",
       "      <td>0</td>\n",
       "      <td>58.0</td>\n",
       "      <td>10.0</td>\n",
       "      <td>468.194444</td>\n",
       "      <td>45.333333</td>\n",
       "      <td>0.222222</td>\n",
       "      <td>0.527778</td>\n",
       "      <td>3050.000000</td>\n",
       "      <td>11.833333</td>\n",
       "      <td>11.833333</td>\n",
       "      <td>445.000000</td>\n",
       "      <td>1729.722222</td>\n",
       "      <td>469.722222</td>\n",
       "      <td>4.166667</td>\n",
       "      <td>68.305556</td>\n",
       "      <td>0.958333</td>\n",
       "      <td>0</td>\n",
       "    </tr>\n",
       "  </tbody>\n",
       "</table>\n",
       "</div>"
      ],
      "text/plain": [
       "   ClaimID  ClmAdmitDiagnosisCode  Inpatient  ClmProcedureCode  \\\n",
       "0       25                     11        5.0                 2   \n",
       "1      132                     78       62.0                39   \n",
       "2      149                     28        0.0                 0   \n",
       "3     1165                    252        0.0                 0   \n",
       "4       72                     17        3.0                 1   \n",
       "\n",
       "   ClmProcedureCode_count  ClmDiagnosisCode_count  RenalDiseaseIndicator  \\\n",
       "0                       3                    80.0                    8.0   \n",
       "1                      48                   693.0                   29.0   \n",
       "2                       0                   385.0                   23.0   \n",
       "3                       0                  3016.0                  259.0   \n",
       "4                       1                   215.0                   11.0   \n",
       "\n",
       "   duplicate  V5869_diag  V5861_diag  2724_diag  4011_diag  2449_diag  \\\n",
       "0         12           1           0          2          0          1   \n",
       "1         29           7           6         16          3         12   \n",
       "2         76           2           4         12          6          8   \n",
       "3        565          56          47         73         62         30   \n",
       "4         31           2           7          5          3          6   \n",
       "\n",
       "   4019_diag  25000_diag  42731_diag  4019_proc  9904_proc  2724_proc  \\\n",
       "0          3           1           2          0          0          1   \n",
       "1         25          15          11          3          0          1   \n",
       "2         22           8           3          0          0          0   \n",
       "3        140          54          23          0          0          0   \n",
       "4         10           6           2          0          0          0   \n",
       "\n",
       "   8154_proc  66_proc  3893_proc  3995_proc  4516_proc  3722_proc  8151_proc  \\\n",
       "0          0        0          0          0          0          0          0   \n",
       "1          2        1          2          2          1          2          0   \n",
       "2          0        0          0          0          0          0          0   \n",
       "3          0        0          0          0          0          0          0   \n",
       "4          0        0          0          0          0          0          0   \n",
       "\n",
       "   8872_proc  5_state  10_state  33_state  45_state  14_state  39_state  \\\n",
       "0          0        0         0         0         0         0         0   \n",
       "1          0        0        23         0         0         0         0   \n",
       "2          0        0         6         0         0         4         0   \n",
       "3          0        0         1         0         0         1         0   \n",
       "4          0        0         0         0         0         0         0   \n",
       "\n",
       "   Patient_Connections  AttPhys_Connections  InscClaimAmtReimbursed  \\\n",
       "0                 24.0                 14.0             4185.600000   \n",
       "1                117.0                 44.0             4588.409091   \n",
       "2                138.0                 38.0              350.134228   \n",
       "3                495.0                  7.0              241.124464   \n",
       "4                 58.0                 10.0              468.194444   \n",
       "\n",
       "   DeductibleAmtPaid  treatment_days    Gender  IPAnnualReimbursementAmt  \\\n",
       "0         213.600000        1.000000  0.640000              17606.000000   \n",
       "1         502.166667        2.424242  0.590909               7568.181818   \n",
       "2           2.080537        0.000000  0.691275               4351.879195   \n",
       "3           3.175966        0.000000  0.561373               3623.991416   \n",
       "4          45.333333        0.222222  0.527778               3050.000000   \n",
       "\n",
       "   NoOfMonths_PartACov  NoOfMonths_PartBCov  IPAnnualDeductibleAmt  \\\n",
       "0            12.000000            12.000000             897.120000   \n",
       "1            11.818182            11.871212             931.424242   \n",
       "2            11.865772            11.959732             434.953020   \n",
       "3            11.907296            11.939914             379.162232   \n",
       "4            11.833333            11.833333             445.000000   \n",
       "\n",
       "   OPAnnualReimbursementAmt  OPAnnualDeductibleAmt  num_chronic        Age  \\\n",
       "0               2615.200000             463.920000     5.560000  77.880000   \n",
       "1               2678.181818             737.121212     4.545455  69.083333   \n",
       "2               2194.899329             622.751678     4.342282  71.261745   \n",
       "3               2109.733906             636.328755     4.335622  69.526180   \n",
       "4               1729.722222             469.722222     4.166667  68.305556   \n",
       "\n",
       "   claim_days  PotentialFraud  \n",
       "0    1.440000               0  \n",
       "1    3.674242               1  \n",
       "2    1.429530               0  \n",
       "3    1.088412               1  \n",
       "4    0.958333               0  "
      ]
     },
     "execution_count": 99,
     "metadata": {},
     "output_type": "execute_result"
    }
   ],
   "source": [
    "final_df.head()"
   ]
  },
  {
   "cell_type": "code",
   "execution_count": null,
   "metadata": {},
   "outputs": [],
   "source": []
  },
  {
   "cell_type": "markdown",
   "metadata": {},
   "source": [
    "### Preparing data for train_test_split"
   ]
  },
  {
   "cell_type": "code",
   "execution_count": 100,
   "metadata": {},
   "outputs": [],
   "source": [
    "target = final_df['PotentialFraud']\n",
    "final_df.drop('PotentialFraud', axis=1, inplace=True)"
   ]
  },
  {
   "cell_type": "code",
   "execution_count": 101,
   "metadata": {},
   "outputs": [],
   "source": [
    "random_state = 0\n",
    "cv = 10\n",
    "X_train, X_test, y_train, y_test = train_test_split(final_df, target, test_size=0.3, random_state=random_state)\n"
   ]
  },
  {
   "cell_type": "code",
   "execution_count": 102,
   "metadata": {},
   "outputs": [
    {
     "data": {
      "text/plain": [
       "((3787, 48), (3787,), (1623, 48), (1623,))"
      ]
     },
     "execution_count": 102,
     "metadata": {},
     "output_type": "execute_result"
    }
   ],
   "source": [
    "X_train.shape, y_train.shape, X_test.shape, y_test.shape"
   ]
  },
  {
   "cell_type": "markdown",
   "metadata": {},
   "source": [
    "## Random Forest without tuning hyperparameters"
   ]
  },
  {
   "cell_type": "code",
   "execution_count": 243,
   "metadata": {},
   "outputs": [
    {
     "data": {
      "text/plain": [
       "RandomForestClassifier(random_state=0)"
      ]
     },
     "execution_count": 243,
     "metadata": {},
     "output_type": "execute_result"
    }
   ],
   "source": [
    "randomForest = ensemble.RandomForestClassifier()\n",
    "randomForest.set_params(random_state=random_state)\n",
    "randomForest.fit(X_train, y_train)  "
   ]
  },
  {
   "cell_type": "code",
   "execution_count": 244,
   "metadata": {},
   "outputs": [
    {
     "name": "stdout",
     "output_type": "stream",
     "text": [
      "Confusion Matrix: \n",
      " [[1445   29]\n",
      " [  80   69]] \n",
      "\n",
      "Accuracy: 0.9328404189772027\n",
      "Area Under the Curve: 0.7217064464134483\n",
      "F1: 0.5587044534412955\n",
      "F0.5: 0.6377079482439926\n",
      "F2: 0.49711815561959655\n",
      "Precision: 0.7040816326530612\n",
      "Classification Report: \n",
      "               precision    recall  f1-score   support\n",
      "\n",
      "           0       0.95      0.98      0.96      1474\n",
      "           1       0.70      0.46      0.56       149\n",
      "\n",
      "    accuracy                           0.93      1623\n",
      "   macro avg       0.83      0.72      0.76      1623\n",
      "weighted avg       0.93      0.93      0.93      1623\n",
      " \n",
      "\n"
     ]
    }
   ],
   "source": [
    "y_pred = randomForest.predict(X_test)\n",
    "print('Confusion Matrix: \\n {} \\n'.format(confusion_matrix(y_test, y_pred)))\n",
    "print('Accuracy: {}'.format(accuracy_score(y_test, y_pred)))\n",
    "print('Area Under the Curve: {}'.format(roc_auc_score(y_test, y_pred)))\n",
    "print('F1: {}'.format(f1_score(y_test, y_pred)))\n",
    "print('F0.5: {}'.format(fbeta_score(y_test, y_pred, beta=0.5)))\n",
    "print('F2: {}'.format(fbeta_score(y_test, y_pred, beta=2)))\n",
    "print('Precision: {}'.format(precision_score(y_test, y_pred)))\n",
    "print('Classification Report: \\n {} \\n'.format(classification_report(y_test, y_pred)))"
   ]
  },
  {
   "cell_type": "markdown",
   "metadata": {},
   "source": [
    "## Function for Creating Confusion Matrix"
   ]
  },
  {
   "cell_type": "code",
   "execution_count": 27,
   "metadata": {},
   "outputs": [],
   "source": [
    "def plot_cm(y_test, y_pred):\n",
    "    cm = confusion_matrix(y_test, y_pred)\n",
    "    group_names = ['TN','FP','FN','TP']\n",
    "    group_counts = ['{0:0.0f}'.format(value) for value in\n",
    "                cm.flatten()]\n",
    "    group_percentages = ['{0:.2%}'.format(value) for value in\n",
    "                     cm.flatten()/np.sum(cm)]\n",
    "    labels = [f'{v1}\\n{v2}\\n{v3}' for v1, v2, v3 in\n",
    "          zip(group_names,group_counts,group_percentages)]\n",
    "    labels = np.asarray(labels).reshape(2,2)\n",
    "    ax= plt.subplot()\n",
    "    sns.heatmap(cm/np.sum(cm), annot=labels, ax = ax, fmt='', cmap = \"Blues\"); #annot=True to annotate cells\n",
    "    # labels, title and ticks\n",
    "    ax.set_xlabel('Predicted labels');ax.set_ylabel('True labels')\n",
    "    ax.set_title('Confusion Matrix with Random Forest')\n",
    "    ax.xaxis.set_ticklabels(['Not Fraud', 'Potential Fraud']); ax.yaxis.set_ticklabels(['Not Fraud', 'Potential Fraud'])\n",
    "    return\n"
   ]
  },
  {
   "cell_type": "markdown",
   "metadata": {},
   "source": [
    "### Random Forest with Grid Search Cross Validation Optimizing Precision"
   ]
  },
  {
   "cell_type": "code",
   "execution_count": 33,
   "metadata": {},
   "outputs": [],
   "source": [
    "# set the parameter grid\n",
    "grid_para_forest = {\n",
    "    'criterion': ['gini', 'entropy'],\n",
    "    'max_depth': range(1, 31),\n",
    "    'n_estimators': range(10, 110, 10)\n",
    "}"
   ]
  },
  {
   "cell_type": "code",
   "execution_count": 138,
   "metadata": {},
   "outputs": [
    {
     "name": "stdout",
     "output_type": "stream",
     "text": [
      "CPU times: user 38.1 s, sys: 3.15 s, total: 41.2 s\n",
      "Wall time: 32min 22s\n"
     ]
    },
    {
     "data": {
      "text/plain": [
       "GridSearchCV(cv=10, estimator=RandomForestClassifier(random_state=0), n_jobs=-1,\n",
       "             param_grid={'criterion': ['gini', 'entropy'],\n",
       "                         'max_depth': range(1, 31),\n",
       "                         'n_estimators': range(10, 110, 10)},\n",
       "             scoring='precision')"
      ]
     },
     "execution_count": 138,
     "metadata": {},
     "output_type": "execute_result"
    }
   ],
   "source": [
    "randomForest_prec = ensemble.RandomForestClassifier(random_state=random_state)\n",
    "gridsearch_forest_prec = ms.GridSearchCV(randomForest_prec, grid_para_forest, scoring='precision', cv=cv, n_jobs=-1)\n",
    "%time gridsearch_forest_prec.fit(X_train, y_train)"
   ]
  },
  {
   "cell_type": "code",
   "execution_count": 139,
   "metadata": {},
   "outputs": [
    {
     "data": {
      "text/plain": [
       "{'criterion': 'gini', 'max_depth': 1, 'n_estimators': 30}"
      ]
     },
     "execution_count": 139,
     "metadata": {},
     "output_type": "execute_result"
    }
   ],
   "source": [
    "# get the best parameters\n",
    "gridsearch_forest_prec.best_params_"
   ]
  },
  {
   "cell_type": "code",
   "execution_count": 141,
   "metadata": {},
   "outputs": [
    {
     "name": "stdout",
     "output_type": "stream",
     "text": [
      "Confusion Matrix: \n",
      " [[1471    3]\n",
      " [ 126   23]] \n",
      "\n",
      "Accuracy: 0.9205175600739371\n",
      "Area Under the Curve: 0.5761635689763507\n",
      "F1: 0.2628571428571428\n",
      "F0.5: 0.4545454545454546\n",
      "F2: 0.18488745980707397\n",
      "Precision: 0.8846153846153846\n",
      "Classification Report: \n",
      "               precision    recall  f1-score   support\n",
      "\n",
      "           0       0.92      1.00      0.96      1474\n",
      "           1       0.88      0.15      0.26       149\n",
      "\n",
      "    accuracy                           0.92      1623\n",
      "   macro avg       0.90      0.58      0.61      1623\n",
      "weighted avg       0.92      0.92      0.89      1623\n",
      " \n",
      "\n"
     ]
    }
   ],
   "source": [
    "y_pred = gridsearch_forest_prec.best_estimator_.predict(X_test)\n",
    "print('Confusion Matrix: \\n {} \\n'.format(confusion_matrix(y_test, y_pred)))\n",
    "print('Accuracy: {}'.format(accuracy_score(y_test, y_pred)))\n",
    "print('Area Under the Curve: {}'.format(roc_auc_score(y_test, y_pred)))\n",
    "print('F1: {}'.format(f1_score(y_test, y_pred)))\n",
    "print('F0.5: {}'.format(fbeta_score(y_test, y_pred, beta=0.5)))\n",
    "print('F2: {}'.format(fbeta_score(y_test, y_pred, beta=2)))\n",
    "print('Precision: {}'.format(precision_score(y_test, y_pred)))\n",
    "print('Classification Report: \\n {} \\n'.format(classification_report(y_test, y_pred)))"
   ]
  },
  {
   "cell_type": "markdown",
   "metadata": {},
   "source": [
    "### Random Forest with Class Weight and Best Parameters from 'Precision' Scoring GridSearchCV"
   ]
  },
  {
   "cell_type": "markdown",
   "metadata": {},
   "source": [
    "#### Random Forest with \"balanced\" Class Weight\n"
   ]
  },
  {
   "cell_type": "code",
   "execution_count": 142,
   "metadata": {},
   "outputs": [
    {
     "data": {
      "text/plain": [
       "0.8273039345128069"
      ]
     },
     "execution_count": 142,
     "metadata": {},
     "output_type": "execute_result"
    }
   ],
   "source": [
    "# Class Weight = 'balanced'\n",
    "randomForest_prec2 = ensemble.RandomForestClassifier(random_state=random_state)\n",
    "randomForest_prec2.set_params(criterion = 'gini', max_depth = 1, n_estimators = 30, class_weight = 'balanced')\n",
    "randomForest_prec2.fit(X_train, y_train)\n",
    "randomForest_prec2.score(X_train, y_train)\n"
   ]
  },
  {
   "cell_type": "code",
   "execution_count": 143,
   "metadata": {},
   "outputs": [
    {
     "name": "stdout",
     "output_type": "stream",
     "text": [
      "Confusion Matrix: \n",
      " [[1228  246]\n",
      " [  24  125]] \n",
      "\n",
      "Accuracy: 0.833641404805915\n",
      "Area Under the Curve: 0.8360166829063954\n",
      "F1: 0.4807692307692308\n",
      "F0.5: 0.3827311696264543\n",
      "F2: 0.6463288521199586\n",
      "Precision: 0.33692722371967654\n",
      "Classification Report: \n",
      "               precision    recall  f1-score   support\n",
      "\n",
      "           0       0.98      0.83      0.90      1474\n",
      "           1       0.34      0.84      0.48       149\n",
      "\n",
      "    accuracy                           0.83      1623\n",
      "   macro avg       0.66      0.84      0.69      1623\n",
      "weighted avg       0.92      0.83      0.86      1623\n",
      " \n",
      "\n"
     ]
    }
   ],
   "source": [
    "y_pred = randomForest_prec2.predict(X_test)\n",
    "print('Confusion Matrix: \\n {} \\n'.format(confusion_matrix(y_test, y_pred)))\n",
    "print('Accuracy: {}'.format(accuracy_score(y_test, y_pred)))\n",
    "print('Area Under the Curve: {}'.format(roc_auc_score(y_test, y_pred)))\n",
    "print('F1: {}'.format(f1_score(y_test, y_pred)))\n",
    "print('F0.5: {}'.format(fbeta_score(y_test, y_pred, beta=0.5)))\n",
    "print('F2: {}'.format(fbeta_score(y_test, y_pred, beta=2)))\n",
    "print('Precision: {}'.format(precision_score(y_test, y_pred)))\n",
    "print('Classification Report: \\n {} \\n'.format(classification_report(y_test, y_pred)))"
   ]
  },
  {
   "cell_type": "markdown",
   "metadata": {},
   "source": [
    "#### Random Forest with \"balanced_subsample\" Class Weight"
   ]
  },
  {
   "cell_type": "code",
   "execution_count": 144,
   "metadata": {},
   "outputs": [
    {
     "data": {
      "text/plain": [
       "0.832057037232638"
      ]
     },
     "execution_count": 144,
     "metadata": {},
     "output_type": "execute_result"
    }
   ],
   "source": [
    "# Class Weight = balanced_subsample\n",
    "# This is the same as “balanced” except that weights are computed based on \n",
    "# the bootstrap sample for every tree grown\n",
    "\n",
    "randomForest_prec3 = ensemble.RandomForestClassifier(random_state=random_state)\n",
    "randomForest_prec3.set_params(criterion = 'gini', max_depth = 1, n_estimators = 30, class_weight = 'balanced_subsample')\n",
    "randomForest_prec3.fit(X_train, y_train)\n",
    "randomForest_prec3.score(X_train, y_train)\n"
   ]
  },
  {
   "cell_type": "code",
   "execution_count": 145,
   "metadata": {},
   "outputs": [
    {
     "name": "stdout",
     "output_type": "stream",
     "text": [
      "Confusion Matrix: \n",
      " [[1235  239]\n",
      " [  24  125]] \n",
      "\n",
      "Accuracy: 0.8379544054220579\n",
      "Area Under the Curve: 0.8383911740868567\n",
      "F1: 0.48732943469785583\n",
      "F0.5: 0.38940809968847356\n",
      "F2: 0.6510416666666667\n",
      "Precision: 0.3434065934065934\n",
      "Classification Report: \n",
      "               precision    recall  f1-score   support\n",
      "\n",
      "           0       0.98      0.84      0.90      1474\n",
      "           1       0.34      0.84      0.49       149\n",
      "\n",
      "    accuracy                           0.84      1623\n",
      "   macro avg       0.66      0.84      0.70      1623\n",
      "weighted avg       0.92      0.84      0.87      1623\n",
      " \n",
      "\n"
     ]
    }
   ],
   "source": [
    "y_pred = randomForest_prec3.predict(X_test)\n",
    "print('Confusion Matrix: \\n {} \\n'.format(confusion_matrix(y_test, y_pred)))\n",
    "print('Accuracy: {}'.format(accuracy_score(y_test, y_pred)))\n",
    "print('Area Under the Curve: {}'.format(roc_auc_score(y_test, y_pred)))\n",
    "print('F1: {}'.format(f1_score(y_test, y_pred)))\n",
    "print('F0.5: {}'.format(fbeta_score(y_test, y_pred, beta=0.5)))\n",
    "print('F2: {}'.format(fbeta_score(y_test, y_pred, beta=2)))\n",
    "print('Precision: {}'.format(precision_score(y_test, y_pred)))\n",
    "print('Classification Report: \\n {} \\n'.format(classification_report(y_test, y_pred)))"
   ]
  },
  {
   "cell_type": "markdown",
   "metadata": {},
   "source": [
    "#### Random Forest with Manual Class Weight"
   ]
  },
  {
   "cell_type": "code",
   "execution_count": 146,
   "metadata": {},
   "outputs": [
    {
     "data": {
      "text/plain": [
       "0    4904\n",
       "1     506\n",
       "Name: PotentialFraud, dtype: int64"
      ]
     },
     "execution_count": 146,
     "metadata": {},
     "output_type": "execute_result"
    }
   ],
   "source": [
    "target.value_counts()"
   ]
  },
  {
   "cell_type": "code",
   "execution_count": 147,
   "metadata": {},
   "outputs": [
    {
     "name": "stdout",
     "output_type": "stream",
     "text": [
      "0.10318107667210441\n"
     ]
    }
   ],
   "source": [
    "print(506/4904)\n",
    "# Class 1 is about 10 times more prevalent than class 0"
   ]
  },
  {
   "cell_type": "code",
   "execution_count": 148,
   "metadata": {},
   "outputs": [
    {
     "data": {
      "text/plain": [
       "0.8111961975178241"
      ]
     },
     "execution_count": 148,
     "metadata": {},
     "output_type": "execute_result"
    }
   ],
   "source": [
    "randomForest_prec4 = ensemble.RandomForestClassifier(random_state=random_state)\n",
    "randomForest_prec4.set_params(criterion = 'gini', max_depth = 1, n_estimators = 30, class_weight = {0:1, 1:10})\n",
    "randomForest_prec4.fit(X_train, y_train)\n",
    "randomForest_prec4.score(X_train, y_train)\n"
   ]
  },
  {
   "cell_type": "code",
   "execution_count": 149,
   "metadata": {},
   "outputs": [
    {
     "name": "stdout",
     "output_type": "stream",
     "text": [
      "Confusion Matrix: \n",
      " [[1211  263]\n",
      " [  21  128]] \n",
      "\n",
      "Accuracy: 0.8250154035736291\n",
      "Area Under the Curve: 0.840317175562092\n",
      "F1: 0.4740740740740741\n",
      "F0.5: 0.3736135434909516\n",
      "F2: 0.6484295845997975\n",
      "Precision: 0.3273657289002558\n",
      "Classification Report: \n",
      "               precision    recall  f1-score   support\n",
      "\n",
      "           0       0.98      0.82      0.90      1474\n",
      "           1       0.33      0.86      0.47       149\n",
      "\n",
      "    accuracy                           0.83      1623\n",
      "   macro avg       0.66      0.84      0.68      1623\n",
      "weighted avg       0.92      0.83      0.86      1623\n",
      " \n",
      "\n"
     ]
    }
   ],
   "source": [
    "y_pred = randomForest_prec4.predict(X_test)\n",
    "print('Confusion Matrix: \\n {} \\n'.format(confusion_matrix(y_test, y_pred)))\n",
    "print('Accuracy: {}'.format(accuracy_score(y_test, y_pred)))\n",
    "print('Area Under the Curve: {}'.format(roc_auc_score(y_test, y_pred)))\n",
    "print('F1: {}'.format(f1_score(y_test, y_pred)))\n",
    "print('F0.5: {}'.format(fbeta_score(y_test, y_pred, beta=0.5)))\n",
    "print('F2: {}'.format(fbeta_score(y_test, y_pred, beta=2)))\n",
    "print('Precision: {}'.format(precision_score(y_test, y_pred)))\n",
    "print('Classification Report: \\n {} \\n'.format(classification_report(y_test, y_pred)))"
   ]
  },
  {
   "cell_type": "code",
   "execution_count": 150,
   "metadata": {},
   "outputs": [
    {
     "data": {
      "image/png": "[encoded data removed]",
      "text/plain": [
       "<Figure size 432x288 with 2 Axes>"
      ]
     },
     "metadata": {
      "needs_background": "light"
     },
     "output_type": "display_data"
    }
   ],
   "source": [
    "plot_cm(y_test, y_pred)"
   ]
  },
  {
   "cell_type": "markdown",
   "metadata": {},
   "source": [
    "### Grid Search CV with \"precision\" scoring and Manual Class Weight"
   ]
  },
  {
   "cell_type": "code",
   "execution_count": 115,
   "metadata": {},
   "outputs": [
    {
     "name": "stdout",
     "output_type": "stream",
     "text": [
      "CPU times: user 40.4 s, sys: 3.06 s, total: 43.5 s\n",
      "Wall time: 32min 13s\n"
     ]
    },
    {
     "data": {
      "text/plain": [
       "GridSearchCV(cv=10,\n",
       "             estimator=RandomForestClassifier(class_weight={0: 1, 1: 10},\n",
       "                                              random_state=0),\n",
       "             n_jobs=-1,\n",
       "             param_grid={'criterion': ['gini', 'entropy'],\n",
       "                         'max_depth': range(1, 31),\n",
       "                         'n_estimators': range(10, 110, 10)},\n",
       "             scoring='precision')"
      ]
     },
     "execution_count": 115,
     "metadata": {},
     "output_type": "execute_result"
    }
   ],
   "source": [
    "randomForest_prec5 = ensemble.RandomForestClassifier(class_weight = {0:1, 1:10}, random_state=random_state)\n",
    "gridsearch_forest_prec2 = ms.GridSearchCV(randomForest_prec5, grid_para_forest, scoring='precision', cv=cv, n_jobs=-1)\n",
    "%time gridsearch_forest_prec2.fit(X_train, y_train)\n"
   ]
  },
  {
   "cell_type": "code",
   "execution_count": 116,
   "metadata": {},
   "outputs": [
    {
     "data": {
      "text/plain": [
       "{'criterion': 'entropy', 'max_depth': 29, 'n_estimators': 30}"
      ]
     },
     "execution_count": 116,
     "metadata": {},
     "output_type": "execute_result"
    }
   ],
   "source": [
    "gridsearch_forest_prec2.best_params_"
   ]
  },
  {
   "cell_type": "code",
   "execution_count": 117,
   "metadata": {},
   "outputs": [
    {
     "name": "stdout",
     "output_type": "stream",
     "text": [
      "Confusion Matrix: \n",
      " [[1450   24]\n",
      " [  83   66]] \n",
      "\n",
      "Accuracy: 0.9340727048675292\n",
      "Area Under the Curve: 0.7133353974483895\n",
      "F1: 0.5523012552301254\n",
      "F0.5: 0.6483300589390962\n",
      "F2: 0.4810495626822158\n",
      "Precision: 0.7333333333333333\n",
      "Classification Report: \n",
      "               precision    recall  f1-score   support\n",
      "\n",
      "           0       0.95      0.98      0.96      1474\n",
      "           1       0.73      0.44      0.55       149\n",
      "\n",
      "    accuracy                           0.93      1623\n",
      "   macro avg       0.84      0.71      0.76      1623\n",
      "weighted avg       0.93      0.93      0.93      1623\n",
      " \n",
      "\n"
     ]
    }
   ],
   "source": [
    "y_pred = gridsearch_forest_prec2.predict(X_test)\n",
    "print('Confusion Matrix: \\n {} \\n'.format(confusion_matrix(y_test, y_pred)))\n",
    "print('Accuracy: {}'.format(accuracy_score(y_test, y_pred)))\n",
    "print('Area Under the Curve: {}'.format(roc_auc_score(y_test, y_pred)))\n",
    "print('F1: {}'.format(f1_score(y_test, y_pred)))\n",
    "print('F0.5: {}'.format(fbeta_score(y_test, y_pred, beta=0.5)))\n",
    "print('F2: {}'.format(fbeta_score(y_test, y_pred, beta=2)))\n",
    "print('Precision: {}'.format(precision_score(y_test, y_pred)))\n",
    "print('Classification Report: \\n {} \\n'.format(classification_report(y_test, y_pred)))"
   ]
  },
  {
   "cell_type": "code",
   "execution_count": 118,
   "metadata": {},
   "outputs": [
    {
     "data": {
      "image/png": "[encoded data removed]",
      "text/plain": [
       "<Figure size 432x288 with 2 Axes>"
      ]
     },
     "metadata": {
      "needs_background": "light"
     },
     "output_type": "display_data"
    }
   ],
   "source": [
    "plot_cm(y_test, y_pred)"
   ]
  },
  {
   "cell_type": "markdown",
   "metadata": {},
   "source": [
    "### Grid Search CV with \"precision\" scoring and 'balanced' Class Weight\n"
   ]
  },
  {
   "cell_type": "code",
   "execution_count": 109,
   "metadata": {
    "scrolled": true
   },
   "outputs": [
    {
     "name": "stdout",
     "output_type": "stream",
     "text": [
      "CPU times: user 40 s, sys: 3.18 s, total: 43.2 s\n",
      "Wall time: 30min 37s\n"
     ]
    },
    {
     "data": {
      "text/plain": [
       "GridSearchCV(cv=10,\n",
       "             estimator=RandomForestClassifier(class_weight='balanced',\n",
       "                                              random_state=0),\n",
       "             n_jobs=-1,\n",
       "             param_grid={'criterion': ['gini', 'entropy'],\n",
       "                         'max_depth': range(1, 31),\n",
       "                         'n_estimators': range(10, 110, 10)},\n",
       "             scoring='precision')"
      ]
     },
     "execution_count": 109,
     "metadata": {},
     "output_type": "execute_result"
    }
   ],
   "source": [
    "randomForest_prec6 = ensemble.RandomForestClassifier(class_weight = 'balanced', random_state=random_state)\n",
    "gridsearch_forest_prec3 = ms.GridSearchCV(randomForest_prec6, grid_para_forest, scoring='precision', cv=cv, n_jobs=-1)\n",
    "%time gridsearch_forest_prec3.fit(X_train, y_train)\n"
   ]
  },
  {
   "cell_type": "code",
   "execution_count": 110,
   "metadata": {},
   "outputs": [
    {
     "data": {
      "text/plain": [
       "{'criterion': 'entropy', 'max_depth': 29, 'n_estimators': 100}"
      ]
     },
     "execution_count": 110,
     "metadata": {},
     "output_type": "execute_result"
    }
   ],
   "source": [
    "# get the best parameters\n",
    "gridsearch_forest_prec3.best_params_"
   ]
  },
  {
   "cell_type": "code",
   "execution_count": 111,
   "metadata": {},
   "outputs": [
    {
     "name": "stdout",
     "output_type": "stream",
     "text": [
      "Confusion Matrix: \n",
      " [[1455   19]\n",
      " [  85   64]] \n",
      "\n",
      "Accuracy: 0.9359211337030191\n",
      "Area Under the Curve: 0.7083200531813173\n",
      "F1: 0.5517241379310345\n",
      "F0.5: 0.6652806652806653\n",
      "F2: 0.47128129602356406\n",
      "Precision: 0.7710843373493976\n",
      "Classification Report: \n",
      "               precision    recall  f1-score   support\n",
      "\n",
      "           0       0.94      0.99      0.97      1474\n",
      "           1       0.77      0.43      0.55       149\n",
      "\n",
      "    accuracy                           0.94      1623\n",
      "   macro avg       0.86      0.71      0.76      1623\n",
      "weighted avg       0.93      0.94      0.93      1623\n",
      " \n",
      "\n"
     ]
    }
   ],
   "source": [
    "y_pred = gridsearch_forest_prec3.best_estimator_.predict(X_test)\n",
    "print('Confusion Matrix: \\n {} \\n'.format(confusion_matrix(y_test, y_pred)))\n",
    "print('Accuracy: {}'.format(accuracy_score(y_test, y_pred)))\n",
    "print('Area Under the Curve: {}'.format(roc_auc_score(y_test, y_pred)))\n",
    "print('F1: {}'.format(f1_score(y_test, y_pred)))\n",
    "print('F0.5: {}'.format(fbeta_score(y_test, y_pred, beta=0.5)))\n",
    "print('F2: {}'.format(fbeta_score(y_test, y_pred, beta=2)))\n",
    "print('Precision: {}'.format(precision_score(y_test, y_pred)))\n",
    "print('Classification Report: \\n {} \\n'.format(classification_report(y_test, y_pred)))"
   ]
  },
  {
   "cell_type": "code",
   "execution_count": 112,
   "metadata": {},
   "outputs": [
    {
     "data": {
      "image/png": "[encoded data removed]",
      "text/plain": [
       "<Figure size 432x288 with 2 Axes>"
      ]
     },
     "metadata": {
      "needs_background": "light"
     },
     "output_type": "display_data"
    }
   ],
   "source": [
    "plot_cm(y_test, y_pred)"
   ]
  },
  {
   "cell_type": "markdown",
   "metadata": {},
   "source": [
    "### Grid Search CV with \"precision\" scoring and 'balanced_subsample' Class Weight\n"
   ]
  },
  {
   "cell_type": "code",
   "execution_count": 105,
   "metadata": {},
   "outputs": [
    {
     "name": "stdout",
     "output_type": "stream",
     "text": [
      "CPU times: user 38.7 s, sys: 3.01 s, total: 41.7 s\n",
      "Wall time: 36min 9s\n"
     ]
    },
    {
     "data": {
      "text/plain": [
       "GridSearchCV(cv=10,\n",
       "             estimator=RandomForestClassifier(class_weight='balanced_subsample',\n",
       "                                              random_state=0),\n",
       "             n_jobs=-1,\n",
       "             param_grid={'criterion': ['gini', 'entropy'],\n",
       "                         'max_depth': range(1, 31),\n",
       "                         'n_estimators': range(10, 110, 10)},\n",
       "             scoring='precision')"
      ]
     },
     "execution_count": 105,
     "metadata": {},
     "output_type": "execute_result"
    }
   ],
   "source": [
    "randomForest_prec7 = ensemble.RandomForestClassifier(class_weight = 'balanced_subsample', random_state=random_state)\n",
    "gridsearch_forest_prec4 = ms.GridSearchCV(randomForest_prec7, grid_para_forest, scoring='precision', cv=cv, n_jobs=-1)\n",
    "%time gridsearch_forest_prec4.fit(X_train, y_train)\n"
   ]
  },
  {
   "cell_type": "code",
   "execution_count": 106,
   "metadata": {},
   "outputs": [
    {
     "data": {
      "text/plain": [
       "{'criterion': 'entropy', 'max_depth': 24, 'n_estimators': 30}"
      ]
     },
     "execution_count": 106,
     "metadata": {},
     "output_type": "execute_result"
    }
   ],
   "source": [
    "# get the best parameters\n",
    "gridsearch_forest_prec4.best_params_"
   ]
  },
  {
   "cell_type": "code",
   "execution_count": 107,
   "metadata": {},
   "outputs": [
    {
     "name": "stdout",
     "output_type": "stream",
     "text": [
      "Confusion Matrix: \n",
      " [[1455   19]\n",
      " [  88   61]] \n",
      "\n",
      "Accuracy: 0.9340727048675292\n",
      "Area Under the Curve: 0.6982529390873576\n",
      "F1: 0.5327510917030568\n",
      "F0.5: 0.650319829424307\n",
      "F2: 0.45118343195266275\n",
      "Precision: 0.7625\n",
      "Classification Report: \n",
      "               precision    recall  f1-score   support\n",
      "\n",
      "           0       0.94      0.99      0.96      1474\n",
      "           1       0.76      0.41      0.53       149\n",
      "\n",
      "    accuracy                           0.93      1623\n",
      "   macro avg       0.85      0.70      0.75      1623\n",
      "weighted avg       0.93      0.93      0.92      1623\n",
      " \n",
      "\n"
     ]
    }
   ],
   "source": [
    "y_pred = gridsearch_forest_prec4.best_estimator_.predict(X_test)\n",
    "print('Confusion Matrix: \\n {} \\n'.format(confusion_matrix(y_test, y_pred)))\n",
    "print('Accuracy: {}'.format(accuracy_score(y_test, y_pred)))\n",
    "print('Area Under the Curve: {}'.format(roc_auc_score(y_test, y_pred)))\n",
    "print('F1: {}'.format(f1_score(y_test, y_pred)))\n",
    "print('F0.5: {}'.format(fbeta_score(y_test, y_pred, beta=0.5)))\n",
    "print('F2: {}'.format(fbeta_score(y_test, y_pred, beta=2)))\n",
    "print('Precision: {}'.format(precision_score(y_test, y_pred)))\n",
    "print('Classification Report: \\n {} \\n'.format(classification_report(y_test, y_pred)))"
   ]
  },
  {
   "cell_type": "code",
   "execution_count": 108,
   "metadata": {},
   "outputs": [
    {
     "data": {
      "image/png": "[encoded data removed]",
      "text/plain": [
       "<Figure size 432x288 with 2 Axes>"
      ]
     },
     "metadata": {
      "needs_background": "light"
     },
     "output_type": "display_data"
    }
   ],
   "source": [
    "plot_cm(y_test, y_pred)"
   ]
  },
  {
   "cell_type": "markdown",
   "metadata": {},
   "source": [
    "## Grid Search CV with \"f1\" scoring and 'balanced' Class Weight\n"
   ]
  },
  {
   "cell_type": "code",
   "execution_count": 132,
   "metadata": {},
   "outputs": [
    {
     "name": "stdout",
     "output_type": "stream",
     "text": [
      "CPU times: user 39.4 s, sys: 3.22 s, total: 42.6 s\n",
      "Wall time: 31min 17s\n"
     ]
    },
    {
     "data": {
      "text/plain": [
       "GridSearchCV(cv=10,\n",
       "             estimator=RandomForestClassifier(class_weight='balanced',\n",
       "                                              random_state=0),\n",
       "             n_jobs=-1,\n",
       "             param_grid={'criterion': ['gini', 'entropy'],\n",
       "                         'max_depth': range(1, 31),\n",
       "                         'n_estimators': range(10, 110, 10)},\n",
       "             scoring='f1')"
      ]
     },
     "execution_count": 132,
     "metadata": {},
     "output_type": "execute_result"
    }
   ],
   "source": [
    "randomForest_f1 = ensemble.RandomForestClassifier(class_weight='balanced', random_state=random_state)\n",
    "gridsearch_forest_f1 = ms.GridSearchCV(randomForest_f1, grid_para_forest, scoring='f1', cv=cv, n_jobs=-1)\n",
    "%time gridsearch_forest_f1.fit(X_train, y_train)\n"
   ]
  },
  {
   "cell_type": "code",
   "execution_count": 133,
   "metadata": {},
   "outputs": [
    {
     "data": {
      "text/plain": [
       "{'criterion': 'entropy', 'max_depth': 8, 'n_estimators': 40}"
      ]
     },
     "execution_count": 133,
     "metadata": {},
     "output_type": "execute_result"
    }
   ],
   "source": [
    "# get the best parameters\n",
    "gridsearch_forest_f1.best_params_"
   ]
  },
  {
   "cell_type": "code",
   "execution_count": 134,
   "metadata": {},
   "outputs": [
    {
     "name": "stdout",
     "output_type": "stream",
     "text": [
      "Confusion Matrix: \n",
      " [[1369  105]\n",
      " [  47  102]] \n",
      "\n",
      "Accuracy: 0.9063462723351817\n",
      "Area Under the Curve: 0.806664511487711\n",
      "F1: 0.5730337078651685\n",
      "F0.5: 0.5220061412487206\n",
      "F2: 0.6351183063511832\n",
      "Precision: 0.4927536231884058\n",
      "Classification Report: \n",
      "               precision    recall  f1-score   support\n",
      "\n",
      "           0       0.97      0.93      0.95      1474\n",
      "           1       0.49      0.68      0.57       149\n",
      "\n",
      "    accuracy                           0.91      1623\n",
      "   macro avg       0.73      0.81      0.76      1623\n",
      "weighted avg       0.92      0.91      0.91      1623\n",
      " \n",
      "\n"
     ]
    }
   ],
   "source": [
    "y_pred = gridsearch_forest_f1.best_estimator_.predict(X_test)\n",
    "print('Confusion Matrix: \\n {} \\n'.format(confusion_matrix(y_test, y_pred)))\n",
    "print('Accuracy: {}'.format(accuracy_score(y_test, y_pred)))\n",
    "print('Area Under the Curve: {}'.format(roc_auc_score(y_test, y_pred)))\n",
    "print('F1: {}'.format(f1_score(y_test, y_pred)))\n",
    "print('F0.5: {}'.format(fbeta_score(y_test, y_pred, beta=0.5)))\n",
    "print('F2: {}'.format(fbeta_score(y_test, y_pred, beta=2)))\n",
    "print('Precision: {}'.format(precision_score(y_test, y_pred)))\n",
    "print('Classification Report: \\n {} \\n'.format(classification_report(y_test, y_pred)))"
   ]
  },
  {
   "cell_type": "code",
   "execution_count": 135,
   "metadata": {},
   "outputs": [
    {
     "data": {
      "image/png": "[encoded data removed]",
      "text/plain": [
       "<Figure size 432x288 with 2 Axes>"
      ]
     },
     "metadata": {
      "needs_background": "light"
     },
     "output_type": "display_data"
    }
   ],
   "source": [
    "plot_cm(y_test, y_pred)"
   ]
  },
  {
   "cell_type": "code",
   "execution_count": 114,
   "metadata": {},
   "outputs": [],
   "source": []
  },
  {
   "cell_type": "markdown",
   "metadata": {},
   "source": [
    "## BalancedRandomForestClassifier\n",
    "### from imblearn.ensemble import BalancedRandomForestClassifier"
   ]
  },
  {
   "cell_type": "code",
   "execution_count": 128,
   "metadata": {},
   "outputs": [
    {
     "name": "stdout",
     "output_type": "stream",
     "text": [
      "CPU times: user 40 s, sys: 3.15 s, total: 43.1 s\n",
      "Wall time: 27min 20s\n"
     ]
    },
    {
     "data": {
      "text/plain": [
       "GridSearchCV(cv=10, estimator=BalancedRandomForestClassifier(random_state=0),\n",
       "             n_jobs=-1,\n",
       "             param_grid={'criterion': ['gini', 'entropy'],\n",
       "                         'max_depth': range(1, 31),\n",
       "                         'n_estimators': range(10, 110, 10)},\n",
       "             scoring='precision')"
      ]
     },
     "execution_count": 128,
     "metadata": {},
     "output_type": "execute_result"
    }
   ],
   "source": [
    "randomForest_balanced = BalancedRandomForestClassifier(random_state=random_state)\n",
    "gridsearch_forest_balanced = ms.GridSearchCV(randomForest_balanced, grid_para_forest, scoring='precision', cv=cv, n_jobs=-1)\n",
    "%time gridsearch_forest_balanced.fit(X_train, y_train)\n"
   ]
  },
  {
   "cell_type": "code",
   "execution_count": 129,
   "metadata": {},
   "outputs": [
    {
     "name": "stdout",
     "output_type": "stream",
     "text": [
      "Confusion Matrix: \n",
      " [[1272  202]\n",
      " [  28  121]] \n",
      "\n",
      "Accuracy: 0.8582871226124461\n",
      "Area Under the Curve: 0.8375192372487776\n",
      "F1: 0.5127118644067796\n",
      "F0.5: 0.4198473282442748\n",
      "F2: 0.6583242655059847\n",
      "Precision: 0.3746130030959752\n",
      "Classification Report: \n",
      "               precision    recall  f1-score   support\n",
      "\n",
      "           0       0.98      0.86      0.92      1474\n",
      "           1       0.37      0.81      0.51       149\n",
      "\n",
      "    accuracy                           0.86      1623\n",
      "   macro avg       0.68      0.84      0.71      1623\n",
      "weighted avg       0.92      0.86      0.88      1623\n",
      " \n",
      "\n"
     ]
    }
   ],
   "source": [
    "y_pred = gridsearch_forest_balanced.best_estimator_.predict(X_test)\n",
    "print('Confusion Matrix: \\n {} \\n'.format(confusion_matrix(y_test, y_pred)))\n",
    "print('Accuracy: {}'.format(accuracy_score(y_test, y_pred)))\n",
    "print('Area Under the Curve: {}'.format(roc_auc_score(y_test, y_pred)))\n",
    "print('F1: {}'.format(f1_score(y_test, y_pred)))\n",
    "print('F0.5: {}'.format(fbeta_score(y_test, y_pred, beta=0.5)))\n",
    "print('F2: {}'.format(fbeta_score(y_test, y_pred, beta=2)))\n",
    "print('Precision: {}'.format(precision_score(y_test, y_pred)))\n",
    "print('Classification Report: \\n {} \\n'.format(classification_report(y_test, y_pred)))"
   ]
  },
  {
   "cell_type": "code",
   "execution_count": 130,
   "metadata": {},
   "outputs": [
    {
     "data": {
      "image/png": "[encoded data removed]",
      "text/plain": [
       "<Figure size 432x288 with 2 Axes>"
      ]
     },
     "metadata": {
      "needs_background": "light"
     },
     "output_type": "display_data"
    }
   ],
   "source": [
    "plot_cm(y_test, y_pred)"
   ]
  },
  {
   "cell_type": "markdown",
   "metadata": {},
   "source": [
    "## Random Forest and SMOTE"
   ]
  },
  {
   "cell_type": "code",
   "execution_count": 119,
   "metadata": {},
   "outputs": [
    {
     "data": {
      "text/plain": [
       "3430"
      ]
     },
     "execution_count": 119,
     "metadata": {},
     "output_type": "execute_result"
    }
   ],
   "source": [
    "# oversampler = SMOTE(random_state=random_state)\n",
    "os_Xtrain, os_ytrain = SMOTE(random_state=random_state).fit_resample(X_train, y_train)\n",
    "len(os_ytrain[os_ytrain==1])"
   ]
  },
  {
   "cell_type": "code",
   "execution_count": 120,
   "metadata": {},
   "outputs": [
    {
     "data": {
      "text/plain": [
       "357"
      ]
     },
     "execution_count": 120,
     "metadata": {},
     "output_type": "execute_result"
    }
   ],
   "source": [
    "len(y_train[y_train==1])"
   ]
  },
  {
   "cell_type": "code",
   "execution_count": 124,
   "metadata": {},
   "outputs": [
    {
     "data": {
      "text/plain": [
       "RandomForestClassifier(criterion='entropy', max_depth=28, n_estimators=20,\n",
       "                       random_state=0)"
      ]
     },
     "execution_count": 124,
     "metadata": {},
     "output_type": "execute_result"
    }
   ],
   "source": [
    "randomforest_SMOTE = ensemble.RandomForestClassifier()\n",
    "randomforest_SMOTE.set_params(criterion = 'entropy', max_depth = 28, n_estimators = 20, random_state=random_state)\n",
    "randomforest_SMOTE.fit(os_Xtrain, os_ytrain)"
   ]
  },
  {
   "cell_type": "code",
   "execution_count": 125,
   "metadata": {},
   "outputs": [
    {
     "name": "stdout",
     "output_type": "stream",
     "text": [
      "Confusion Matrix: \n",
      " [[1381   93]\n",
      " [  49  100]] \n",
      "\n",
      "Accuracy: 0.9125077017868145\n",
      "Area Under the Curve: 0.8040236584011\n",
      "F1: 0.5847953216374269\n",
      "F0.5: 0.5428881650380021\n",
      "F2: 0.6337135614702155\n",
      "Precision: 0.5181347150259067\n",
      "Classification Report: \n",
      "               precision    recall  f1-score   support\n",
      "\n",
      "           0       0.97      0.94      0.95      1474\n",
      "           1       0.52      0.67      0.58       149\n",
      "\n",
      "    accuracy                           0.91      1623\n",
      "   macro avg       0.74      0.80      0.77      1623\n",
      "weighted avg       0.92      0.91      0.92      1623\n",
      " \n",
      "\n"
     ]
    }
   ],
   "source": [
    "y_pred = randomforest_SMOTE.predict(X_test)\n",
    "print('Confusion Matrix: \\n {} \\n'.format(confusion_matrix(y_test, y_pred)))\n",
    "print('Accuracy: {}'.format(accuracy_score(y_test, y_pred)))\n",
    "print('Area Under the Curve: {}'.format(roc_auc_score(y_test, y_pred)))\n",
    "print('F1: {}'.format(f1_score(y_test, y_pred)))\n",
    "print('F0.5: {}'.format(fbeta_score(y_test, y_pred, beta=0.5)))\n",
    "print('F2: {}'.format(fbeta_score(y_test, y_pred, beta=2)))\n",
    "print('Precision: {}'.format(precision_score(y_test, y_pred)))\n",
    "print('Classification Report: \\n {} \\n'.format(classification_report(y_test, y_pred)))"
   ]
  },
  {
   "cell_type": "markdown",
   "metadata": {},
   "source": [
    "## Grid Search CV with Random Forest and SMOTE"
   ]
  },
  {
   "cell_type": "code",
   "execution_count": 123,
   "metadata": {},
   "outputs": [
    {
     "data": {
      "text/plain": [
       "GridSearchCV(cv=10, estimator=RandomForestClassifier(random_state=0), n_jobs=-1,\n",
       "             param_grid={'criterion': ['gini', 'entropy'],\n",
       "                         'max_depth': range(1, 31),\n",
       "                         'n_estimators': range(10, 110, 10)},\n",
       "             scoring='precision')"
      ]
     },
     "execution_count": 123,
     "metadata": {},
     "output_type": "execute_result"
    }
   ],
   "source": [
    "randomforest_SMOTE2 = ensemble.RandomForestClassifier(random_state=random_state)\n",
    "gridsearch_forest_SMOTE = ms.GridSearchCV(randomforest_SMOTE2, grid_para_forest, scoring='precision', cv=cv, n_jobs=-1)\n",
    "gridsearch_forest_SMOTE.fit(os_Xtrain, os_ytrain)\n"
   ]
  },
  {
   "cell_type": "code",
   "execution_count": 126,
   "metadata": {},
   "outputs": [
    {
     "name": "stdout",
     "output_type": "stream",
     "text": [
      "Confusion Matrix: \n",
      " [[1393   81]\n",
      " [  56   93]] \n",
      "\n",
      "Accuracy: 0.9155884165126309\n",
      "Area Under the Curve: 0.7846042818245563\n",
      "F1: 0.5758513931888545\n",
      "F0.5: 0.5502958579881656\n",
      "F2: 0.6038961038961038\n",
      "Precision: 0.5344827586206896\n",
      "Classification Report: \n",
      "               precision    recall  f1-score   support\n",
      "\n",
      "           0       0.96      0.95      0.95      1474\n",
      "           1       0.53      0.62      0.58       149\n",
      "\n",
      "    accuracy                           0.92      1623\n",
      "   macro avg       0.75      0.78      0.76      1623\n",
      "weighted avg       0.92      0.92      0.92      1623\n",
      " \n",
      "\n"
     ]
    }
   ],
   "source": [
    "y_pred = gridsearch_forest_SMOTE.best_estimator_.predict(X_test)\n",
    "print('Confusion Matrix: \\n {} \\n'.format(confusion_matrix(y_test, y_pred)))\n",
    "print('Accuracy: {}'.format(accuracy_score(y_test, y_pred)))\n",
    "print('Area Under the Curve: {}'.format(roc_auc_score(y_test, y_pred)))\n",
    "print('F1: {}'.format(f1_score(y_test, y_pred)))\n",
    "print('F0.5: {}'.format(fbeta_score(y_test, y_pred, beta=0.5)))\n",
    "print('F2: {}'.format(fbeta_score(y_test, y_pred, beta=2)))\n",
    "print('Precision: {}'.format(precision_score(y_test, y_pred)))\n",
    "print('Classification Report: \\n {} \\n'.format(classification_report(y_test, y_pred)))"
   ]
  },
  {
   "cell_type": "code",
   "execution_count": 127,
   "metadata": {},
   "outputs": [
    {
     "data": {
      "image/png": "[encoded data removed]",
      "text/plain": [
       "<Figure size 432x288 with 2 Axes>"
      ]
     },
     "metadata": {
      "needs_background": "light"
     },
     "output_type": "display_data"
    }
   ],
   "source": [
    "plot_cm(y_test, y_pred)"
   ]
  },
  {
   "cell_type": "markdown",
   "metadata": {},
   "source": [
    "### Feature Importance from Model with Best Metrics\n",
    "###### gridsearch_forest_prec4"
   ]
  },
  {
   "cell_type": "code",
   "execution_count": 151,
   "metadata": {},
   "outputs": [
    {
     "data": {
      "text/plain": [
       "[b'Inpatient',\n",
       " b'ClmProcedureCode_count',\n",
       " b'ClmProcedureCode',\n",
       " b'42731_diag',\n",
       " b'ClmAdmitDiagnosisCode',\n",
       " b'treatment_days',\n",
       " b'2449_diag',\n",
       " b'DeductibleAmtPaid',\n",
       " b'ClmDiagnosisCode_count',\n",
       " b'25000_diag',\n",
       " b'2724_diag',\n",
       " b'4019_diag',\n",
       " b'InscClaimAmtReimbursed',\n",
       " b'RenalDiseaseIndicator',\n",
       " b'IPAnnualReimbursementAmt',\n",
       " b'duplicate',\n",
       " b'ClaimID',\n",
       " b'Patient_Connections',\n",
       " b'claim_days',\n",
       " b'Age',\n",
       " b'IPAnnualDeductibleAmt',\n",
       " b'4019_proc',\n",
       " b'num_chronic',\n",
       " b'OPAnnualReimbursementAmt',\n",
       " b'Gender',\n",
       " b'OPAnnualDeductibleAmt',\n",
       " b'AttPhys_Connections',\n",
       " b'4011_diag',\n",
       " b'V5861_diag',\n",
       " b'NoOfMonths_PartBCov',\n",
       " b'V5869_diag',\n",
       " b'NoOfMonths_PartACov',\n",
       " b'9904_proc',\n",
       " b'5_state',\n",
       " b'2724_proc',\n",
       " b'66_proc',\n",
       " b'10_state',\n",
       " b'14_state',\n",
       " b'33_state',\n",
       " b'39_state',\n",
       " b'45_state',\n",
       " b'8154_proc',\n",
       " b'8151_proc',\n",
       " b'3893_proc',\n",
       " b'4516_proc',\n",
       " b'3995_proc',\n",
       " b'3722_proc',\n",
       " b'8872_proc']"
      ]
     },
     "execution_count": 151,
     "metadata": {},
     "output_type": "execute_result"
    }
   ],
   "source": [
    "# Showing 20 most important features\n",
    "feature_importance = list(zip(final_df.columns, gridsearch_forest_prec3.best_estimator_.feature_importances_))\n",
    "dtype = [('feature', 'S30'), ('importance', 'float')]\n",
    "feature_importance = np.array(feature_importance, dtype=dtype)\n",
    "feature_sort = np.sort(feature_importance, order='importance')[::-1]\n",
    "[i for (i, j) in feature_sort]"
   ]
  },
  {
   "cell_type": "code",
   "execution_count": null,
   "metadata": {},
   "outputs": [],
   "source": [
    "# 2449_diagcode - Hypothyroidism\n",
    "# 42731_diagcode - Atrial Fibrillation\n",
    "# 4019_diagcode - Essential (primary) Hypertension\n",
    "# 25000_diagcode - Diabetes Mellitus without complications\n",
    "# 2724_diagcode - Hyperlipidemia\n",
    "# 4011_diagcode - Unspecified Essential Hypertension"
   ]
  },
  {
   "cell_type": "code",
   "execution_count": 152,
   "metadata": {},
   "outputs": [
    {
     "data": {
      "text/plain": [
       "Text(0.5, 1.0, 'feature importance')"
      ]
     },
     "execution_count": 152,
     "metadata": {},
     "output_type": "execute_result"
    },
    {
     "data": {
      "image/png": "[encoded data removed]",
      "text/plain": [
       "<Figure size 1440x720 with 1 Axes>"
      ]
     },
     "metadata": {
      "needs_background": "light"
     },
     "output_type": "display_data"
    }
   ],
   "source": [
    "featureNames, featureScores = zip(*list(feature_sort))\n",
    "plt.figure(figsize=(20,10))\n",
    "plt.barh(range(len(featureScores)), featureScores, tick_label=featureNames)\n",
    "plt.title('feature importance')"
   ]
  },
  {
   "cell_type": "code",
   "execution_count": null,
   "metadata": {},
   "outputs": [],
   "source": []
  },
  {
   "cell_type": "markdown",
   "metadata": {},
   "source": [
    "### Summary\n",
    "Best precision score achieved with the following model:\n",
    "<br>Grid Search CV with \"precision\" scoring and \"balanced' Class Weight\n",
    "\n",
    "<br>Confusion Matrix: \n",
    "<br>[[1455   19]\n",
    "<br>[  85   64]] \n",
    "\n",
    "<br>Accuracy: 0.9359211337030191\n",
    "<br>Area Under the Curve: 0.7083200531813173\n",
    "<br>F1: 0.5517241379310345\n",
    "<br>F0.5: 0.6652806652806653\n",
    "<br>F2: 0.47128129602356406\n",
    "<br>Precision: 0.7710843373493976\n"
   ]
  },
  {
   "cell_type": "markdown",
   "metadata": {},
   "source": [
    "## Comparing Cost Matrix\n"
   ]
  },
  {
   "cell_type": "code",
   "execution_count": 341,
   "metadata": {},
   "outputs": [],
   "source": [
    "def plot_costMatrix(cm):\n",
    "    total_cost = 0\n",
    "    costs = [0, 100000, 3800, -3800]\n",
    "    group_names = ['TN','FP','FN','TP']\n",
    "    group_counts = ['{0:0.0f}'.format(value) for value in\n",
    "                cm.flatten()]\n",
    "    group_cost = []\n",
    "    for i in range(len(cm.flatten())):\n",
    "        group_cost.append('${}'.format(cm.flatten()[i]*costs[i]))\n",
    "        total_cost = total_cost + cm.flatten()[i]*costs[i]\n",
    "    labels = [f'{v1}\\n{v2}\\n{v3}' for v1, v2, v3 in\n",
    "          zip(group_names,group_counts,group_cost)]\n",
    "    labels = np.asarray(labels).reshape(2,2)\n",
    "    ax= plt.subplot()\n",
    "    sns.heatmap(cm/np.sum(cm), annot=labels, ax = ax, fmt='', cmap = 'Blues', cbar=False); #annot=True to annotate cells\n",
    "    # labels, title and ticks\n",
    "    ax.set_xlabel('Predicted labels');ax.set_ylabel('True labels')\n",
    "    ax.set_title('Cost Matrix')\n",
    "    ax.xaxis.set_ticklabels(['Not Fraud', 'Potential Fraud']); ax.yaxis.set_ticklabels(['Not Fraud', 'Potential Fraud'])\n",
    "    return total_cost\n"
   ]
  },
  {
   "cell_type": "markdown",
   "metadata": {},
   "source": [
    "<br> Commercial insurance \n",
    "<br> Cost of each False Positive (FP) = cost of discovery and litigation: 100k\n",
    "<br> Cost of each False Negative (FN) = 3800\n",
    "<br> Savings from detecting fraudulent provider, True Positive (TP) = -3800"
   ]
  },
  {
   "cell_type": "code",
   "execution_count": 318,
   "metadata": {},
   "outputs": [
    {
     "data": {
      "text/plain": [
       "RandomForestClassifier(class_weight='balanced', criterion='entropy',\n",
       "                       max_depth=29, random_state=0)"
      ]
     },
     "execution_count": 318,
     "metadata": {},
     "output_type": "execute_result"
    }
   ],
   "source": [
    "# Random Forest with Best Scores\n",
    "randomForest_best = ensemble.RandomForestClassifier(random_state=random_state)\n",
    "randomForest_best.set_params(criterion = 'entropy', max_depth = 29, n_estimators = 100, class_weight = 'balanced')\n",
    "randomForest_best.fit(X_train, y_train)\n"
   ]
  },
  {
   "cell_type": "code",
   "execution_count": 342,
   "metadata": {},
   "outputs": [
    {
     "data": {
      "image/png": "[encoded data removed]",
      "text/plain": [
       "<Figure size 432x288 with 1 Axes>"
      ]
     },
     "metadata": {
      "needs_background": "light"
     },
     "output_type": "display_data"
    }
   ],
   "source": [
    "y_pred = randomForest_best.predict(X_test)\n",
    "rf_best_cm = confusion_matrix(y_test, y_pred)\n",
    "rf_best_cost = plot_costMatrix(rf_best_cm)\n"
   ]
  },
  {
   "cell_type": "code",
   "execution_count": 276,
   "metadata": {},
   "outputs": [
    {
     "data": {
      "text/plain": [
       "RandomForestClassifier(random_state=0)"
      ]
     },
     "execution_count": 276,
     "metadata": {},
     "output_type": "execute_result"
    }
   ],
   "source": [
    "# Random Forest without tuning parameters\n",
    "randomForest = ensemble.RandomForestClassifier()\n",
    "randomForest.set_params(random_state=random_state)\n",
    "randomForest.fit(X_train, y_train) "
   ]
  },
  {
   "cell_type": "code",
   "execution_count": 325,
   "metadata": {},
   "outputs": [
    {
     "data": {
      "image/png": "[encoded data removed]",
      "text/plain": [
       "<Figure size 432x288 with 1 Axes>"
      ]
     },
     "metadata": {
      "needs_background": "light"
     },
     "output_type": "display_data"
    }
   ],
   "source": [
    "y_pred = randomForest.predict(X_test)\n",
    "rf_cm = confusion_matrix(y_test, y_pred)\n",
    "rf_cost = plot_costMatrix(rf_cm)\n"
   ]
  },
  {
   "cell_type": "code",
   "execution_count": 254,
   "metadata": {},
   "outputs": [
    {
     "name": "stdout",
     "output_type": "stream",
     "text": [
      "8240\n",
      "1\n",
      "103.18133086876155\n",
      "31.0\n"
     ]
    }
   ],
   "source": [
    "print((final_df['ClaimID']).max()) # 8240\n",
    "print((final_df['ClaimID']).min()) # 1\n",
    "print((final_df['ClaimID']).mean()) # 103\n",
    "print((final_df['ClaimID']).median()) # 31"
   ]
  },
  {
   "cell_type": "code",
   "execution_count": null,
   "metadata": {},
   "outputs": [],
   "source": [
    "# Assuming FP is discovery fee of $100k\n",
    "#Cost of TN = $0, cost of FP = $100k, cost of FN = $3800, cost of TP -$3800\n",
    "#Cost M1 = $2,900,000 + $304,000 - $262,000 = $2,942,000\n",
    "#Cost M2 = $1,900,000 + $323000 - $243200 = $1,979,800\n",
    "#Total Savings = Cost M1 - Cost M2 = $2,942,000 - $1,979,800 = $962,200"
   ]
  },
  {
   "cell_type": "code",
   "execution_count": 326,
   "metadata": {},
   "outputs": [
    {
     "data": {
      "image/png": "[encoded data removed]",
      "text/plain": [
       "<Figure size 432x288 with 1 Axes>"
      ]
     },
     "metadata": {
      "needs_background": "light"
     },
     "output_type": "display_data"
    }
   ],
   "source": [
    "# Logistic Regression Confusion Matrix\n",
    "lr_cm = np.asarray([1443, 14, 98, 68]).reshape(2,2)\n",
    "lr_cost = plot_costMatrix(lr_cm)\n"
   ]
  },
  {
   "cell_type": "code",
   "execution_count": 343,
   "metadata": {},
   "outputs": [
    {
     "data": {
      "text/plain": [
       "1514000"
      ]
     },
     "execution_count": 343,
     "metadata": {},
     "output_type": "execute_result"
    }
   ],
   "source": [
    "lr_cost"
   ]
  },
  {
   "cell_type": "code",
   "execution_count": 300,
   "metadata": {},
   "outputs": [
    {
     "data": {
      "text/plain": [
       "465800"
      ]
     },
     "execution_count": 300,
     "metadata": {},
     "output_type": "execute_result"
    }
   ],
   "source": [
    "rf_best_cost - lr_cost"
   ]
  },
  {
   "cell_type": "code",
   "execution_count": 302,
   "metadata": {},
   "outputs": [
    {
     "data": {
      "text/plain": [
       "962000"
      ]
     },
     "execution_count": 302,
     "metadata": {},
     "output_type": "execute_result"
    }
   ],
   "source": [
    "rf_cost - rf_best_cost"
   ]
  },
  {
   "cell_type": "code",
   "execution_count": null,
   "metadata": {},
   "outputs": [],
   "source": []
  }
 ],
 "metadata": {
  "kernelspec": {
   "display_name": "Python 3",
   "language": "python",
   "name": "python3"
  },
  "language_info": {
   "codemirror_mode": {
    "name": "ipython",
    "version": 3
   },
   "file_extension": ".py",
   "mimetype": "text/x-python",
   "name": "python",
   "nbconvert_exporter": "python",
   "pygments_lexer": "ipython3",
   "version": "3.7.6"
  }
 },
 "nbformat": 4,
 "nbformat_minor": 4
}
