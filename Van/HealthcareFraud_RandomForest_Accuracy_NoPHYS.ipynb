{
 "cells": [
  {
   "cell_type": "code",
   "execution_count": 43,
   "metadata": {},
   "outputs": [],
   "source": [
    "%matplotlib inline\n",
    "import matplotlib.pyplot as plt\n",
    "import seaborn as sns\n",
    "import numpy as np\n",
    "import pandas as pd\n",
    "from sklearn.metrics import confusion_matrix\n",
    "import math\n",
    "from sklearn import ensemble\n",
    "import sklearn.model_selection as ms\n",
    "from sklearn.model_selection import train_test_split\n",
    "from sklearn.metrics import accuracy_score, confusion_matrix, classification_report, roc_auc_score, precision_score, recall_score, precision_recall_curve\n"
   ]
  },
  {
   "cell_type": "code",
   "execution_count": 2,
   "metadata": {},
   "outputs": [],
   "source": [
    "pd.options.display.max_columns = None\n",
    "pd.options.display.max_rows = None"
   ]
  },
  {
   "cell_type": "code",
   "execution_count": 3,
   "metadata": {},
   "outputs": [],
   "source": [
    "train_df = pd.read_csv('Train_Clean_data.csv')\n",
    "target = pd.read_csv('train.csv')\n",
    "test_df = pd.read_csv('Test_Clean_data.csv', index_col=0)"
   ]
  },
  {
   "cell_type": "code",
   "execution_count": 4,
   "metadata": {},
   "outputs": [
    {
     "data": {
      "text/html": [
       "<div>\n",
       "<style scoped>\n",
       "    .dataframe tbody tr th:only-of-type {\n",
       "        vertical-align: middle;\n",
       "    }\n",
       "\n",
       "    .dataframe tbody tr th {\n",
       "        vertical-align: top;\n",
       "    }\n",
       "\n",
       "    .dataframe thead th {\n",
       "        text-align: right;\n",
       "    }\n",
       "</style>\n",
       "<table border=\"1\" class=\"dataframe\">\n",
       "  <thead>\n",
       "    <tr style=\"text-align: right;\">\n",
       "      <th></th>\n",
       "      <th>Provider</th>\n",
       "      <th>ClaimID</th>\n",
       "      <th>DOD</th>\n",
       "      <th>ClmAdmitDiagnosisCode</th>\n",
       "      <th>Inpatient</th>\n",
       "      <th>ClmProcedureCode</th>\n",
       "      <th>ClmProcedureCode_count</th>\n",
       "      <th>ClmDiagnosisCode_count</th>\n",
       "      <th>RenalDiseaseIndicator</th>\n",
       "      <th>duplicate</th>\n",
       "      <th>V5869_diagcode</th>\n",
       "      <th>Other_diagcode</th>\n",
       "      <th>V5861_diagcode</th>\n",
       "      <th>2724_diagcode</th>\n",
       "      <th>4011_diagcode</th>\n",
       "      <th>2449_diagcode</th>\n",
       "      <th>4019_diagcode</th>\n",
       "      <th>25000_diagcode</th>\n",
       "      <th>42731_diagcode</th>\n",
       "      <th>None_PHY</th>\n",
       "      <th>Patient_Connections</th>\n",
       "      <th>AttPhys_Connections</th>\n",
       "      <th>InscClaimAmtReimbursed</th>\n",
       "      <th>DeductibleAmtPaid</th>\n",
       "      <th>treatment_days</th>\n",
       "      <th>Gender</th>\n",
       "      <th>IPAnnualReimbursementAmt</th>\n",
       "      <th>NoOfMonths_PartACov</th>\n",
       "      <th>NoOfMonths_PartBCov</th>\n",
       "      <th>IPAnnualDeductibleAmt</th>\n",
       "      <th>OPAnnualReimbursementAmt</th>\n",
       "      <th>OPAnnualDeductibleAmt</th>\n",
       "      <th>num_chronic</th>\n",
       "      <th>Age</th>\n",
       "      <th>claim_Days</th>\n",
       "    </tr>\n",
       "  </thead>\n",
       "  <tbody>\n",
       "    <tr>\n",
       "      <th>0</th>\n",
       "      <td>PRV51001</td>\n",
       "      <td>25</td>\n",
       "      <td>0</td>\n",
       "      <td>11</td>\n",
       "      <td>5.0</td>\n",
       "      <td>2.0</td>\n",
       "      <td>3.0</td>\n",
       "      <td>80.0</td>\n",
       "      <td>8.0</td>\n",
       "      <td>12</td>\n",
       "      <td>1</td>\n",
       "      <td>25</td>\n",
       "      <td>0</td>\n",
       "      <td>2</td>\n",
       "      <td>0</td>\n",
       "      <td>1</td>\n",
       "      <td>3</td>\n",
       "      <td>1</td>\n",
       "      <td>2</td>\n",
       "      <td>0</td>\n",
       "      <td>24.0</td>\n",
       "      <td>14.0</td>\n",
       "      <td>4185.600000</td>\n",
       "      <td>213.600000</td>\n",
       "      <td>1.000000</td>\n",
       "      <td>0.640000</td>\n",
       "      <td>17606.000000</td>\n",
       "      <td>12.000000</td>\n",
       "      <td>12.000000</td>\n",
       "      <td>897.120000</td>\n",
       "      <td>2615.200000</td>\n",
       "      <td>463.920000</td>\n",
       "      <td>5.560000</td>\n",
       "      <td>77.880000</td>\n",
       "      <td>1.440000</td>\n",
       "    </tr>\n",
       "    <tr>\n",
       "      <th>1</th>\n",
       "      <td>PRV51003</td>\n",
       "      <td>132</td>\n",
       "      <td>1</td>\n",
       "      <td>78</td>\n",
       "      <td>62.0</td>\n",
       "      <td>39.0</td>\n",
       "      <td>48.0</td>\n",
       "      <td>693.0</td>\n",
       "      <td>29.0</td>\n",
       "      <td>30</td>\n",
       "      <td>7</td>\n",
       "      <td>132</td>\n",
       "      <td>6</td>\n",
       "      <td>16</td>\n",
       "      <td>3</td>\n",
       "      <td>12</td>\n",
       "      <td>25</td>\n",
       "      <td>15</td>\n",
       "      <td>11</td>\n",
       "      <td>0</td>\n",
       "      <td>117.0</td>\n",
       "      <td>44.0</td>\n",
       "      <td>4588.409091</td>\n",
       "      <td>502.166667</td>\n",
       "      <td>2.424242</td>\n",
       "      <td>0.590909</td>\n",
       "      <td>7568.181818</td>\n",
       "      <td>11.818182</td>\n",
       "      <td>11.871212</td>\n",
       "      <td>931.424242</td>\n",
       "      <td>2678.181818</td>\n",
       "      <td>737.121212</td>\n",
       "      <td>4.545455</td>\n",
       "      <td>69.083333</td>\n",
       "      <td>3.674242</td>\n",
       "    </tr>\n",
       "    <tr>\n",
       "      <th>2</th>\n",
       "      <td>PRV51004</td>\n",
       "      <td>149</td>\n",
       "      <td>1</td>\n",
       "      <td>28</td>\n",
       "      <td>0.0</td>\n",
       "      <td>0.0</td>\n",
       "      <td>0.0</td>\n",
       "      <td>385.0</td>\n",
       "      <td>23.0</td>\n",
       "      <td>76</td>\n",
       "      <td>2</td>\n",
       "      <td>149</td>\n",
       "      <td>4</td>\n",
       "      <td>12</td>\n",
       "      <td>6</td>\n",
       "      <td>8</td>\n",
       "      <td>22</td>\n",
       "      <td>8</td>\n",
       "      <td>3</td>\n",
       "      <td>0</td>\n",
       "      <td>138.0</td>\n",
       "      <td>38.0</td>\n",
       "      <td>350.134228</td>\n",
       "      <td>2.080537</td>\n",
       "      <td>0.000000</td>\n",
       "      <td>0.691275</td>\n",
       "      <td>4351.879195</td>\n",
       "      <td>11.865772</td>\n",
       "      <td>11.959732</td>\n",
       "      <td>434.953020</td>\n",
       "      <td>2194.899329</td>\n",
       "      <td>622.751678</td>\n",
       "      <td>4.342282</td>\n",
       "      <td>71.261745</td>\n",
       "      <td>1.429530</td>\n",
       "    </tr>\n",
       "    <tr>\n",
       "      <th>3</th>\n",
       "      <td>PRV51005</td>\n",
       "      <td>1165</td>\n",
       "      <td>4</td>\n",
       "      <td>252</td>\n",
       "      <td>0.0</td>\n",
       "      <td>0.0</td>\n",
       "      <td>0.0</td>\n",
       "      <td>3016.0</td>\n",
       "      <td>259.0</td>\n",
       "      <td>565</td>\n",
       "      <td>56</td>\n",
       "      <td>1165</td>\n",
       "      <td>47</td>\n",
       "      <td>73</td>\n",
       "      <td>62</td>\n",
       "      <td>30</td>\n",
       "      <td>140</td>\n",
       "      <td>54</td>\n",
       "      <td>23</td>\n",
       "      <td>2</td>\n",
       "      <td>495.0</td>\n",
       "      <td>7.0</td>\n",
       "      <td>241.124464</td>\n",
       "      <td>3.175966</td>\n",
       "      <td>0.000000</td>\n",
       "      <td>0.561373</td>\n",
       "      <td>3623.991416</td>\n",
       "      <td>11.907296</td>\n",
       "      <td>11.939914</td>\n",
       "      <td>379.162232</td>\n",
       "      <td>2109.733906</td>\n",
       "      <td>636.328755</td>\n",
       "      <td>4.335622</td>\n",
       "      <td>69.526180</td>\n",
       "      <td>1.088412</td>\n",
       "    </tr>\n",
       "    <tr>\n",
       "      <th>4</th>\n",
       "      <td>PRV51007</td>\n",
       "      <td>72</td>\n",
       "      <td>1</td>\n",
       "      <td>17</td>\n",
       "      <td>3.0</td>\n",
       "      <td>1.0</td>\n",
       "      <td>1.0</td>\n",
       "      <td>215.0</td>\n",
       "      <td>11.0</td>\n",
       "      <td>31</td>\n",
       "      <td>2</td>\n",
       "      <td>72</td>\n",
       "      <td>7</td>\n",
       "      <td>5</td>\n",
       "      <td>3</td>\n",
       "      <td>6</td>\n",
       "      <td>10</td>\n",
       "      <td>6</td>\n",
       "      <td>2</td>\n",
       "      <td>0</td>\n",
       "      <td>58.0</td>\n",
       "      <td>10.0</td>\n",
       "      <td>468.194444</td>\n",
       "      <td>45.333333</td>\n",
       "      <td>0.222222</td>\n",
       "      <td>0.527778</td>\n",
       "      <td>3050.000000</td>\n",
       "      <td>11.833333</td>\n",
       "      <td>11.833333</td>\n",
       "      <td>445.000000</td>\n",
       "      <td>1729.722222</td>\n",
       "      <td>469.722222</td>\n",
       "      <td>4.166667</td>\n",
       "      <td>68.305556</td>\n",
       "      <td>0.958333</td>\n",
       "    </tr>\n",
       "  </tbody>\n",
       "</table>\n",
       "</div>"
      ],
      "text/plain": [
       "   Provider  ClaimID  DOD  ClmAdmitDiagnosisCode  Inpatient  ClmProcedureCode  \\\n",
       "0  PRV51001       25    0                     11        5.0               2.0   \n",
       "1  PRV51003      132    1                     78       62.0              39.0   \n",
       "2  PRV51004      149    1                     28        0.0               0.0   \n",
       "3  PRV51005     1165    4                    252        0.0               0.0   \n",
       "4  PRV51007       72    1                     17        3.0               1.0   \n",
       "\n",
       "   ClmProcedureCode_count  ClmDiagnosisCode_count  RenalDiseaseIndicator  \\\n",
       "0                     3.0                    80.0                    8.0   \n",
       "1                    48.0                   693.0                   29.0   \n",
       "2                     0.0                   385.0                   23.0   \n",
       "3                     0.0                  3016.0                  259.0   \n",
       "4                     1.0                   215.0                   11.0   \n",
       "\n",
       "   duplicate  V5869_diagcode  Other_diagcode  V5861_diagcode  2724_diagcode  \\\n",
       "0         12               1              25               0              2   \n",
       "1         30               7             132               6             16   \n",
       "2         76               2             149               4             12   \n",
       "3        565              56            1165              47             73   \n",
       "4         31               2              72               7              5   \n",
       "\n",
       "   4011_diagcode  2449_diagcode  4019_diagcode  25000_diagcode  \\\n",
       "0              0              1              3               1   \n",
       "1              3             12             25              15   \n",
       "2              6              8             22               8   \n",
       "3             62             30            140              54   \n",
       "4              3              6             10               6   \n",
       "\n",
       "   42731_diagcode  None_PHY  Patient_Connections  AttPhys_Connections  \\\n",
       "0               2         0                 24.0                 14.0   \n",
       "1              11         0                117.0                 44.0   \n",
       "2               3         0                138.0                 38.0   \n",
       "3              23         2                495.0                  7.0   \n",
       "4               2         0                 58.0                 10.0   \n",
       "\n",
       "   InscClaimAmtReimbursed  DeductibleAmtPaid  treatment_days    Gender  \\\n",
       "0             4185.600000         213.600000        1.000000  0.640000   \n",
       "1             4588.409091         502.166667        2.424242  0.590909   \n",
       "2              350.134228           2.080537        0.000000  0.691275   \n",
       "3              241.124464           3.175966        0.000000  0.561373   \n",
       "4              468.194444          45.333333        0.222222  0.527778   \n",
       "\n",
       "   IPAnnualReimbursementAmt  NoOfMonths_PartACov  NoOfMonths_PartBCov  \\\n",
       "0              17606.000000            12.000000            12.000000   \n",
       "1               7568.181818            11.818182            11.871212   \n",
       "2               4351.879195            11.865772            11.959732   \n",
       "3               3623.991416            11.907296            11.939914   \n",
       "4               3050.000000            11.833333            11.833333   \n",
       "\n",
       "   IPAnnualDeductibleAmt  OPAnnualReimbursementAmt  OPAnnualDeductibleAmt  \\\n",
       "0             897.120000               2615.200000             463.920000   \n",
       "1             931.424242               2678.181818             737.121212   \n",
       "2             434.953020               2194.899329             622.751678   \n",
       "3             379.162232               2109.733906             636.328755   \n",
       "4             445.000000               1729.722222             469.722222   \n",
       "\n",
       "   num_chronic        Age  claim_Days  \n",
       "0     5.560000  77.880000    1.440000  \n",
       "1     4.545455  69.083333    3.674242  \n",
       "2     4.342282  71.261745    1.429530  \n",
       "3     4.335622  69.526180    1.088412  \n",
       "4     4.166667  68.305556    0.958333  "
      ]
     },
     "execution_count": 4,
     "metadata": {},
     "output_type": "execute_result"
    }
   ],
   "source": [
    "phys_col = ['PHY338032', 'PHY341578', 'PHY357120', 'PHY330576',\n",
    "       'PHY337425', 'PHY314027', 'PHY327046', 'PHY412132', 'PHY350277',\n",
    "       'PHY423534']\n",
    "\n",
    "for col in phys_col:\n",
    "    train_df.drop(col, inplace=True, axis=1)\n",
    "\n",
    "train_df.head()"
   ]
  },
  {
   "cell_type": "code",
   "execution_count": 5,
   "metadata": {},
   "outputs": [
    {
     "name": "stdout",
     "output_type": "stream",
     "text": [
      "(5410, 35)\n",
      "(5410, 2)\n",
      "(1353, 44)\n"
     ]
    }
   ],
   "source": [
    "print(train_df.shape)\n",
    "print(target.shape)\n",
    "print(test_df.shape)"
   ]
  },
  {
   "cell_type": "code",
   "execution_count": 6,
   "metadata": {},
   "outputs": [
    {
     "data": {
      "text/html": [
       "<div>\n",
       "<style scoped>\n",
       "    .dataframe tbody tr th:only-of-type {\n",
       "        vertical-align: middle;\n",
       "    }\n",
       "\n",
       "    .dataframe tbody tr th {\n",
       "        vertical-align: top;\n",
       "    }\n",
       "\n",
       "    .dataframe thead th {\n",
       "        text-align: right;\n",
       "    }\n",
       "</style>\n",
       "<table border=\"1\" class=\"dataframe\">\n",
       "  <thead>\n",
       "    <tr style=\"text-align: right;\">\n",
       "      <th></th>\n",
       "      <th>Provider</th>\n",
       "      <th>PotentialFraud</th>\n",
       "    </tr>\n",
       "  </thead>\n",
       "  <tbody>\n",
       "    <tr>\n",
       "      <th>0</th>\n",
       "      <td>PRV51001</td>\n",
       "      <td>0</td>\n",
       "    </tr>\n",
       "    <tr>\n",
       "      <th>1</th>\n",
       "      <td>PRV51003</td>\n",
       "      <td>1</td>\n",
       "    </tr>\n",
       "    <tr>\n",
       "      <th>2</th>\n",
       "      <td>PRV51004</td>\n",
       "      <td>0</td>\n",
       "    </tr>\n",
       "    <tr>\n",
       "      <th>3</th>\n",
       "      <td>PRV51005</td>\n",
       "      <td>1</td>\n",
       "    </tr>\n",
       "    <tr>\n",
       "      <th>4</th>\n",
       "      <td>PRV51007</td>\n",
       "      <td>0</td>\n",
       "    </tr>\n",
       "  </tbody>\n",
       "</table>\n",
       "</div>"
      ],
      "text/plain": [
       "   Provider  PotentialFraud\n",
       "0  PRV51001               0\n",
       "1  PRV51003               1\n",
       "2  PRV51004               0\n",
       "3  PRV51005               1\n",
       "4  PRV51007               0"
      ]
     },
     "execution_count": 6,
     "metadata": {},
     "output_type": "execute_result"
    }
   ],
   "source": [
    "target['PotentialFraud'].replace({'No':0, 'Yes':1}, inplace=True)\n",
    "target.head()"
   ]
  },
  {
   "cell_type": "code",
   "execution_count": 7,
   "metadata": {},
   "outputs": [
    {
     "data": {
      "text/plain": [
       "Text(0, 0.5, 'Frequency')"
      ]
     },
     "execution_count": 7,
     "metadata": {},
     "output_type": "execute_result"
    },
    {
     "data": {
      "image/png": "[encoded data removed]",
      "text/plain": [
       "<Figure size 432x288 with 1 Axes>"
      ]
     },
     "metadata": {
      "needs_background": "light"
     },
     "output_type": "display_data"
    }
   ],
   "source": [
    "target['PotentialFraud'].value_counts().plot(kind = 'bar')\n",
    "plt.title(\"Providers Flagged with Potential Fraud\")\n",
    "plt.xlabel(\"Potential Fraud\")\n",
    "plt.ylabel(\"Frequency\")"
   ]
  },
  {
   "cell_type": "code",
   "execution_count": 8,
   "metadata": {},
   "outputs": [],
   "source": [
    "final_df = pd.merge(train_df, target, on='Provider')"
   ]
  },
  {
   "cell_type": "code",
   "execution_count": 9,
   "metadata": {},
   "outputs": [],
   "source": [
    "final_df.drop('Provider', axis=1, inplace=True)"
   ]
  },
  {
   "cell_type": "code",
   "execution_count": 10,
   "metadata": {},
   "outputs": [
    {
     "data": {
      "text/html": [
       "<div>\n",
       "<style scoped>\n",
       "    .dataframe tbody tr th:only-of-type {\n",
       "        vertical-align: middle;\n",
       "    }\n",
       "\n",
       "    .dataframe tbody tr th {\n",
       "        vertical-align: top;\n",
       "    }\n",
       "\n",
       "    .dataframe thead th {\n",
       "        text-align: right;\n",
       "    }\n",
       "</style>\n",
       "<table border=\"1\" class=\"dataframe\">\n",
       "  <thead>\n",
       "    <tr style=\"text-align: right;\">\n",
       "      <th></th>\n",
       "      <th>ClaimID</th>\n",
       "      <th>DOD</th>\n",
       "      <th>ClmAdmitDiagnosisCode</th>\n",
       "      <th>Inpatient</th>\n",
       "      <th>ClmProcedureCode</th>\n",
       "      <th>ClmProcedureCode_count</th>\n",
       "      <th>ClmDiagnosisCode_count</th>\n",
       "      <th>RenalDiseaseIndicator</th>\n",
       "      <th>duplicate</th>\n",
       "      <th>V5869_diagcode</th>\n",
       "      <th>Other_diagcode</th>\n",
       "      <th>V5861_diagcode</th>\n",
       "      <th>2724_diagcode</th>\n",
       "      <th>4011_diagcode</th>\n",
       "      <th>2449_diagcode</th>\n",
       "      <th>4019_diagcode</th>\n",
       "      <th>25000_diagcode</th>\n",
       "      <th>42731_diagcode</th>\n",
       "      <th>None_PHY</th>\n",
       "      <th>Patient_Connections</th>\n",
       "      <th>AttPhys_Connections</th>\n",
       "      <th>InscClaimAmtReimbursed</th>\n",
       "      <th>DeductibleAmtPaid</th>\n",
       "      <th>treatment_days</th>\n",
       "      <th>Gender</th>\n",
       "      <th>IPAnnualReimbursementAmt</th>\n",
       "      <th>NoOfMonths_PartACov</th>\n",
       "      <th>NoOfMonths_PartBCov</th>\n",
       "      <th>IPAnnualDeductibleAmt</th>\n",
       "      <th>OPAnnualReimbursementAmt</th>\n",
       "      <th>OPAnnualDeductibleAmt</th>\n",
       "      <th>num_chronic</th>\n",
       "      <th>Age</th>\n",
       "      <th>claim_Days</th>\n",
       "      <th>PotentialFraud</th>\n",
       "    </tr>\n",
       "  </thead>\n",
       "  <tbody>\n",
       "    <tr>\n",
       "      <th>0</th>\n",
       "      <td>25</td>\n",
       "      <td>0</td>\n",
       "      <td>11</td>\n",
       "      <td>5.0</td>\n",
       "      <td>2.0</td>\n",
       "      <td>3.0</td>\n",
       "      <td>80.0</td>\n",
       "      <td>8.0</td>\n",
       "      <td>12</td>\n",
       "      <td>1</td>\n",
       "      <td>25</td>\n",
       "      <td>0</td>\n",
       "      <td>2</td>\n",
       "      <td>0</td>\n",
       "      <td>1</td>\n",
       "      <td>3</td>\n",
       "      <td>1</td>\n",
       "      <td>2</td>\n",
       "      <td>0</td>\n",
       "      <td>24.0</td>\n",
       "      <td>14.0</td>\n",
       "      <td>4185.600000</td>\n",
       "      <td>213.600000</td>\n",
       "      <td>1.000000</td>\n",
       "      <td>0.640000</td>\n",
       "      <td>17606.000000</td>\n",
       "      <td>12.000000</td>\n",
       "      <td>12.000000</td>\n",
       "      <td>897.120000</td>\n",
       "      <td>2615.200000</td>\n",
       "      <td>463.920000</td>\n",
       "      <td>5.560000</td>\n",
       "      <td>77.880000</td>\n",
       "      <td>1.440000</td>\n",
       "      <td>0</td>\n",
       "    </tr>\n",
       "    <tr>\n",
       "      <th>1</th>\n",
       "      <td>132</td>\n",
       "      <td>1</td>\n",
       "      <td>78</td>\n",
       "      <td>62.0</td>\n",
       "      <td>39.0</td>\n",
       "      <td>48.0</td>\n",
       "      <td>693.0</td>\n",
       "      <td>29.0</td>\n",
       "      <td>30</td>\n",
       "      <td>7</td>\n",
       "      <td>132</td>\n",
       "      <td>6</td>\n",
       "      <td>16</td>\n",
       "      <td>3</td>\n",
       "      <td>12</td>\n",
       "      <td>25</td>\n",
       "      <td>15</td>\n",
       "      <td>11</td>\n",
       "      <td>0</td>\n",
       "      <td>117.0</td>\n",
       "      <td>44.0</td>\n",
       "      <td>4588.409091</td>\n",
       "      <td>502.166667</td>\n",
       "      <td>2.424242</td>\n",
       "      <td>0.590909</td>\n",
       "      <td>7568.181818</td>\n",
       "      <td>11.818182</td>\n",
       "      <td>11.871212</td>\n",
       "      <td>931.424242</td>\n",
       "      <td>2678.181818</td>\n",
       "      <td>737.121212</td>\n",
       "      <td>4.545455</td>\n",
       "      <td>69.083333</td>\n",
       "      <td>3.674242</td>\n",
       "      <td>1</td>\n",
       "    </tr>\n",
       "    <tr>\n",
       "      <th>2</th>\n",
       "      <td>149</td>\n",
       "      <td>1</td>\n",
       "      <td>28</td>\n",
       "      <td>0.0</td>\n",
       "      <td>0.0</td>\n",
       "      <td>0.0</td>\n",
       "      <td>385.0</td>\n",
       "      <td>23.0</td>\n",
       "      <td>76</td>\n",
       "      <td>2</td>\n",
       "      <td>149</td>\n",
       "      <td>4</td>\n",
       "      <td>12</td>\n",
       "      <td>6</td>\n",
       "      <td>8</td>\n",
       "      <td>22</td>\n",
       "      <td>8</td>\n",
       "      <td>3</td>\n",
       "      <td>0</td>\n",
       "      <td>138.0</td>\n",
       "      <td>38.0</td>\n",
       "      <td>350.134228</td>\n",
       "      <td>2.080537</td>\n",
       "      <td>0.000000</td>\n",
       "      <td>0.691275</td>\n",
       "      <td>4351.879195</td>\n",
       "      <td>11.865772</td>\n",
       "      <td>11.959732</td>\n",
       "      <td>434.953020</td>\n",
       "      <td>2194.899329</td>\n",
       "      <td>622.751678</td>\n",
       "      <td>4.342282</td>\n",
       "      <td>71.261745</td>\n",
       "      <td>1.429530</td>\n",
       "      <td>0</td>\n",
       "    </tr>\n",
       "    <tr>\n",
       "      <th>3</th>\n",
       "      <td>1165</td>\n",
       "      <td>4</td>\n",
       "      <td>252</td>\n",
       "      <td>0.0</td>\n",
       "      <td>0.0</td>\n",
       "      <td>0.0</td>\n",
       "      <td>3016.0</td>\n",
       "      <td>259.0</td>\n",
       "      <td>565</td>\n",
       "      <td>56</td>\n",
       "      <td>1165</td>\n",
       "      <td>47</td>\n",
       "      <td>73</td>\n",
       "      <td>62</td>\n",
       "      <td>30</td>\n",
       "      <td>140</td>\n",
       "      <td>54</td>\n",
       "      <td>23</td>\n",
       "      <td>2</td>\n",
       "      <td>495.0</td>\n",
       "      <td>7.0</td>\n",
       "      <td>241.124464</td>\n",
       "      <td>3.175966</td>\n",
       "      <td>0.000000</td>\n",
       "      <td>0.561373</td>\n",
       "      <td>3623.991416</td>\n",
       "      <td>11.907296</td>\n",
       "      <td>11.939914</td>\n",
       "      <td>379.162232</td>\n",
       "      <td>2109.733906</td>\n",
       "      <td>636.328755</td>\n",
       "      <td>4.335622</td>\n",
       "      <td>69.526180</td>\n",
       "      <td>1.088412</td>\n",
       "      <td>1</td>\n",
       "    </tr>\n",
       "    <tr>\n",
       "      <th>4</th>\n",
       "      <td>72</td>\n",
       "      <td>1</td>\n",
       "      <td>17</td>\n",
       "      <td>3.0</td>\n",
       "      <td>1.0</td>\n",
       "      <td>1.0</td>\n",
       "      <td>215.0</td>\n",
       "      <td>11.0</td>\n",
       "      <td>31</td>\n",
       "      <td>2</td>\n",
       "      <td>72</td>\n",
       "      <td>7</td>\n",
       "      <td>5</td>\n",
       "      <td>3</td>\n",
       "      <td>6</td>\n",
       "      <td>10</td>\n",
       "      <td>6</td>\n",
       "      <td>2</td>\n",
       "      <td>0</td>\n",
       "      <td>58.0</td>\n",
       "      <td>10.0</td>\n",
       "      <td>468.194444</td>\n",
       "      <td>45.333333</td>\n",
       "      <td>0.222222</td>\n",
       "      <td>0.527778</td>\n",
       "      <td>3050.000000</td>\n",
       "      <td>11.833333</td>\n",
       "      <td>11.833333</td>\n",
       "      <td>445.000000</td>\n",
       "      <td>1729.722222</td>\n",
       "      <td>469.722222</td>\n",
       "      <td>4.166667</td>\n",
       "      <td>68.305556</td>\n",
       "      <td>0.958333</td>\n",
       "      <td>0</td>\n",
       "    </tr>\n",
       "  </tbody>\n",
       "</table>\n",
       "</div>"
      ],
      "text/plain": [
       "   ClaimID  DOD  ClmAdmitDiagnosisCode  Inpatient  ClmProcedureCode  \\\n",
       "0       25    0                     11        5.0               2.0   \n",
       "1      132    1                     78       62.0              39.0   \n",
       "2      149    1                     28        0.0               0.0   \n",
       "3     1165    4                    252        0.0               0.0   \n",
       "4       72    1                     17        3.0               1.0   \n",
       "\n",
       "   ClmProcedureCode_count  ClmDiagnosisCode_count  RenalDiseaseIndicator  \\\n",
       "0                     3.0                    80.0                    8.0   \n",
       "1                    48.0                   693.0                   29.0   \n",
       "2                     0.0                   385.0                   23.0   \n",
       "3                     0.0                  3016.0                  259.0   \n",
       "4                     1.0                   215.0                   11.0   \n",
       "\n",
       "   duplicate  V5869_diagcode  Other_diagcode  V5861_diagcode  2724_diagcode  \\\n",
       "0         12               1              25               0              2   \n",
       "1         30               7             132               6             16   \n",
       "2         76               2             149               4             12   \n",
       "3        565              56            1165              47             73   \n",
       "4         31               2              72               7              5   \n",
       "\n",
       "   4011_diagcode  2449_diagcode  4019_diagcode  25000_diagcode  \\\n",
       "0              0              1              3               1   \n",
       "1              3             12             25              15   \n",
       "2              6              8             22               8   \n",
       "3             62             30            140              54   \n",
       "4              3              6             10               6   \n",
       "\n",
       "   42731_diagcode  None_PHY  Patient_Connections  AttPhys_Connections  \\\n",
       "0               2         0                 24.0                 14.0   \n",
       "1              11         0                117.0                 44.0   \n",
       "2               3         0                138.0                 38.0   \n",
       "3              23         2                495.0                  7.0   \n",
       "4               2         0                 58.0                 10.0   \n",
       "\n",
       "   InscClaimAmtReimbursed  DeductibleAmtPaid  treatment_days    Gender  \\\n",
       "0             4185.600000         213.600000        1.000000  0.640000   \n",
       "1             4588.409091         502.166667        2.424242  0.590909   \n",
       "2              350.134228           2.080537        0.000000  0.691275   \n",
       "3              241.124464           3.175966        0.000000  0.561373   \n",
       "4              468.194444          45.333333        0.222222  0.527778   \n",
       "\n",
       "   IPAnnualReimbursementAmt  NoOfMonths_PartACov  NoOfMonths_PartBCov  \\\n",
       "0              17606.000000            12.000000            12.000000   \n",
       "1               7568.181818            11.818182            11.871212   \n",
       "2               4351.879195            11.865772            11.959732   \n",
       "3               3623.991416            11.907296            11.939914   \n",
       "4               3050.000000            11.833333            11.833333   \n",
       "\n",
       "   IPAnnualDeductibleAmt  OPAnnualReimbursementAmt  OPAnnualDeductibleAmt  \\\n",
       "0             897.120000               2615.200000             463.920000   \n",
       "1             931.424242               2678.181818             737.121212   \n",
       "2             434.953020               2194.899329             622.751678   \n",
       "3             379.162232               2109.733906             636.328755   \n",
       "4             445.000000               1729.722222             469.722222   \n",
       "\n",
       "   num_chronic        Age  claim_Days  PotentialFraud  \n",
       "0     5.560000  77.880000    1.440000               0  \n",
       "1     4.545455  69.083333    3.674242               1  \n",
       "2     4.342282  71.261745    1.429530               0  \n",
       "3     4.335622  69.526180    1.088412               1  \n",
       "4     4.166667  68.305556    0.958333               0  "
      ]
     },
     "execution_count": 10,
     "metadata": {},
     "output_type": "execute_result"
    }
   ],
   "source": [
    "final_df.head()"
   ]
  },
  {
   "cell_type": "code",
   "execution_count": 11,
   "metadata": {},
   "outputs": [],
   "source": [
    "target = final_df['PotentialFraud']\n",
    "final_df.drop('PotentialFraud', axis=1, inplace=True)"
   ]
  },
  {
   "cell_type": "code",
   "execution_count": 12,
   "metadata": {},
   "outputs": [],
   "source": [
    "X_train, X_test, y_train, y_test = train_test_split(final_df, target, test_size=0.2, random_state=0)"
   ]
  },
  {
   "cell_type": "code",
   "execution_count": 13,
   "metadata": {},
   "outputs": [
    {
     "data": {
      "text/plain": [
       "((4328, 34), (4328,), (1082, 34), (1082,))"
      ]
     },
     "execution_count": 13,
     "metadata": {},
     "output_type": "execute_result"
    }
   ],
   "source": [
    "X_train.shape, y_train.shape, X_test.shape, y_test.shape"
   ]
  },
  {
   "cell_type": "code",
   "execution_count": 14,
   "metadata": {},
   "outputs": [
    {
     "data": {
      "text/plain": [
       "0.9995378927911276"
      ]
     },
     "execution_count": 14,
     "metadata": {},
     "output_type": "execute_result"
    }
   ],
   "source": [
    "randomForest = ensemble.RandomForestClassifier()\n",
    "randomForest.set_params(n_estimators=50, random_state=10)\n",
    "randomForest.fit(X_train, y_train)  \n",
    "randomForest.score(X_train, y_train) "
   ]
  },
  {
   "cell_type": "code",
   "execution_count": 15,
   "metadata": {},
   "outputs": [
    {
     "name": "stdout",
     "output_type": "stream",
     "text": [
      "Confusion Matrix: \n",
      " [[972  19]\n",
      " [ 45  46]] \n",
      "\n",
      "Area Under the Curve: 0.7431609762588571\n",
      "Classification Report: \n",
      "               precision    recall  f1-score   support\n",
      "\n",
      "           0       0.96      0.98      0.97       991\n",
      "           1       0.71      0.51      0.59        91\n",
      "\n",
      "    accuracy                           0.94      1082\n",
      "   macro avg       0.83      0.74      0.78      1082\n",
      "weighted avg       0.93      0.94      0.94      1082\n",
      " \n",
      "\n"
     ]
    }
   ],
   "source": [
    "y_pred = randomForest.predict(X_test)\n",
    "print('Confusion Matrix: \\n {} \\n'.format(confusion_matrix(y_test, y_pred)))\n",
    "print('Area Under the Curve: {}'.format(roc_auc_score(y_test, y_pred)))\n",
    "print('Classification Report: \\n {} \\n'.format(classification_report(y_test, y_pred)))"
   ]
  },
  {
   "cell_type": "markdown",
   "metadata": {},
   "source": [
    "### Random Forest with Grid Search Cross Validation"
   ]
  },
  {
   "cell_type": "code",
   "execution_count": 16,
   "metadata": {},
   "outputs": [],
   "source": [
    "# set the parameter grid\n",
    "grid_para_forest = {\n",
    "    'criterion': ['gini', 'entropy'],\n",
    "    'max_depth': range(1, 31),\n",
    "    'n_estimators': range(10, 110, 10)\n",
    "}"
   ]
  },
  {
   "cell_type": "code",
   "execution_count": 17,
   "metadata": {},
   "outputs": [
    {
     "name": "stdout",
     "output_type": "stream",
     "text": [
      "CPU times: user 19.6 s, sys: 3.66 s, total: 23.2 s\n",
      "Wall time: 8min 14s\n"
     ]
    },
    {
     "data": {
      "text/plain": [
       "GridSearchCV(cv=5, error_score=nan,\n",
       "             estimator=RandomForestClassifier(bootstrap=True, ccp_alpha=0.0,\n",
       "                                              class_weight=None,\n",
       "                                              criterion='gini', max_depth=None,\n",
       "                                              max_features='auto',\n",
       "                                              max_leaf_nodes=None,\n",
       "                                              max_samples=None,\n",
       "                                              min_impurity_decrease=0.0,\n",
       "                                              min_impurity_split=None,\n",
       "                                              min_samples_leaf=1,\n",
       "                                              min_samples_split=2,\n",
       "                                              min_weight_fraction_leaf=0.0,\n",
       "                                              n_estimators=100, n_jobs=None,\n",
       "                                              oob_score=False,\n",
       "                                              random_state=None, verbose=0,\n",
       "                                              warm_start=False),\n",
       "             iid='deprecated', n_jobs=-1,\n",
       "             param_grid={'criterion': ['gini', 'entropy'],\n",
       "                         'max_depth': range(1, 31),\n",
       "                         'n_estimators': range(10, 110, 10)},\n",
       "             pre_dispatch='2*n_jobs', refit=True, return_train_score=False,\n",
       "             scoring='accuracy', verbose=0)"
      ]
     },
     "execution_count": 17,
     "metadata": {},
     "output_type": "execute_result"
    }
   ],
   "source": [
    "randomForest2 = ensemble.RandomForestClassifier()\n",
    "grid_search_forest = ms.GridSearchCV(randomForest2, grid_para_forest, scoring='accuracy', cv=5, n_jobs=-1)\n",
    "%time grid_search_forest.fit(X_train, y_train)"
   ]
  },
  {
   "cell_type": "code",
   "execution_count": 18,
   "metadata": {},
   "outputs": [
    {
     "data": {
      "text/plain": [
       "{'criterion': 'entropy', 'max_depth': 6, 'n_estimators': 50}"
      ]
     },
     "execution_count": 18,
     "metadata": {},
     "output_type": "execute_result"
    }
   ],
   "source": [
    "# get the best parameters\n",
    "grid_search_forest.best_params_"
   ]
  },
  {
   "cell_type": "code",
   "execution_count": 19,
   "metadata": {},
   "outputs": [
    {
     "data": {
      "text/plain": [
       "0.9348430762658693"
      ]
     },
     "execution_count": 19,
     "metadata": {},
     "output_type": "execute_result"
    }
   ],
   "source": [
    "# get the best score\n",
    "grid_search_forest.best_score_"
   ]
  },
  {
   "cell_type": "code",
   "execution_count": 20,
   "metadata": {},
   "outputs": [
    {
     "name": "stdout",
     "output_type": "stream",
     "text": [
      "Confusion Matrix: \n",
      " [[976  15]\n",
      " [ 51  40]] \n",
      "\n",
      "Area Under the Curve: 0.7122121067630655\n",
      "Classification Report: \n",
      "               precision    recall  f1-score   support\n",
      "\n",
      "           0       0.95      0.98      0.97       991\n",
      "           1       0.73      0.44      0.55        91\n",
      "\n",
      "    accuracy                           0.94      1082\n",
      "   macro avg       0.84      0.71      0.76      1082\n",
      "weighted avg       0.93      0.94      0.93      1082\n",
      " \n",
      "\n"
     ]
    }
   ],
   "source": [
    "y_pred = grid_search_forest.best_estimator_.predict(X_test)\n",
    "print('Confusion Matrix: \\n {} \\n'.format(confusion_matrix(y_test, y_pred)))\n",
    "print('Area Under the Curve: {}'.format(roc_auc_score(y_test, y_pred)))\n",
    "print('Classification Report: \\n {} \\n'.format(classification_report(y_test, y_pred)))"
   ]
  },
  {
   "cell_type": "markdown",
   "metadata": {},
   "source": [
    "### Random Forest with Class Weight"
   ]
  },
  {
   "cell_type": "markdown",
   "metadata": {},
   "source": [
    "#### Random Forest with \"balanced\" Class Weight"
   ]
  },
  {
   "cell_type": "code",
   "execution_count": 21,
   "metadata": {},
   "outputs": [
    {
     "data": {
      "text/plain": [
       "0.9101201478743068"
      ]
     },
     "execution_count": 21,
     "metadata": {},
     "output_type": "execute_result"
    }
   ],
   "source": [
    "# Class Weight = 'balanced'\n",
    "randomForest3 = ensemble.RandomForestClassifier()\n",
    "randomForest3.set_params(criterion = 'entropy', max_depth = 6, n_estimators = 50, class_weight = 'balanced')\n",
    "randomForest3.fit(X_train, y_train) # fit \n",
    "randomForest3.score(X_train, y_train)\n"
   ]
  },
  {
   "cell_type": "code",
   "execution_count": 22,
   "metadata": {},
   "outputs": [
    {
     "name": "stdout",
     "output_type": "stream",
     "text": [
      "Confusion Matrix: \n",
      " [[887 104]\n",
      " [ 19  72]] \n",
      "\n",
      "Area Under the Curve: 0.8431321453521251\n",
      "Classification Report: \n",
      "               precision    recall  f1-score   support\n",
      "\n",
      "           0       0.98      0.90      0.94       991\n",
      "           1       0.41      0.79      0.54        91\n",
      "\n",
      "    accuracy                           0.89      1082\n",
      "   macro avg       0.69      0.84      0.74      1082\n",
      "weighted avg       0.93      0.89      0.90      1082\n",
      " \n",
      "\n"
     ]
    }
   ],
   "source": [
    "y_pred = randomForest3.predict(X_test)\n",
    "print('Confusion Matrix: \\n {} \\n'.format(confusion_matrix(y_test, y_pred)))\n",
    "print('Area Under the Curve: {}'.format(roc_auc_score(y_test, y_pred)))\n",
    "print('Classification Report: \\n {} \\n'.format(classification_report(y_test, y_pred)))"
   ]
  },
  {
   "cell_type": "markdown",
   "metadata": {},
   "source": [
    "#### Random Forest with \"balanced_subsample\" Class Weight"
   ]
  },
  {
   "cell_type": "code",
   "execution_count": 23,
   "metadata": {},
   "outputs": [
    {
     "data": {
      "text/plain": [
       "0.9087338262476895"
      ]
     },
     "execution_count": 23,
     "metadata": {},
     "output_type": "execute_result"
    }
   ],
   "source": [
    "# Class Weight = balanced_subsample\n",
    "# This is the same as “balanced” except that weights are computed based on \n",
    "# the bootstrap sample for every tree grown\n",
    "\n",
    "randomForest4 = ensemble.RandomForestClassifier()\n",
    "randomForest4.set_params(criterion = 'entropy', max_depth = 6, n_estimators = 50, class_weight = 'balanced_subsample')\n",
    "randomForest4.fit(X_train, y_train) # fit \n",
    "randomForest4.score(X_train, y_train)\n"
   ]
  },
  {
   "cell_type": "code",
   "execution_count": 24,
   "metadata": {},
   "outputs": [
    {
     "name": "stdout",
     "output_type": "stream",
     "text": [
      "Confusion Matrix: \n",
      " [[882 109]\n",
      " [ 19  72]] \n",
      "\n",
      "Area Under the Curve: 0.8406094410130737\n",
      "Classification Report: \n",
      "               precision    recall  f1-score   support\n",
      "\n",
      "           0       0.98      0.89      0.93       991\n",
      "           1       0.40      0.79      0.53        91\n",
      "\n",
      "    accuracy                           0.88      1082\n",
      "   macro avg       0.69      0.84      0.73      1082\n",
      "weighted avg       0.93      0.88      0.90      1082\n",
      " \n",
      "\n"
     ]
    }
   ],
   "source": [
    "y_pred = randomForest4.predict(X_test)\n",
    "print('Confusion Matrix: \\n {} \\n'.format(confusion_matrix(y_test, y_pred)))\n",
    "print('Area Under the Curve: {}'.format(roc_auc_score(y_test, y_pred)))\n",
    "print('Classification Report: \\n {} \\n'.format(classification_report(y_test, y_pred)))"
   ]
  },
  {
   "cell_type": "markdown",
   "metadata": {},
   "source": [
    "#### Random Forest with Manual Class Weight\n",
    "Accuracy: 0.838, Area Under the Curve: 0.878, Recall: 0.92\n",
    "Best AUC of all models using manual class weight and best parameters from cross validation"
   ]
  },
  {
   "cell_type": "code",
   "execution_count": 25,
   "metadata": {},
   "outputs": [
    {
     "data": {
      "text/plain": [
       "0    4904\n",
       "1     506\n",
       "Name: PotentialFraud, dtype: int64"
      ]
     },
     "execution_count": 25,
     "metadata": {},
     "output_type": "execute_result"
    }
   ],
   "source": [
    "target.value_counts()"
   ]
  },
  {
   "cell_type": "code",
   "execution_count": 26,
   "metadata": {},
   "outputs": [
    {
     "name": "stdout",
     "output_type": "stream",
     "text": [
      "0.10318107667210441\n"
     ]
    }
   ],
   "source": [
    "print(506/4904)\n",
    "# Class 1 is about 10 times more prevalent than class 0"
   ]
  },
  {
   "cell_type": "code",
   "execution_count": 29,
   "metadata": {},
   "outputs": [
    {
     "data": {
      "text/plain": [
       "0.9087338262476895"
      ]
     },
     "execution_count": 29,
     "metadata": {},
     "output_type": "execute_result"
    }
   ],
   "source": [
    "randomForest5 = ensemble.RandomForestClassifier()\n",
    "randomForest5.set_params(criterion = 'entropy', max_depth = 6, n_estimators = 50, class_weight = {0:1, 1:10})\n",
    "randomForest5.fit(X_train, y_train)\n",
    "randomForest5.score(X_train, y_train)"
   ]
  },
  {
   "cell_type": "code",
   "execution_count": 30,
   "metadata": {},
   "outputs": [
    {
     "name": "stdout",
     "output_type": "stream",
     "text": [
      "Confusion Matrix: \n",
      " [[890 101]\n",
      " [ 19  72]] \n",
      "\n",
      "Area Under the Curve: 0.844645767955556\n",
      "Classification Report: \n",
      "               precision    recall  f1-score   support\n",
      "\n",
      "           0       0.98      0.90      0.94       991\n",
      "           1       0.42      0.79      0.55        91\n",
      "\n",
      "    accuracy                           0.89      1082\n",
      "   macro avg       0.70      0.84      0.74      1082\n",
      "weighted avg       0.93      0.89      0.90      1082\n",
      " \n",
      "\n"
     ]
    }
   ],
   "source": [
    "y_pred = randomForest5.predict(X_test)\n",
    "print('Confusion Matrix: \\n {} \\n'.format(confusion_matrix(y_test, y_pred)))\n",
    "print('Area Under the Curve: {}'.format(roc_auc_score(y_test, y_pred)))\n",
    "print('Classification Report: \\n {} \\n'.format(classification_report(y_test, y_pred)))"
   ]
  },
  {
   "cell_type": "code",
   "execution_count": null,
   "metadata": {},
   "outputs": [],
   "source": []
  },
  {
   "cell_type": "code",
   "execution_count": 35,
   "metadata": {},
   "outputs": [
    {
     "data": {
      "text/plain": [
       "0.8458872458410351"
      ]
     },
     "execution_count": 35,
     "metadata": {},
     "output_type": "execute_result"
    }
   ],
   "source": [
    "randomForest5b = ensemble.RandomForestClassifier()\n",
    "randomForest5b.set_params(criterion = 'gini', max_depth = 3, n_estimators = 50, class_weight = {0:1, 1:10})\n",
    "randomForest5b.fit(X_train, y_train)\n",
    "randomForest5b.score(X_train, y_train)"
   ]
  },
  {
   "cell_type": "code",
   "execution_count": 37,
   "metadata": {},
   "outputs": [
    {
     "name": "stdout",
     "output_type": "stream",
     "text": [
      "Confusion Matrix: \n",
      " [[829 162]\n",
      " [  8  83]] \n",
      "\n",
      "Area Under the Curve: 0.8743083354586886\n",
      "Classification Report: \n",
      "               precision    recall  f1-score   support\n",
      "\n",
      "           0       0.99      0.84      0.91       991\n",
      "           1       0.34      0.91      0.49        91\n",
      "\n",
      "    accuracy                           0.84      1082\n",
      "   macro avg       0.66      0.87      0.70      1082\n",
      "weighted avg       0.94      0.84      0.87      1082\n",
      " \n",
      "\n"
     ]
    }
   ],
   "source": [
    "y_pred = randomForest5b.predict(X_test)\n",
    "print('Confusion Matrix: \\n {} \\n'.format(confusion_matrix(y_test, y_pred)))\n",
    "print('Area Under the Curve: {}'.format(roc_auc_score(y_test, y_pred)))\n",
    "print('Classification Report: \\n {} \\n'.format(classification_report(y_test, y_pred)))"
   ]
  },
  {
   "cell_type": "code",
   "execution_count": 44,
   "metadata": {},
   "outputs": [],
   "source": [
    "def plot_cm(y_test, y_pred):\n",
    "    cm = confusion_matrix(y_test, y_pred)\n",
    "    group_names = ['TN','FP','FN','TP']\n",
    "    group_counts = ['{0:0.0f}'.format(value) for value in\n",
    "                cm.flatten()]\n",
    "    group_percentages = ['{0:.2%}'.format(value) for value in\n",
    "                     cm.flatten()/np.sum(cm)]\n",
    "    labels = [f'{v1}\\n{v2}\\n{v3}' for v1, v2, v3 in\n",
    "          zip(group_names,group_counts,group_percentages)]\n",
    "    labels = np.asarray(labels).reshape(2,2)\n",
    "    ax= plt.subplot()\n",
    "    sns.heatmap(cm/np.sum(cm), annot=labels, ax = ax, fmt='', cmap = \"Blues\"); #annot=True to annotate cells\n",
    "    # labels, title and ticks\n",
    "    ax.set_xlabel('Predicted labels');ax.set_ylabel('True labels')\n",
    "    ax.set_title('Confusion Matrix with Random Forest')\n",
    "    ax.xaxis.set_ticklabels(['Not Fraud', 'Potential Fraud']); ax.yaxis.set_ticklabels(['Not Fraud', 'Potential Fraud'])\n",
    "    return\n"
   ]
  },
  {
   "cell_type": "code",
   "execution_count": 45,
   "metadata": {},
   "outputs": [
    {
     "data": {
      "image/png": "[encoded data removed]",
      "text/plain": [
       "<Figure size 432x288 with 2 Axes>"
      ]
     },
     "metadata": {
      "needs_background": "light"
     },
     "output_type": "display_data"
    }
   ],
   "source": [
    "plot_cm(y_test, y_pred)"
   ]
  },
  {
   "cell_type": "markdown",
   "metadata": {},
   "source": [
    "### Grid Search with manual Class Weight\n",
    "Cross validate with manual class weight"
   ]
  },
  {
   "cell_type": "code",
   "execution_count": 31,
   "metadata": {},
   "outputs": [
    {
     "name": "stdout",
     "output_type": "stream",
     "text": [
      "CPU times: user 19.8 s, sys: 3.65 s, total: 23.5 s\n",
      "Wall time: 7min 39s\n"
     ]
    },
    {
     "data": {
      "text/plain": [
       "GridSearchCV(cv=5, error_score=nan,\n",
       "             estimator=RandomForestClassifier(bootstrap=True, ccp_alpha=0.0,\n",
       "                                              class_weight={0: 1, 1: 10},\n",
       "                                              criterion='gini', max_depth=None,\n",
       "                                              max_features='auto',\n",
       "                                              max_leaf_nodes=None,\n",
       "                                              max_samples=None,\n",
       "                                              min_impurity_decrease=0.0,\n",
       "                                              min_impurity_split=None,\n",
       "                                              min_samples_leaf=1,\n",
       "                                              min_samples_split=2,\n",
       "                                              min_weight_fraction_leaf=0.0,\n",
       "                                              n_estimators=100, n_jobs=None,\n",
       "                                              oob_score=False,\n",
       "                                              random_state=None, verbose=0,\n",
       "                                              warm_start=False),\n",
       "             iid='deprecated', n_jobs=-1,\n",
       "             param_grid={'criterion': ['gini', 'entropy'],\n",
       "                         'max_depth': range(1, 31),\n",
       "                         'n_estimators': range(10, 110, 10)},\n",
       "             pre_dispatch='2*n_jobs', refit=True, return_train_score=False,\n",
       "             scoring='accuracy', verbose=0)"
      ]
     },
     "execution_count": 31,
     "metadata": {},
     "output_type": "execute_result"
    }
   ],
   "source": [
    "randomForest6 = ensemble.RandomForestClassifier(class_weight = {0:1, 1:10})\n",
    "grid_search_forest2 = ms.GridSearchCV(randomForest6, grid_para_forest, scoring='accuracy', cv=5, n_jobs=-1)\n",
    "%time grid_search_forest2.fit(X_train, y_train)\n"
   ]
  },
  {
   "cell_type": "code",
   "execution_count": 32,
   "metadata": {},
   "outputs": [
    {
     "data": {
      "text/plain": [
       "{'criterion': 'entropy', 'max_depth': 26, 'n_estimators': 90}"
      ]
     },
     "execution_count": 32,
     "metadata": {},
     "output_type": "execute_result"
    }
   ],
   "source": [
    "grid_search_forest2.best_params_"
   ]
  },
  {
   "cell_type": "code",
   "execution_count": 33,
   "metadata": {},
   "outputs": [
    {
     "data": {
      "text/plain": [
       "0.9325325394812373"
      ]
     },
     "execution_count": 33,
     "metadata": {},
     "output_type": "execute_result"
    }
   ],
   "source": [
    "grid_search_forest2.best_score_"
   ]
  },
  {
   "cell_type": "code",
   "execution_count": 34,
   "metadata": {},
   "outputs": [
    {
     "name": "stdout",
     "output_type": "stream",
     "text": [
      "Confusion Matrix: \n",
      " [[974  17]\n",
      " [ 52  39]] \n",
      "\n",
      "Area Under the Curve: 0.7057085195329393\n",
      "Classification Report: \n",
      "               precision    recall  f1-score   support\n",
      "\n",
      "           0       0.95      0.98      0.97       991\n",
      "           1       0.70      0.43      0.53        91\n",
      "\n",
      "    accuracy                           0.94      1082\n",
      "   macro avg       0.82      0.71      0.75      1082\n",
      "weighted avg       0.93      0.94      0.93      1082\n",
      " \n",
      "\n"
     ]
    }
   ],
   "source": [
    "y_pred = grid_search_forest2.predict(X_test)\n",
    "print('Confusion Matrix: \\n {} \\n'.format(confusion_matrix(y_test, y_pred)))\n",
    "print('Area Under the Curve: {}'.format(roc_auc_score(y_test, y_pred)))\n",
    "print('Classification Report: \\n {} \\n'.format(classification_report(y_test, y_pred)))"
   ]
  },
  {
   "cell_type": "markdown",
   "metadata": {},
   "source": [
    "### Feature Importance from Model with Best AUC Score\n",
    "###### randomForest5.set_params(criterion = 'gini', max_depth = 3, n_estimators = 50, class_weight = {0:1, 1:10})\n",
    "###### Accuracy: 0.84, Area Under the Curve: 0.874, Recall: 0.91"
   ]
  },
  {
   "cell_type": "code",
   "execution_count": 38,
   "metadata": {},
   "outputs": [
    {
     "data": {
      "text/plain": [
       "[b'Inpatient',\n",
       " b'ClmProcedureCode_count',\n",
       " b'ClmAdmitDiagnosisCode',\n",
       " b'ClmProcedureCode',\n",
       " b'4019_diagcode',\n",
       " b'42731_diagcode',\n",
       " b'25000_diagcode',\n",
       " b'ClmDiagnosisCode_count',\n",
       " b'2449_diagcode',\n",
       " b'2724_diagcode',\n",
       " b'DeductibleAmtPaid',\n",
       " b'duplicate',\n",
       " b'treatment_days',\n",
       " b'RenalDiseaseIndicator',\n",
       " b'InscClaimAmtReimbursed',\n",
       " b'Other_diagcode',\n",
       " b'claim_Days',\n",
       " b'4011_diagcode',\n",
       " b'IPAnnualReimbursementAmt',\n",
       " b'V5861_diagcode']"
      ]
     },
     "execution_count": 38,
     "metadata": {},
     "output_type": "execute_result"
    }
   ],
   "source": [
    "# Showing 20 most important features\n",
    "feature_importance = list(zip(final_df.columns, randomForest5b.feature_importances_))\n",
    "dtype = [('feature', 'S30'), ('importance', 'float')]\n",
    "feature_importance = np.array(feature_importance, dtype=dtype)\n",
    "feature_sort = np.sort(feature_importance, order='importance')[::-1]\n",
    "[i for (i, j) in feature_sort[0:20]]"
   ]
  },
  {
   "cell_type": "code",
   "execution_count": 39,
   "metadata": {},
   "outputs": [
    {
     "data": {
      "text/plain": [
       "Text(0.5, 1.0, 'feature importance')"
      ]
     },
     "execution_count": 39,
     "metadata": {},
     "output_type": "execute_result"
    },
    {
     "data": {
      "image/png": "[encoded data removed]",
      "text/plain": [
       "<Figure size 1440x720 with 1 Axes>"
      ]
     },
     "metadata": {
      "needs_background": "light"
     },
     "output_type": "display_data"
    }
   ],
   "source": [
    "featureNames, featureScores = zip(*list(feature_sort))\n",
    "plt.figure(figsize=(20,10))\n",
    "plt.barh(range(len(featureScores)), featureScores, tick_label=featureNames)\n",
    "plt.title('feature importance')"
   ]
  },
  {
   "cell_type": "code",
   "execution_count": null,
   "metadata": {},
   "outputs": [],
   "source": []
  }
 ],
 "metadata": {
  "kernelspec": {
   "display_name": "Python 3",
   "language": "python",
   "name": "python3"
  },
  "language_info": {
   "codemirror_mode": {
    "name": "ipython",
    "version": 3
   },
   "file_extension": ".py",
   "mimetype": "text/x-python",
   "name": "python",
   "nbconvert_exporter": "python",
   "pygments_lexer": "ipython3",
   "version": "3.7.6"
  }
 },
 "nbformat": 4,
 "nbformat_minor": 4
}
