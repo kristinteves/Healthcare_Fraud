{
 "cells": [
  {
   "cell_type": "code",
   "execution_count": 10,
   "metadata": {},
   "outputs": [],
   "source": [
    "import pandas as pd\n",
    "import numpy as np"
   ]
  },
  {
   "cell_type": "code",
   "execution_count": 11,
   "metadata": {},
   "outputs": [],
   "source": [
    "pd.options.display.max_columns = None\n",
    "pd.options.display.max_rows = None"
   ]
  },
  {
   "cell_type": "code",
   "execution_count": 35,
   "metadata": {},
   "outputs": [],
   "source": [
    "data = pd.read_csv('Clean_data.csv')"
   ]
  },
  {
   "cell_type": "code",
   "execution_count": 36,
   "metadata": {},
   "outputs": [],
   "source": [
    "def groupby_provider(data):\n",
    "    '''\n",
    "    This function converts DOD and gender to binary code and groups data by provider.\n",
    "    '''\n",
    "    \n",
    "    num_claims = data.groupby('Provider')['ClaimID'].count()\n",
    "    \n",
    "    sum_features = data.groupby('Provider')[['DOD', 'ClmAdmitDiagnosisCode','Inpatient','ClmProcedureCode','ClmProcedureCode_count',\\\n",
    "                             'ClmDiagnosisCode_count', 'RenalDiseaseIndicator', 'duplicate','V5869_diag',\\\n",
    "                            'V5861_diag','2724_diag','4011_diag',\\\n",
    "                            '2449_diag','4019_diag','25000_diag','42731_diag',\\\n",
    "                            '4019_proc','9904_proc', '2724_proc', '8154_proc', '66_proc',\\\n",
    "                            '3893_proc', '3995_proc', '4516_proc', '3722_proc', '8151_proc',\\\n",
    "                            '8872_proc']].sum().reset_index() \n",
    "    \n",
    "    mean_features = data.groupby('Provider')[['Patient_Connections','AttPhys_Connections','InscClaimAmtReimbursed',\\\n",
    "                            'DeductibleAmtPaid','treatment_days','Gender', 'IPAnnualReimbursementAmt',\\\n",
    "                                  'NoOfMonths_PartACov', 'NoOfMonths_PartBCov', 'IPAnnualDeductibleAmt',\\\n",
    "                                  'OPAnnualReimbursementAmt', 'OPAnnualDeductibleAmt', 'num_chronic',\\\n",
    "                                  'Age','claim_days']].mean().reset_index()\n",
    "    \n",
    "    data2 = pd.merge(num_claims, sum_features, how=\"outer\", on=\"Provider\")\n",
    "    \n",
    "    data3 = pd.merge(data2, mean_features, how=\"outer\", on=\"Provider\")\n",
    "    \n",
    "    return data3"
   ]
  },
  {
   "cell_type": "code",
   "execution_count": 37,
   "metadata": {},
   "outputs": [],
   "source": [
    "data = groupby_provider(data)"
   ]
  },
  {
   "cell_type": "code",
   "execution_count": null,
   "metadata": {},
   "outputs": [],
   "source": []
  }
 ],
 "metadata": {
  "kernelspec": {
   "display_name": "Python 3",
   "language": "python",
   "name": "python3"
  },
  "language_info": {
   "codemirror_mode": {
    "name": "ipython",
    "version": 3
   },
   "file_extension": ".py",
   "mimetype": "text/x-python",
   "name": "python",
   "nbconvert_exporter": "python",
   "pygments_lexer": "ipython3",
   "version": "3.7.7"
  }
 },
 "nbformat": 4,
 "nbformat_minor": 4
}
