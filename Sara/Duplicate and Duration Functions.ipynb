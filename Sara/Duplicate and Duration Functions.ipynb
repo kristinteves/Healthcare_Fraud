{
 "cells": [
  {
   "cell_type": "code",
   "execution_count": 2,
   "metadata": {},
   "outputs": [],
   "source": [
    "import pandas as pd\n",
    "import numpy as np\n",
    "from datetime import datetime"
   ]
  },
  {
   "cell_type": "code",
   "execution_count": 3,
   "metadata": {},
   "outputs": [],
   "source": [
    "pd.options.display.max_columns = None\n",
    "pd.options.display.max_rows = None"
   ]
  },
  {
   "cell_type": "code",
   "execution_count": 4,
   "metadata": {},
   "outputs": [
    {
     "name": "stderr",
     "output_type": "stream",
     "text": [
      "/Users/sjk252/opt/anaconda3/lib/python3.7/site-packages/IPython/core/interactiveshell.py:3072: DtypeWarning: Columns (39,49) have mixed types.Specify dtype option on import or set low_memory=False.\n",
      "  interactivity=interactivity, compiler=compiler, result=result)\n"
     ]
    }
   ],
   "source": [
    "parse_dates = ['ClaimStartDt','DOB','ClaimEndDt','AdmissionDt','DOD','DischargeDt']\n",
    "data = pd.read_csv('full_data2.csv', parse_dates=parse_dates)"
   ]
  },
  {
   "cell_type": "markdown",
   "metadata": {},
   "source": [
    "## Code for function to code whether claim is a duplicate"
   ]
  },
  {
   "cell_type": "code",
   "execution_count": 5,
   "metadata": {},
   "outputs": [],
   "source": [
    "def duplicate_claims (data):\n",
    "    \"\"\"\n",
    "    This function creates a feature that codes for whether a claim is a duplicate.\n",
    "    \"\"\"\n",
    "    duplicate_columns = [col for col in data.columns if 'ClmDiagnosis' in col or 'ClmProcedureCode'in col \n",
    "                    or 'ClmAdmitDiagnosisCode' in col]\n",
    "    data['duplicate'] = data.duplicated(duplicate_columns, keep=False)\n",
    "    data['duplicate'] = [1 if x == True else 0 for x in data.duplicate]\n",
    "    \n",
    "    return data\n"
   ]
  },
  {
   "cell_type": "code",
   "execution_count": 6,
   "metadata": {},
   "outputs": [],
   "source": [
    "data = duplicate_claims(data)"
   ]
  },
  {
   "cell_type": "markdown",
   "metadata": {},
   "source": [
    "## Code for function to create claim duration and treatment duration features"
   ]
  },
  {
   "cell_type": "code",
   "execution_count": null,
   "metadata": {},
   "outputs": [],
   "source": [
    "def duration(data):\n",
    "    \"\"\"\n",
    "    This function creates new features for claim duration and treatment duration in number of days.\n",
    "    NOTE: This code requires date columns to be of datetime64 dtype, so data needs to be read with parse_dates code.\n",
    "    \"\"\"\n",
    "    claim_duration = data.ClaimEndDt - data.ClaimStartDt\n",
    "    data['claim_days'] = claim_duration / np.timedelta64(1, 'D')\n",
    "    \n",
    "    treatment_duration = data['DischargeDt'] - data['AdmissionDt']\n",
    "    data['treatment_days'] = treatment_duration / np.timedelta64(1, 'D')\n",
    "    \n",
    "    return data"
   ]
  },
  {
   "cell_type": "code",
   "execution_count": null,
   "metadata": {},
   "outputs": [],
   "source": [
    "data = duration(data)"
   ]
  }
 ],
 "metadata": {
  "kernelspec": {
   "display_name": "Python 3",
   "language": "python",
   "name": "python3"
  },
  "language_info": {
   "codemirror_mode": {
    "name": "ipython",
    "version": 3
   },
   "file_extension": ".py",
   "mimetype": "text/x-python",
   "name": "python",
   "nbconvert_exporter": "python",
   "pygments_lexer": "ipython3",
   "version": "3.7.6"
  }
 },
 "nbformat": 4,
 "nbformat_minor": 4
}
