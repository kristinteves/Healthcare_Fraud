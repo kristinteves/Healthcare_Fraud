{
 "cells": [
  {
   "cell_type": "code",
   "execution_count": 48,
   "metadata": {},
   "outputs": [],
   "source": [
    "import pandas as pd\n",
    "from datetime import datetime"
   ]
  },
  {
   "cell_type": "code",
   "execution_count": 49,
   "metadata": {},
   "outputs": [],
   "source": [
    "pd.options.display.max_columns = None\n",
    "pd.options.display.max_rows = None"
   ]
  },
  {
   "cell_type": "code",
   "execution_count": 50,
   "metadata": {},
   "outputs": [
    {
     "name": "stderr",
     "output_type": "stream",
     "text": [
      "/Users/sjk252/opt/anaconda3/lib/python3.7/site-packages/IPython/core/interactiveshell.py:3072: DtypeWarning: Columns (38,48) have mixed types.Specify dtype option on import or set low_memory=False.\n",
      "  interactivity=interactivity, compiler=compiler, result=result)\n"
     ]
    }
   ],
   "source": [
    "parse_dates = ['ClaimStartDt','DOB','ClaimEndDt','AdmissionDt','DOD','DischargeDt']\n",
    "data = pd.read_csv('data.csv', parse_dates=parse_dates)"
   ]
  },
  {
   "cell_type": "code",
   "execution_count": 52,
   "metadata": {},
   "outputs": [
    {
     "data": {
      "text/plain": [
       "Provider                                   object\n",
       "PotentialFraud                             object\n",
       "BeneID                                     object\n",
       "DOB                                datetime64[ns]\n",
       "DOD                                datetime64[ns]\n",
       "Gender                                      int64\n",
       "Race                                        int64\n",
       "RenalDiseaseIndicator                      object\n",
       "State                                       int64\n",
       "County                                      int64\n",
       "NoOfMonths_PartACov                         int64\n",
       "NoOfMonths_PartBCov                         int64\n",
       "ChronicCond_Alzheimer                       int64\n",
       "ChronicCond_Heartfailure                    int64\n",
       "ChronicCond_KidneyDisease                   int64\n",
       "ChronicCond_Cancer                          int64\n",
       "ChronicCond_ObstrPulmonary                  int64\n",
       "ChronicCond_Depression                      int64\n",
       "ChronicCond_Diabetes                        int64\n",
       "ChronicCond_IschemicHeart                   int64\n",
       "ChronicCond_Osteoporasis                    int64\n",
       "ChronicCond_rheumatoidarthritis             int64\n",
       "ChronicCond_stroke                          int64\n",
       "IPAnnualReimbursementAmt                    int64\n",
       "IPAnnualDeductibleAmt                       int64\n",
       "OPAnnualReimbursementAmt                    int64\n",
       "OPAnnualDeductibleAmt                       int64\n",
       "ClaimID                                    object\n",
       "ClaimStartDt                       datetime64[ns]\n",
       "ClaimEndDt                         datetime64[ns]\n",
       "InscClaimAmtReimbursed                      int64\n",
       "AttendingPhysician                         object\n",
       "OperatingPhysician                         object\n",
       "OtherPhysician                             object\n",
       "AdmissionDt                        datetime64[ns]\n",
       "ClmAdmitDiagnosisCode                      object\n",
       "DeductibleAmtPaid                         float64\n",
       "DischargeDt                        datetime64[ns]\n",
       "DiagnosisGroupCode                         object\n",
       "ClmDiagnosisCode_1                         object\n",
       "ClmDiagnosisCode_2                         object\n",
       "ClmDiagnosisCode_3                         object\n",
       "ClmDiagnosisCode_4                         object\n",
       "ClmDiagnosisCode_5                         object\n",
       "ClmDiagnosisCode_6                         object\n",
       "ClmDiagnosisCode_7                         object\n",
       "ClmDiagnosisCode_8                         object\n",
       "ClmDiagnosisCode_9                         object\n",
       "ClmDiagnosisCode_10                        object\n",
       "ClmProcedureCode_1                        float64\n",
       "ClmProcedureCode_2                        float64\n",
       "ClmProcedureCode_3                        float64\n",
       "ClmProcedureCode_4                        float64\n",
       "ClmProcedureCode_5                        float64\n",
       "ClmProcedureCode_6                        float64\n",
       "patient_type                                int64\n",
       "dtype: object"
      ]
     },
     "execution_count": 52,
     "metadata": {},
     "output_type": "execute_result"
    }
   ],
   "source": [
    "data.dtypes"
   ]
  },
  {
   "cell_type": "code",
   "execution_count": null,
   "metadata": {},
   "outputs": [],
   "source": []
  }
 ],
 "metadata": {
  "kernelspec": {
   "display_name": "Python 3",
   "language": "python",
   "name": "python3"
  },
  "language_info": {
   "codemirror_mode": {
    "name": "ipython",
    "version": 3
   },
   "file_extension": ".py",
   "mimetype": "text/x-python",
   "name": "python",
   "nbconvert_exporter": "python",
   "pygments_lexer": "ipython3",
   "version": "3.7.7"
  }
 },
 "nbformat": 4,
 "nbformat_minor": 4
}
