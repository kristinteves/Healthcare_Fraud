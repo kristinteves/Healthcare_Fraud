{
 "cells": [
  {
   "cell_type": "code",
   "execution_count": 2,
   "metadata": {},
   "outputs": [
    {
     "name": "stdout",
     "output_type": "stream",
     "text": [
      "Collecting networkx\n",
      "  Downloading networkx-2.5-py3-none-any.whl (1.6 MB)\n",
      "\u001b[K     |████████████████████████████████| 1.6 MB 3.1 MB/s eta 0:00:01\n",
      "\u001b[?25hRequirement already satisfied: decorator>=4.3.0 in /Users/thisbekristin/opt/miniconda3/lib/python3.7/site-packages (from networkx) (4.4.2)\n",
      "Installing collected packages: networkx\n",
      "Successfully installed networkx-2.5\n",
      "Note: you may need to restart the kernel to use updated packages.\n"
     ]
    }
   ],
   "source": [
    "pip install networkx"
   ]
  },
  {
   "cell_type": "code",
   "execution_count": 1,
   "metadata": {},
   "outputs": [],
   "source": [
    "import pandas as pd\n",
    "import numpy as np\n",
    "import networkx as nx"
   ]
  },
  {
   "cell_type": "code",
   "execution_count": 36,
   "metadata": {},
   "outputs": [],
   "source": [
    "pd.options.display.max_columns = None\n",
    "pd.options.display.max_rows = None"
   ]
  },
  {
   "cell_type": "code",
   "execution_count": 42,
   "metadata": {},
   "outputs": [
    {
     "name": "stderr",
     "output_type": "stream",
     "text": [
      "/Users/sjk252/opt/anaconda3/lib/python3.7/site-packages/IPython/core/interactiveshell.py:3072: DtypeWarning: Columns (5,39,49) have mixed types.Specify dtype option on import or set low_memory=False.\n",
      "  interactivity=interactivity, compiler=compiler, result=result)\n"
     ]
    }
   ],
   "source": [
    "data = pd.read_csv('full_data2.csv')"
   ]
  },
  {
   "cell_type": "code",
   "execution_count": 43,
   "metadata": {},
   "outputs": [],
   "source": [
    "def network_connections(data):\n",
    "    \"\"\"\n",
    "    This function conducts social network analysis and returns two added features to the data set:\n",
    "    1) Number of physicians connected to each provider\n",
    "    2) Number of patients connected to each provider\n",
    "    \"\"\"\n",
    "    Full_soc_dataProv = data.groupby(['Provider','AttendingPhysician'])['PotentialFraud'].count().reset_index()\n",
    "    Full_soc_dataPatient = data.groupby(['Provider','BeneID'])['PotentialFraud'].count().reset_index()\n",
    "    \n",
    "    G1 = nx.Graph()\n",
    "    G1 = nx.from_pandas_edgelist(Full_soc_dataProv, 'Provider','AttendingPhysician')\n",
    "    prov_phys_degree = pd.DataFrame(G1.degree)\n",
    "    prov_phys_degree.columns = ['Provider','AttPhys_Connections']\n",
    "    prov_phys_degree2 = prov_phys_degree[prov_phys_degree['Provider'].str.contains('PRV')]\n",
    "    data = pd.merge(prov_phys_degree2, data, how=\"outer\", on=\"Provider\")\n",
    "    \n",
    "    G2 = nx.Graph()\n",
    "    G2 = nx.from_pandas_edgelist(Full_soc_dataPatient, 'Provider','BeneID')\n",
    "    prov_patient_degree = pd.DataFrame(G2.degree)\n",
    "    prov_patient_degree.columns = ['Provider','Patient_Connections']\n",
    "    prov_patient_degree2 = prov_patient_degree[prov_patient_degree['Provider'].str.contains('PRV')]\n",
    "    data = pd.merge(prov_patient_degree2, data, how=\"outer\", on=\"Provider\")\n",
    "    \n",
    "    return data"
   ]
  },
  {
   "cell_type": "code",
   "execution_count": 44,
   "metadata": {},
   "outputs": [],
   "source": [
    "data = network_connections(data)"
   ]
  }
 ],
 "metadata": {
  "kernelspec": {
   "display_name": "Python 3",
   "language": "python",
   "name": "python3"
  },
  "language_info": {
   "codemirror_mode": {
    "name": "ipython",
    "version": 3
   },
   "file_extension": ".py",
   "mimetype": "text/x-python",
   "name": "python",
   "nbconvert_exporter": "python",
   "pygments_lexer": "ipython3",
   "version": "3.7.7"
  }
 },
 "nbformat": 4,
 "nbformat_minor": 4
}
