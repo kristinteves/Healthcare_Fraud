{
 "cells": [
  {
   "cell_type": "markdown",
   "metadata": {},
   "source": [
    "# Supervised Learning - Gradient Boosting Classifier"
   ]
  },
  {
   "cell_type": "code",
   "execution_count": 1,
   "metadata": {},
   "outputs": [],
   "source": [
    "%matplotlib inline\n",
    "\n",
    "import pandas as pd\n",
    "import numpy as np\n",
    "from numpy import where\n",
    "import matplotlib.pyplot as plt\n",
    "import seaborn as sns\n",
    "import datetime\n",
    "from scipy import stats\n",
    "from collections import OrderedDict, Counter\n",
    "from functools import reduce\n",
    "from mlxtend.frequent_patterns import apriori, association_rules\n",
    "import xgboost as xgb\n",
    "from xgboost import XGBClassifier\n",
    "import imblearn\n",
    "from imblearn.over_sampling import SMOTE\n",
    "from sklearn import model_selection\n",
    "from sklearn.preprocessing import StandardScaler\n",
    "\n",
    "from sklearn.linear_model import LinearRegression, LogisticRegression\n",
    "from sklearn.svm import SVC\n",
    "from sklearn import preprocessing\n",
    "from sklearn.impute import SimpleImputer\n",
    "from sklearn.model_selection import train_test_split, RandomizedSearchCV, RepeatedStratifiedKFold, cross_val_score,\\\n",
    "GridSearchCV, cross_val_predict\n",
    "from sklearn.metrics import r2_score, mean_squared_error, accuracy_score, roc_auc_score, f1_score, fbeta_score, classification_report,\\\n",
    "confusion_matrix, roc_curve, precision_score, recall_score, plot_confusion_matrix, precision_recall_curve, auc\n",
    "from sklearn.ensemble import GradientBoostingClassifier, GradientBoostingRegressor, RandomForestClassifier\n",
    "from sklearn.feature_selection import chi2, f_regression, f_classif, mutual_info_classif,\\\n",
    "mutual_info_regression, SelectKBest, SelectFromModel, VarianceThreshold\n",
    "from sklearn.naive_bayes import GaussianNB\n",
    "from sklearn.neighbors import KNeighborsClassifier\n",
    "from sklearn.utils.class_weight import compute_sample_weight\n",
    "from sklearn.ensemble import VotingClassifier"
   ]
  },
  {
   "cell_type": "markdown",
   "metadata": {},
   "source": [
    "## Notes\n",
    "* Classification on imbalanced datasets: https://towardsdatascience.com/guide-to-classification-on-imbalanced-datasets-d6653aa5fa23\n",
    "    * https://machinelearningmastery.com/framework-for-imbalanced-classification-projects/\n",
    "* Metrics: https://machinelearningmastery.com/tour-of-evaluation-metrics-for-imbalanced-classification/\n",
    "* There are problems where a class imbalance is not just common, it is expected. For example, in datasets like those that characterize fraudulent transactions are imbalanced. The vast majority of the transactions will be in the “Not-Fraud” class and a very small minority will be in the “Fraud” class. \n",
    "    * https://machinelearningmastery.com/tactics-to-combat-imbalanced-classes-in-your-machine-learning-dataset/\n",
    "    * https://datascience.stackexchange.com/questions/36862/macro-or-micro-average-for-imbalanced-class-problems\n"
   ]
  },
  {
   "cell_type": "markdown",
   "metadata": {},
   "source": [
    "## Data set up"
   ]
  },
  {
   "cell_type": "code",
   "execution_count": 2,
   "metadata": {},
   "outputs": [],
   "source": [
    "train = pd.read_csv('Train_Clean_data.csv')"
   ]
  },
  {
   "cell_type": "code",
   "execution_count": 3,
   "metadata": {},
   "outputs": [],
   "source": [
    "train_y = pd.read_csv('Train.csv')"
   ]
  },
  {
   "cell_type": "code",
   "execution_count": 4,
   "metadata": {},
   "outputs": [],
   "source": [
    "combine = train.merge(train_y, on='Provider')"
   ]
  },
  {
   "cell_type": "code",
   "execution_count": 5,
   "metadata": {},
   "outputs": [],
   "source": [
    "x = combine.drop(['Provider','PotentialFraud','DOD'], axis=1)\n",
    "y = combine['PotentialFraud']\n",
    "y = y.replace(['Yes','No'],[1,0])"
   ]
  },
  {
   "cell_type": "code",
   "execution_count": 6,
   "metadata": {},
   "outputs": [
    {
     "data": {
      "text/html": [
       "<div>\n",
       "<style scoped>\n",
       "    .dataframe tbody tr th:only-of-type {\n",
       "        vertical-align: middle;\n",
       "    }\n",
       "\n",
       "    .dataframe tbody tr th {\n",
       "        vertical-align: top;\n",
       "    }\n",
       "\n",
       "    .dataframe thead th {\n",
       "        text-align: right;\n",
       "    }\n",
       "</style>\n",
       "<table border=\"1\" class=\"dataframe\">\n",
       "  <thead>\n",
       "    <tr style=\"text-align: right;\">\n",
       "      <th></th>\n",
       "      <th>Provider</th>\n",
       "      <th>ClaimID</th>\n",
       "      <th>DOD</th>\n",
       "      <th>ClmAdmitDiagnosisCode</th>\n",
       "      <th>Inpatient</th>\n",
       "      <th>ClmProcedureCode</th>\n",
       "      <th>ClmProcedureCode_count</th>\n",
       "      <th>ClmDiagnosisCode_count</th>\n",
       "      <th>RenalDiseaseIndicator</th>\n",
       "      <th>duplicate</th>\n",
       "      <th>V5869_diag</th>\n",
       "      <th>V5861_diag</th>\n",
       "      <th>2724_diag</th>\n",
       "      <th>4011_diag</th>\n",
       "      <th>2449_diag</th>\n",
       "      <th>4019_diag</th>\n",
       "      <th>25000_diag</th>\n",
       "      <th>42731_diag</th>\n",
       "      <th>4019_proc</th>\n",
       "      <th>9904_proc</th>\n",
       "      <th>2724_proc</th>\n",
       "      <th>8154_proc</th>\n",
       "      <th>66_proc</th>\n",
       "      <th>3893_proc</th>\n",
       "      <th>3995_proc</th>\n",
       "      <th>4516_proc</th>\n",
       "      <th>3722_proc</th>\n",
       "      <th>8151_proc</th>\n",
       "      <th>8872_proc</th>\n",
       "      <th>5_state</th>\n",
       "      <th>10_state</th>\n",
       "      <th>33_state</th>\n",
       "      <th>45_state</th>\n",
       "      <th>14_state</th>\n",
       "      <th>39_state</th>\n",
       "      <th>Patient_Connections</th>\n",
       "      <th>AttPhys_Connections</th>\n",
       "      <th>InscClaimAmtReimbursed</th>\n",
       "      <th>DeductibleAmtPaid</th>\n",
       "      <th>treatment_days</th>\n",
       "      <th>Gender</th>\n",
       "      <th>IPAnnualReimbursementAmt</th>\n",
       "      <th>NoOfMonths_PartACov</th>\n",
       "      <th>NoOfMonths_PartBCov</th>\n",
       "      <th>IPAnnualDeductibleAmt</th>\n",
       "      <th>OPAnnualReimbursementAmt</th>\n",
       "      <th>OPAnnualDeductibleAmt</th>\n",
       "      <th>num_chronic</th>\n",
       "      <th>Age</th>\n",
       "      <th>claim_days</th>\n",
       "    </tr>\n",
       "  </thead>\n",
       "  <tbody>\n",
       "    <tr>\n",
       "      <th>0</th>\n",
       "      <td>PRV51001</td>\n",
       "      <td>25</td>\n",
       "      <td>0</td>\n",
       "      <td>11</td>\n",
       "      <td>5.0</td>\n",
       "      <td>2.0</td>\n",
       "      <td>3.0</td>\n",
       "      <td>80.0</td>\n",
       "      <td>8.0</td>\n",
       "      <td>12</td>\n",
       "      <td>1</td>\n",
       "      <td>0</td>\n",
       "      <td>2</td>\n",
       "      <td>0</td>\n",
       "      <td>1</td>\n",
       "      <td>3</td>\n",
       "      <td>1</td>\n",
       "      <td>2</td>\n",
       "      <td>0</td>\n",
       "      <td>0</td>\n",
       "      <td>1</td>\n",
       "      <td>0</td>\n",
       "      <td>0</td>\n",
       "      <td>0</td>\n",
       "      <td>0</td>\n",
       "      <td>0</td>\n",
       "      <td>0</td>\n",
       "      <td>0</td>\n",
       "      <td>0</td>\n",
       "      <td>0</td>\n",
       "      <td>0</td>\n",
       "      <td>0</td>\n",
       "      <td>0</td>\n",
       "      <td>0</td>\n",
       "      <td>0</td>\n",
       "      <td>24.0</td>\n",
       "      <td>14.0</td>\n",
       "      <td>4185.600000</td>\n",
       "      <td>213.600000</td>\n",
       "      <td>1.000000</td>\n",
       "      <td>0.640000</td>\n",
       "      <td>17606.000000</td>\n",
       "      <td>12.000000</td>\n",
       "      <td>12.000000</td>\n",
       "      <td>897.120000</td>\n",
       "      <td>2615.200000</td>\n",
       "      <td>463.920000</td>\n",
       "      <td>5.560000</td>\n",
       "      <td>77.880000</td>\n",
       "      <td>1.440000</td>\n",
       "    </tr>\n",
       "    <tr>\n",
       "      <th>1</th>\n",
       "      <td>PRV51003</td>\n",
       "      <td>132</td>\n",
       "      <td>1</td>\n",
       "      <td>78</td>\n",
       "      <td>62.0</td>\n",
       "      <td>39.0</td>\n",
       "      <td>48.0</td>\n",
       "      <td>693.0</td>\n",
       "      <td>29.0</td>\n",
       "      <td>29</td>\n",
       "      <td>7</td>\n",
       "      <td>6</td>\n",
       "      <td>16</td>\n",
       "      <td>3</td>\n",
       "      <td>12</td>\n",
       "      <td>25</td>\n",
       "      <td>15</td>\n",
       "      <td>11</td>\n",
       "      <td>3</td>\n",
       "      <td>0</td>\n",
       "      <td>1</td>\n",
       "      <td>2</td>\n",
       "      <td>1</td>\n",
       "      <td>2</td>\n",
       "      <td>2</td>\n",
       "      <td>1</td>\n",
       "      <td>2</td>\n",
       "      <td>0</td>\n",
       "      <td>0</td>\n",
       "      <td>0</td>\n",
       "      <td>23</td>\n",
       "      <td>0</td>\n",
       "      <td>0</td>\n",
       "      <td>0</td>\n",
       "      <td>0</td>\n",
       "      <td>117.0</td>\n",
       "      <td>44.0</td>\n",
       "      <td>4588.409091</td>\n",
       "      <td>502.166667</td>\n",
       "      <td>2.424242</td>\n",
       "      <td>0.590909</td>\n",
       "      <td>7568.181818</td>\n",
       "      <td>11.818182</td>\n",
       "      <td>11.871212</td>\n",
       "      <td>931.424242</td>\n",
       "      <td>2678.181818</td>\n",
       "      <td>737.121212</td>\n",
       "      <td>4.545455</td>\n",
       "      <td>69.083333</td>\n",
       "      <td>3.674242</td>\n",
       "    </tr>\n",
       "    <tr>\n",
       "      <th>2</th>\n",
       "      <td>PRV51004</td>\n",
       "      <td>149</td>\n",
       "      <td>1</td>\n",
       "      <td>28</td>\n",
       "      <td>0.0</td>\n",
       "      <td>0.0</td>\n",
       "      <td>0.0</td>\n",
       "      <td>385.0</td>\n",
       "      <td>23.0</td>\n",
       "      <td>76</td>\n",
       "      <td>2</td>\n",
       "      <td>4</td>\n",
       "      <td>12</td>\n",
       "      <td>6</td>\n",
       "      <td>8</td>\n",
       "      <td>22</td>\n",
       "      <td>8</td>\n",
       "      <td>3</td>\n",
       "      <td>0</td>\n",
       "      <td>0</td>\n",
       "      <td>0</td>\n",
       "      <td>0</td>\n",
       "      <td>0</td>\n",
       "      <td>0</td>\n",
       "      <td>0</td>\n",
       "      <td>0</td>\n",
       "      <td>0</td>\n",
       "      <td>0</td>\n",
       "      <td>0</td>\n",
       "      <td>0</td>\n",
       "      <td>6</td>\n",
       "      <td>0</td>\n",
       "      <td>0</td>\n",
       "      <td>4</td>\n",
       "      <td>0</td>\n",
       "      <td>138.0</td>\n",
       "      <td>38.0</td>\n",
       "      <td>350.134228</td>\n",
       "      <td>2.080537</td>\n",
       "      <td>0.000000</td>\n",
       "      <td>0.691275</td>\n",
       "      <td>4351.879195</td>\n",
       "      <td>11.865772</td>\n",
       "      <td>11.959732</td>\n",
       "      <td>434.953020</td>\n",
       "      <td>2194.899329</td>\n",
       "      <td>622.751678</td>\n",
       "      <td>4.342282</td>\n",
       "      <td>71.261745</td>\n",
       "      <td>1.429530</td>\n",
       "    </tr>\n",
       "    <tr>\n",
       "      <th>3</th>\n",
       "      <td>PRV51005</td>\n",
       "      <td>1165</td>\n",
       "      <td>4</td>\n",
       "      <td>252</td>\n",
       "      <td>0.0</td>\n",
       "      <td>0.0</td>\n",
       "      <td>0.0</td>\n",
       "      <td>3016.0</td>\n",
       "      <td>259.0</td>\n",
       "      <td>565</td>\n",
       "      <td>56</td>\n",
       "      <td>47</td>\n",
       "      <td>73</td>\n",
       "      <td>62</td>\n",
       "      <td>30</td>\n",
       "      <td>140</td>\n",
       "      <td>54</td>\n",
       "      <td>23</td>\n",
       "      <td>0</td>\n",
       "      <td>0</td>\n",
       "      <td>0</td>\n",
       "      <td>0</td>\n",
       "      <td>0</td>\n",
       "      <td>0</td>\n",
       "      <td>0</td>\n",
       "      <td>0</td>\n",
       "      <td>0</td>\n",
       "      <td>0</td>\n",
       "      <td>0</td>\n",
       "      <td>0</td>\n",
       "      <td>1</td>\n",
       "      <td>0</td>\n",
       "      <td>0</td>\n",
       "      <td>1</td>\n",
       "      <td>0</td>\n",
       "      <td>495.0</td>\n",
       "      <td>7.0</td>\n",
       "      <td>241.124464</td>\n",
       "      <td>3.175966</td>\n",
       "      <td>0.000000</td>\n",
       "      <td>0.561373</td>\n",
       "      <td>3623.991416</td>\n",
       "      <td>11.907296</td>\n",
       "      <td>11.939914</td>\n",
       "      <td>379.162232</td>\n",
       "      <td>2109.733906</td>\n",
       "      <td>636.328755</td>\n",
       "      <td>4.335622</td>\n",
       "      <td>69.526180</td>\n",
       "      <td>1.088412</td>\n",
       "    </tr>\n",
       "    <tr>\n",
       "      <th>4</th>\n",
       "      <td>PRV51007</td>\n",
       "      <td>72</td>\n",
       "      <td>1</td>\n",
       "      <td>17</td>\n",
       "      <td>3.0</td>\n",
       "      <td>1.0</td>\n",
       "      <td>1.0</td>\n",
       "      <td>215.0</td>\n",
       "      <td>11.0</td>\n",
       "      <td>31</td>\n",
       "      <td>2</td>\n",
       "      <td>7</td>\n",
       "      <td>5</td>\n",
       "      <td>3</td>\n",
       "      <td>6</td>\n",
       "      <td>10</td>\n",
       "      <td>6</td>\n",
       "      <td>2</td>\n",
       "      <td>0</td>\n",
       "      <td>0</td>\n",
       "      <td>0</td>\n",
       "      <td>0</td>\n",
       "      <td>0</td>\n",
       "      <td>0</td>\n",
       "      <td>0</td>\n",
       "      <td>0</td>\n",
       "      <td>0</td>\n",
       "      <td>0</td>\n",
       "      <td>0</td>\n",
       "      <td>0</td>\n",
       "      <td>0</td>\n",
       "      <td>0</td>\n",
       "      <td>0</td>\n",
       "      <td>0</td>\n",
       "      <td>0</td>\n",
       "      <td>58.0</td>\n",
       "      <td>10.0</td>\n",
       "      <td>468.194444</td>\n",
       "      <td>45.333333</td>\n",
       "      <td>0.222222</td>\n",
       "      <td>0.527778</td>\n",
       "      <td>3050.000000</td>\n",
       "      <td>11.833333</td>\n",
       "      <td>11.833333</td>\n",
       "      <td>445.000000</td>\n",
       "      <td>1729.722222</td>\n",
       "      <td>469.722222</td>\n",
       "      <td>4.166667</td>\n",
       "      <td>68.305556</td>\n",
       "      <td>0.958333</td>\n",
       "    </tr>\n",
       "  </tbody>\n",
       "</table>\n",
       "</div>"
      ],
      "text/plain": [
       "   Provider  ClaimID  DOD  ClmAdmitDiagnosisCode  ...  OPAnnualDeductibleAmt  num_chronic        Age  claim_days\n",
       "0  PRV51001       25    0                     11  ...             463.920000     5.560000  77.880000    1.440000\n",
       "1  PRV51003      132    1                     78  ...             737.121212     4.545455  69.083333    3.674242\n",
       "2  PRV51004      149    1                     28  ...             622.751678     4.342282  71.261745    1.429530\n",
       "3  PRV51005     1165    4                    252  ...             636.328755     4.335622  69.526180    1.088412\n",
       "4  PRV51007       72    1                     17  ...             469.722222     4.166667  68.305556    0.958333\n",
       "\n",
       "[5 rows x 50 columns]"
      ]
     },
     "execution_count": 6,
     "metadata": {},
     "output_type": "execute_result"
    }
   ],
   "source": [
    "pd.set_option('display.max_columns', False)\n",
    "train.head()"
   ]
  },
  {
   "cell_type": "markdown",
   "metadata": {},
   "source": [
    "Drop PHY info"
   ]
  },
  {
   "cell_type": "code",
   "execution_count": 7,
   "metadata": {},
   "outputs": [],
   "source": [
    "py_combine = combine.drop(['Provider','DOD'], axis=1)"
   ]
  },
  {
   "cell_type": "code",
   "execution_count": 8,
   "metadata": {},
   "outputs": [
    {
     "name": "stdout",
     "output_type": "stream",
     "text": [
      "Counter({0: 4904, 1: 506})\n"
     ]
    }
   ],
   "source": [
    "counter = Counter(y)\n",
    "print(counter)"
   ]
  },
  {
   "cell_type": "code",
   "execution_count": 9,
   "metadata": {},
   "outputs": [
    {
     "data": {
      "image/png": "[encoded data removed]",
      "text/plain": [
       "<Figure size 432x288 with 1 Axes>"
      ]
     },
     "metadata": {
      "needs_background": "light"
     },
     "output_type": "display_data"
    }
   ],
   "source": [
    "for label, _ in counter.items():\n",
    "    row_ix = where(y == label)[0]\n",
    "    plt.scatter((x.iloc[row_ix,0]),(x.iloc[row_ix,1]), label=str(label))\n",
    "plt.legend()\n",
    "plt.show()"
   ]
  },
  {
   "cell_type": "markdown",
   "metadata": {},
   "source": [
    "## Train Test Split "
   ]
  },
  {
   "cell_type": "markdown",
   "metadata": {},
   "source": [
    "Non stratify train_test_split"
   ]
  },
  {
   "cell_type": "code",
   "execution_count": 10,
   "metadata": {},
   "outputs": [],
   "source": [
    "x_train, x_test, y_train, y_test = train_test_split(StandardScaler().fit_transform(x),y, test_size=0.3, random_state=42)"
   ]
  },
  {
   "cell_type": "code",
   "execution_count": 11,
   "metadata": {},
   "outputs": [
    {
     "name": "stdout",
     "output_type": "stream",
     "text": [
      "Counter({0: 3440, 1: 347})\n",
      "Counter({0: 1464, 1: 159})\n"
     ]
    }
   ],
   "source": [
    "print(Counter(y_train))\n",
    "print(Counter(y_test))"
   ]
  },
  {
   "cell_type": "markdown",
   "metadata": {},
   "source": [
    "Stratify during train_test_split for GBM"
   ]
  },
  {
   "cell_type": "code",
   "execution_count": 12,
   "metadata": {},
   "outputs": [],
   "source": [
    "X_train,X_test,Y_train,Y_test = train_test_split(StandardScaler().fit_transform(x),y, test_size=0.3, random_state=42, stratify=y)"
   ]
  },
  {
   "cell_type": "code",
   "execution_count": 13,
   "metadata": {},
   "outputs": [
    {
     "name": "stdout",
     "output_type": "stream",
     "text": [
      "(3787, 48) (1623, 48) (3787,) (1623,)\n"
     ]
    }
   ],
   "source": [
    "print(X_train.shape, X_test.shape, Y_train.shape, Y_test.shape)"
   ]
  },
  {
   "cell_type": "code",
   "execution_count": 14,
   "metadata": {},
   "outputs": [
    {
     "name": "stdout",
     "output_type": "stream",
     "text": [
      "Counter({0: 3433, 1: 354})\n",
      "Counter({0: 1471, 1: 152})\n"
     ]
    }
   ],
   "source": [
    "print(Counter(Y_train))\n",
    "print(Counter(Y_test))"
   ]
  },
  {
   "cell_type": "markdown",
   "metadata": {},
   "source": [
    "# GBC \n",
    "Justification for no class_weight: \n",
    "* https://stackoverflow.com/questions/35539937/is-there-class-weight-or-alternative-way-for-gradientboostingclassifier-in-skl\n",
    "* https://stackoverflow.com/questions/47399350/how-does-sample-weight-compare-to-class-weight-in-scikit-learn\n",
    "\n",
    "<br> Other Models: https://pub.towardsai.net/imbalanced-learn-handling-imbalanced-class-problem-40aa3cb6525b"
   ]
  },
  {
   "cell_type": "markdown",
   "metadata": {},
   "source": [
    "No adjustments. Goal is look at Precision"
   ]
  },
  {
   "cell_type": "code",
   "execution_count": 58,
   "metadata": {},
   "outputs": [],
   "source": [
    "gbm_og = GradientBoostingClassifier()"
   ]
  },
  {
   "cell_type": "code",
   "execution_count": 59,
   "metadata": {},
   "outputs": [
    {
     "data": {
      "text/plain": [
       "GradientBoostingClassifier()"
      ]
     },
     "execution_count": 59,
     "metadata": {},
     "output_type": "execute_result"
    }
   ],
   "source": [
    "gbm_og.fit(x_train,y_train)"
   ]
  },
  {
   "cell_type": "code",
   "execution_count": 60,
   "metadata": {},
   "outputs": [],
   "source": [
    "y_pred = gbm_og.predict(x_test)"
   ]
  },
  {
   "cell_type": "code",
   "execution_count": 61,
   "metadata": {},
   "outputs": [
    {
     "name": "stdout",
     "output_type": "stream",
     "text": [
      "Accuracy Score: 0.9254467036352434\n",
      "Confusion Matrix: \n",
      "[[1436   28]\n",
      " [  93   66]]\n",
      "Area Under Curve: 0.697984328281266\n",
      "Recall score: 0.41509433962264153\n",
      "Precision score: 0.7021276595744681\n",
      "F1 score: 0.5217391304347826\n",
      "F0.5 score: 0.6168224299065419\n",
      "F2 score: 0.4520547945205479\n"
     ]
    }
   ],
   "source": [
    "print(f'Accuracy Score: {accuracy_score(y_test,y_pred)}')\n",
    "print(f'Confusion Matrix: \\n{confusion_matrix(y_test, y_pred)}')\n",
    "print(f'Area Under Curve: {roc_auc_score(y_test, y_pred)}')\n",
    "print(f'Recall score: {recall_score(y_test,y_pred)}')\n",
    "print(f'Precision score: {precision_score(y_test,y_pred)}')\n",
    "print(f'F1 score: {f1_score(y_test,y_pred)}')\n",
    "print(f\"F0.5 score: {fbeta_score(y_test, y_pred, average='binary', beta=0.5)}\")\n",
    "print(f\"F2 score: {fbeta_score(y_test, y_pred, average='binary', beta=2)}\")"
   ]
  },
  {
   "cell_type": "markdown",
   "metadata": {},
   "source": [
    "Stratify train test split and Scale x values"
   ]
  },
  {
   "cell_type": "code",
   "execution_count": 35,
   "metadata": {},
   "outputs": [],
   "source": [
    "gbm = GradientBoostingClassifier()"
   ]
  },
  {
   "cell_type": "code",
   "execution_count": 63,
   "metadata": {},
   "outputs": [
    {
     "name": "stdout",
     "output_type": "stream",
     "text": [
      "Accuracy Score: 0.9322242760320394\n",
      "Confusion Matrix: \n",
      "[[1428   43]\n",
      " [  67   85]]\n",
      "Area Under Curve: 0.7649893556120075\n",
      "Recall score: 0.5592105263157895\n",
      "Precision score: 0.6640625\n",
      "F1 score: 0.6071428571428572\n",
      "F0.5 score: 0.6400602409638554\n",
      "F2 score: 0.5774456521739131\n"
     ]
    }
   ],
   "source": [
    "gbm.fit(X_train,Y_train)\n",
    "\n",
    "gbc_predict_og = gbm.predict(X_test)\n",
    "\n",
    "print(f'Accuracy Score: {accuracy_score(Y_test,gbc_predict_og)}')\n",
    "print(f'Confusion Matrix: \\n{confusion_matrix(Y_test, gbc_predict_og)}')\n",
    "print(f'Area Under Curve: {roc_auc_score(Y_test, gbc_predict_og)}')\n",
    "print(f'Recall score: {recall_score(Y_test,gbc_predict_og)}')\n",
    "print(f'Precision score: {precision_score(Y_test,gbc_predict_og)}')\n",
    "print(f'F1 score: {f1_score(Y_test,gbc_predict_og)}')\n",
    "print(f\"F0.5 score: {fbeta_score(Y_test, gbc_predict_og, average='binary', beta=0.5)}\")\n",
    "print(f\"F2 score: {fbeta_score(Y_test, gbc_predict_og, average='binary', beta=2)}\")"
   ]
  },
  {
   "cell_type": "markdown",
   "metadata": {},
   "source": [
    "### GBC - Feature Importance"
   ]
  },
  {
   "cell_type": "code",
   "execution_count": 31,
   "metadata": {},
   "outputs": [
    {
     "data": {
      "text/plain": [
       "[('ClmProcedureCode_count', 0.2454520510761822),\n",
       " ('Inpatient', 0.23904854060019803),\n",
       " ('ClmProcedureCode', 0.0610026283770501),\n",
       " ('25000_diag', 0.05969096724683664),\n",
       " ('ClmAdmitDiagnosisCode', 0.05751341955412649),\n",
       " ('2724_diag', 0.03541461292591653),\n",
       " ('ClaimID', 0.02517479371966773),\n",
       " ('InscClaimAmtReimbursed', 0.024127733628798883),\n",
       " ('OPAnnualReimbursementAmt', 0.02303827642574658),\n",
       " ('DeductibleAmtPaid', 0.022023307582406282),\n",
       " ('42731_diag', 0.01919246823978975),\n",
       " ('claim_days', 0.016177492574222494),\n",
       " ('treatment_days', 0.015044560433326755),\n",
       " ('5_state', 0.013520671291554105),\n",
       " ('Gender', 0.012807820900545028),\n",
       " ('RenalDiseaseIndicator', 0.011239161471425277),\n",
       " ('OPAnnualDeductibleAmt', 0.009416333068512407),\n",
       " ('Age', 0.00819948298372277),\n",
       " ('Patient_Connections', 0.008011491353509401),\n",
       " ('AttPhys_Connections', 0.007214372221474608),\n",
       " ('45_state', 0.006782479296567118),\n",
       " ('NoOfMonths_PartBCov', 0.006570008923221493),\n",
       " ('14_state', 0.006486135754625448),\n",
       " ('duplicate', 0.00648270706475173),\n",
       " ('IPAnnualReimbursementAmt', 0.005874202782514343),\n",
       " ('NoOfMonths_PartACov', 0.005618186771934076),\n",
       " ('4019_diag', 0.004717653668222365),\n",
       " ('10_state', 0.00402925885736086),\n",
       " ('IPAnnualDeductibleAmt', 0.00396586426219305),\n",
       " ('2724_proc', 0.003948322291516382),\n",
       " ('ClmDiagnosisCode_count', 0.003811361292182257),\n",
       " ('39_state', 0.0037689805285701238),\n",
       " ('33_state', 0.0031087708142122153),\n",
       " ('2449_diag', 0.00296459989321978),\n",
       " ('9904_proc', 0.002657201982702672),\n",
       " ('8151_proc', 0.0021625458651161754),\n",
       " ('4019_proc', 0.002009175317554894),\n",
       " ('V5861_diag', 0.001834098697588998),\n",
       " ('4516_proc', 0.0017634052061661011),\n",
       " ('num_chronic', 0.0014009939798659467),\n",
       " ('8154_proc', 0.0013092821302625),\n",
       " ('3995_proc', 0.001143440774191179),\n",
       " ('66_proc', 0.0010263478953147218),\n",
       " ('3722_proc', 0.0010178363338731733),\n",
       " ('4011_diag', 0.0009452733034574275),\n",
       " ('3893_proc', 0.0006001254904108333),\n",
       " ('V5869_diag', 0.0005978165794088003),\n",
       " ('8872_proc', 9.373856798325199e-05)]"
      ]
     },
     "execution_count": 31,
     "metadata": {},
     "output_type": "execute_result"
    }
   ],
   "source": [
    "sorted_importance = sorted(zip(x.columns, gbm.feature_importances_), key=lambda t:t[1], reverse=True)\n",
    "sorted_importance"
   ]
  },
  {
   "cell_type": "code",
   "execution_count": 32,
   "metadata": {},
   "outputs": [
    {
     "data": {
      "text/plain": [
       "Text(0.5, 1.0, 'Feature Importance Plot of 500-Tree GBM')"
      ]
     },
     "execution_count": 32,
     "metadata": {},
     "output_type": "execute_result"
    },
    {
     "data": {
      "image/png": "[encoded data removed]",
      "text/plain": [
       "<Figure size 432x288 with 1 Axes>"
      ]
     },
     "metadata": {
      "needs_background": "light"
     },
     "output_type": "display_data"
    }
   ],
   "source": [
    "a, b = zip(*sorted_importance) # this splits the list of tuples into two lists\n",
    "pd.DataFrame({'feature_name':a, 'importance_score':b}).plot.bar(x='feature_name',y='importance_score', legend=None)\n",
    "plt.title('Feature Importance Plot of 500-Tree GBM')"
   ]
  },
  {
   "cell_type": "markdown",
   "metadata": {},
   "source": [
    "### Hyper-parameter tuning - precision"
   ]
  },
  {
   "cell_type": "code",
   "execution_count": 65,
   "metadata": {},
   "outputs": [
    {
     "name": "stdout",
     "output_type": "stream",
     "text": [
      "Best: 0.883503 using {'learning_rate': 0.01, 'max_depth': 9, 'n_estimators': 100, 'subsample': 0.5}\n",
      "0.000000 (0.000000) with: {'learning_rate': 0.0001, 'max_depth': 3, 'n_estimators': 10, 'subsample': 0.5}\n",
      "0.000000 (0.000000) with: {'learning_rate': 0.0001, 'max_depth': 3, 'n_estimators': 10, 'subsample': 0.7}\n",
      "0.000000 (0.000000) with: {'learning_rate': 0.0001, 'max_depth': 3, 'n_estimators': 10, 'subsample': 1.0}\n",
      "0.000000 (0.000000) with: {'learning_rate': 0.0001, 'max_depth': 3, 'n_estimators': 50, 'subsample': 0.5}\n",
      "0.000000 (0.000000) with: {'learning_rate': 0.0001, 'max_depth': 3, 'n_estimators': 50, 'subsample': 0.7}\n",
      "0.000000 (0.000000) with: {'learning_rate': 0.0001, 'max_depth': 3, 'n_estimators': 50, 'subsample': 1.0}\n",
      "0.000000 (0.000000) with: {'learning_rate': 0.0001, 'max_depth': 3, 'n_estimators': 100, 'subsample': 0.5}\n",
      "0.000000 (0.000000) with: {'learning_rate': 0.0001, 'max_depth': 3, 'n_estimators': 100, 'subsample': 0.7}\n",
      "0.000000 (0.000000) with: {'learning_rate': 0.0001, 'max_depth': 3, 'n_estimators': 100, 'subsample': 1.0}\n",
      "0.000000 (0.000000) with: {'learning_rate': 0.0001, 'max_depth': 3, 'n_estimators': 500, 'subsample': 0.5}\n",
      "0.000000 (0.000000) with: {'learning_rate': 0.0001, 'max_depth': 3, 'n_estimators': 500, 'subsample': 0.7}\n",
      "0.000000 (0.000000) with: {'learning_rate': 0.0001, 'max_depth': 3, 'n_estimators': 500, 'subsample': 1.0}\n",
      "0.000000 (0.000000) with: {'learning_rate': 0.0001, 'max_depth': 7, 'n_estimators': 10, 'subsample': 0.5}\n",
      "0.000000 (0.000000) with: {'learning_rate': 0.0001, 'max_depth': 7, 'n_estimators': 10, 'subsample': 0.7}\n",
      "0.000000 (0.000000) with: {'learning_rate': 0.0001, 'max_depth': 7, 'n_estimators': 10, 'subsample': 1.0}\n",
      "0.000000 (0.000000) with: {'learning_rate': 0.0001, 'max_depth': 7, 'n_estimators': 50, 'subsample': 0.5}\n",
      "0.000000 (0.000000) with: {'learning_rate': 0.0001, 'max_depth': 7, 'n_estimators': 50, 'subsample': 0.7}\n",
      "0.000000 (0.000000) with: {'learning_rate': 0.0001, 'max_depth': 7, 'n_estimators': 50, 'subsample': 1.0}\n",
      "0.000000 (0.000000) with: {'learning_rate': 0.0001, 'max_depth': 7, 'n_estimators': 100, 'subsample': 0.5}\n",
      "0.000000 (0.000000) with: {'learning_rate': 0.0001, 'max_depth': 7, 'n_estimators': 100, 'subsample': 0.7}\n",
      "0.000000 (0.000000) with: {'learning_rate': 0.0001, 'max_depth': 7, 'n_estimators': 100, 'subsample': 1.0}\n",
      "0.000000 (0.000000) with: {'learning_rate': 0.0001, 'max_depth': 7, 'n_estimators': 500, 'subsample': 0.5}\n",
      "0.000000 (0.000000) with: {'learning_rate': 0.0001, 'max_depth': 7, 'n_estimators': 500, 'subsample': 0.7}\n",
      "0.000000 (0.000000) with: {'learning_rate': 0.0001, 'max_depth': 7, 'n_estimators': 500, 'subsample': 1.0}\n",
      "0.000000 (0.000000) with: {'learning_rate': 0.0001, 'max_depth': 9, 'n_estimators': 10, 'subsample': 0.5}\n",
      "0.000000 (0.000000) with: {'learning_rate': 0.0001, 'max_depth': 9, 'n_estimators': 10, 'subsample': 0.7}\n",
      "0.000000 (0.000000) with: {'learning_rate': 0.0001, 'max_depth': 9, 'n_estimators': 10, 'subsample': 1.0}\n",
      "0.000000 (0.000000) with: {'learning_rate': 0.0001, 'max_depth': 9, 'n_estimators': 50, 'subsample': 0.5}\n",
      "0.000000 (0.000000) with: {'learning_rate': 0.0001, 'max_depth': 9, 'n_estimators': 50, 'subsample': 0.7}\n",
      "0.000000 (0.000000) with: {'learning_rate': 0.0001, 'max_depth': 9, 'n_estimators': 50, 'subsample': 1.0}\n",
      "0.000000 (0.000000) with: {'learning_rate': 0.0001, 'max_depth': 9, 'n_estimators': 100, 'subsample': 0.5}\n",
      "0.000000 (0.000000) with: {'learning_rate': 0.0001, 'max_depth': 9, 'n_estimators': 100, 'subsample': 0.7}\n",
      "0.000000 (0.000000) with: {'learning_rate': 0.0001, 'max_depth': 9, 'n_estimators': 100, 'subsample': 1.0}\n",
      "0.000000 (0.000000) with: {'learning_rate': 0.0001, 'max_depth': 9, 'n_estimators': 500, 'subsample': 0.5}\n",
      "0.000000 (0.000000) with: {'learning_rate': 0.0001, 'max_depth': 9, 'n_estimators': 500, 'subsample': 0.7}\n",
      "0.000000 (0.000000) with: {'learning_rate': 0.0001, 'max_depth': 9, 'n_estimators': 500, 'subsample': 1.0}\n",
      "0.000000 (0.000000) with: {'learning_rate': 0.001, 'max_depth': 3, 'n_estimators': 10, 'subsample': 0.5}\n",
      "0.000000 (0.000000) with: {'learning_rate': 0.001, 'max_depth': 3, 'n_estimators': 10, 'subsample': 0.7}\n",
      "0.000000 (0.000000) with: {'learning_rate': 0.001, 'max_depth': 3, 'n_estimators': 10, 'subsample': 1.0}\n",
      "0.000000 (0.000000) with: {'learning_rate': 0.001, 'max_depth': 3, 'n_estimators': 50, 'subsample': 0.5}\n",
      "0.000000 (0.000000) with: {'learning_rate': 0.001, 'max_depth': 3, 'n_estimators': 50, 'subsample': 0.7}\n",
      "0.000000 (0.000000) with: {'learning_rate': 0.001, 'max_depth': 3, 'n_estimators': 50, 'subsample': 1.0}\n",
      "0.000000 (0.000000) with: {'learning_rate': 0.001, 'max_depth': 3, 'n_estimators': 100, 'subsample': 0.5}\n",
      "0.000000 (0.000000) with: {'learning_rate': 0.001, 'max_depth': 3, 'n_estimators': 100, 'subsample': 0.7}\n",
      "0.000000 (0.000000) with: {'learning_rate': 0.001, 'max_depth': 3, 'n_estimators': 100, 'subsample': 1.0}\n",
      "0.000000 (0.000000) with: {'learning_rate': 0.001, 'max_depth': 3, 'n_estimators': 500, 'subsample': 0.5}\n",
      "0.000000 (0.000000) with: {'learning_rate': 0.001, 'max_depth': 3, 'n_estimators': 500, 'subsample': 0.7}\n",
      "0.033333 (0.179505) with: {'learning_rate': 0.001, 'max_depth': 3, 'n_estimators': 500, 'subsample': 1.0}\n",
      "0.000000 (0.000000) with: {'learning_rate': 0.001, 'max_depth': 7, 'n_estimators': 10, 'subsample': 0.5}\n",
      "0.000000 (0.000000) with: {'learning_rate': 0.001, 'max_depth': 7, 'n_estimators': 10, 'subsample': 0.7}\n",
      "0.000000 (0.000000) with: {'learning_rate': 0.001, 'max_depth': 7, 'n_estimators': 10, 'subsample': 1.0}\n",
      "0.000000 (0.000000) with: {'learning_rate': 0.001, 'max_depth': 7, 'n_estimators': 50, 'subsample': 0.5}\n",
      "0.000000 (0.000000) with: {'learning_rate': 0.001, 'max_depth': 7, 'n_estimators': 50, 'subsample': 0.7}\n",
      "0.000000 (0.000000) with: {'learning_rate': 0.001, 'max_depth': 7, 'n_estimators': 50, 'subsample': 1.0}\n",
      "0.000000 (0.000000) with: {'learning_rate': 0.001, 'max_depth': 7, 'n_estimators': 100, 'subsample': 0.5}\n",
      "0.000000 (0.000000) with: {'learning_rate': 0.001, 'max_depth': 7, 'n_estimators': 100, 'subsample': 0.7}\n",
      "0.000000 (0.000000) with: {'learning_rate': 0.001, 'max_depth': 7, 'n_estimators': 100, 'subsample': 1.0}\n",
      "0.000000 (0.000000) with: {'learning_rate': 0.001, 'max_depth': 7, 'n_estimators': 500, 'subsample': 0.5}\n",
      "0.000000 (0.000000) with: {'learning_rate': 0.001, 'max_depth': 7, 'n_estimators': 500, 'subsample': 0.7}\n",
      "0.000000 (0.000000) with: {'learning_rate': 0.001, 'max_depth': 7, 'n_estimators': 500, 'subsample': 1.0}\n",
      "0.000000 (0.000000) with: {'learning_rate': 0.001, 'max_depth': 9, 'n_estimators': 10, 'subsample': 0.5}\n",
      "0.000000 (0.000000) with: {'learning_rate': 0.001, 'max_depth': 9, 'n_estimators': 10, 'subsample': 0.7}\n",
      "0.000000 (0.000000) with: {'learning_rate': 0.001, 'max_depth': 9, 'n_estimators': 10, 'subsample': 1.0}\n",
      "0.000000 (0.000000) with: {'learning_rate': 0.001, 'max_depth': 9, 'n_estimators': 50, 'subsample': 0.5}\n",
      "0.000000 (0.000000) with: {'learning_rate': 0.001, 'max_depth': 9, 'n_estimators': 50, 'subsample': 0.7}\n",
      "0.000000 (0.000000) with: {'learning_rate': 0.001, 'max_depth': 9, 'n_estimators': 50, 'subsample': 1.0}\n",
      "0.000000 (0.000000) with: {'learning_rate': 0.001, 'max_depth': 9, 'n_estimators': 100, 'subsample': 0.5}\n",
      "0.000000 (0.000000) with: {'learning_rate': 0.001, 'max_depth': 9, 'n_estimators': 100, 'subsample': 0.7}\n",
      "0.000000 (0.000000) with: {'learning_rate': 0.001, 'max_depth': 9, 'n_estimators': 100, 'subsample': 1.0}\n",
      "0.000000 (0.000000) with: {'learning_rate': 0.001, 'max_depth': 9, 'n_estimators': 500, 'subsample': 0.5}\n",
      "0.000000 (0.000000) with: {'learning_rate': 0.001, 'max_depth': 9, 'n_estimators': 500, 'subsample': 0.7}\n",
      "0.000000 (0.000000) with: {'learning_rate': 0.001, 'max_depth': 9, 'n_estimators': 500, 'subsample': 1.0}\n",
      "0.000000 (0.000000) with: {'learning_rate': 0.01, 'max_depth': 3, 'n_estimators': 10, 'subsample': 0.5}\n",
      "0.000000 (0.000000) with: {'learning_rate': 0.01, 'max_depth': 3, 'n_estimators': 10, 'subsample': 0.7}\n",
      "0.000000 (0.000000) with: {'learning_rate': 0.01, 'max_depth': 3, 'n_estimators': 10, 'subsample': 1.0}\n",
      "0.000000 (0.000000) with: {'learning_rate': 0.01, 'max_depth': 3, 'n_estimators': 50, 'subsample': 0.5}\n",
      "0.000000 (0.000000) with: {'learning_rate': 0.01, 'max_depth': 3, 'n_estimators': 50, 'subsample': 0.7}\n",
      "0.066667 (0.249444) with: {'learning_rate': 0.01, 'max_depth': 3, 'n_estimators': 50, 'subsample': 1.0}\n",
      "0.880613 (0.092054) with: {'learning_rate': 0.01, 'max_depth': 3, 'n_estimators': 100, 'subsample': 0.5}\n",
      "0.881737 (0.093519) with: {'learning_rate': 0.01, 'max_depth': 3, 'n_estimators': 100, 'subsample': 0.7}\n",
      "0.873042 (0.112927) with: {'learning_rate': 0.01, 'max_depth': 3, 'n_estimators': 100, 'subsample': 1.0}\n",
      "0.681243 (0.091269) with: {'learning_rate': 0.01, 'max_depth': 3, 'n_estimators': 500, 'subsample': 0.5}\n",
      "0.679961 (0.098979) with: {'learning_rate': 0.01, 'max_depth': 3, 'n_estimators': 500, 'subsample': 0.7}\n",
      "0.680860 (0.101011) with: {'learning_rate': 0.01, 'max_depth': 3, 'n_estimators': 500, 'subsample': 1.0}\n",
      "0.000000 (0.000000) with: {'learning_rate': 0.01, 'max_depth': 7, 'n_estimators': 10, 'subsample': 0.5}\n",
      "0.000000 (0.000000) with: {'learning_rate': 0.01, 'max_depth': 7, 'n_estimators': 10, 'subsample': 0.7}\n",
      "0.000000 (0.000000) with: {'learning_rate': 0.01, 'max_depth': 7, 'n_estimators': 10, 'subsample': 1.0}\n",
      "0.000000 (0.000000) with: {'learning_rate': 0.01, 'max_depth': 7, 'n_estimators': 50, 'subsample': 0.5}\n",
      "0.000000 (0.000000) with: {'learning_rate': 0.01, 'max_depth': 7, 'n_estimators': 50, 'subsample': 0.7}\n",
      "0.000000 (0.000000) with: {'learning_rate': 0.01, 'max_depth': 7, 'n_estimators': 50, 'subsample': 1.0}\n",
      "0.873924 (0.102205) with: {'learning_rate': 0.01, 'max_depth': 7, 'n_estimators': 100, 'subsample': 0.5}\n",
      "0.854084 (0.104928) with: {'learning_rate': 0.01, 'max_depth': 7, 'n_estimators': 100, 'subsample': 0.7}\n",
      "0.790294 (0.111259) with: {'learning_rate': 0.01, 'max_depth': 7, 'n_estimators': 100, 'subsample': 1.0}\n",
      "0.678480 (0.089113) with: {'learning_rate': 0.01, 'max_depth': 7, 'n_estimators': 500, 'subsample': 0.5}\n",
      "0.672557 (0.088130) with: {'learning_rate': 0.01, 'max_depth': 7, 'n_estimators': 500, 'subsample': 0.7}\n",
      "0.663462 (0.092754) with: {'learning_rate': 0.01, 'max_depth': 7, 'n_estimators': 500, 'subsample': 1.0}\n",
      "0.000000 (0.000000) with: {'learning_rate': 0.01, 'max_depth': 9, 'n_estimators': 10, 'subsample': 0.5}\n",
      "0.000000 (0.000000) with: {'learning_rate': 0.01, 'max_depth': 9, 'n_estimators': 10, 'subsample': 0.7}\n",
      "0.000000 (0.000000) with: {'learning_rate': 0.01, 'max_depth': 9, 'n_estimators': 10, 'subsample': 1.0}\n",
      "0.000000 (0.000000) with: {'learning_rate': 0.01, 'max_depth': 9, 'n_estimators': 50, 'subsample': 0.5}\n",
      "0.000000 (0.000000) with: {'learning_rate': 0.01, 'max_depth': 9, 'n_estimators': 50, 'subsample': 0.7}\n",
      "0.000000 (0.000000) with: {'learning_rate': 0.01, 'max_depth': 9, 'n_estimators': 50, 'subsample': 1.0}\n",
      "0.883503 (0.118823) with: {'learning_rate': 0.01, 'max_depth': 9, 'n_estimators': 100, 'subsample': 0.5}\n",
      "0.865401 (0.117489) with: {'learning_rate': 0.01, 'max_depth': 9, 'n_estimators': 100, 'subsample': 0.7}\n",
      "0.724086 (0.096614) with: {'learning_rate': 0.01, 'max_depth': 9, 'n_estimators': 100, 'subsample': 1.0}\n",
      "0.702444 (0.090863) with: {'learning_rate': 0.01, 'max_depth': 9, 'n_estimators': 500, 'subsample': 0.5}\n",
      "0.688443 (0.092380) with: {'learning_rate': 0.01, 'max_depth': 9, 'n_estimators': 500, 'subsample': 0.7}\n",
      "0.629019 (0.084552) with: {'learning_rate': 0.01, 'max_depth': 9, 'n_estimators': 500, 'subsample': 1.0}\n",
      "0.810560 (0.099646) with: {'learning_rate': 0.1, 'max_depth': 3, 'n_estimators': 10, 'subsample': 0.5}\n",
      "0.833483 (0.109901) with: {'learning_rate': 0.1, 'max_depth': 3, 'n_estimators': 10, 'subsample': 0.7}\n",
      "0.850041 (0.108116) with: {'learning_rate': 0.1, 'max_depth': 3, 'n_estimators': 10, 'subsample': 1.0}\n",
      "0.674586 (0.100726) with: {'learning_rate': 0.1, 'max_depth': 3, 'n_estimators': 50, 'subsample': 0.5}\n",
      "0.662855 (0.087657) with: {'learning_rate': 0.1, 'max_depth': 3, 'n_estimators': 50, 'subsample': 0.7}\n",
      "0.665972 (0.101710) with: {'learning_rate': 0.1, 'max_depth': 3, 'n_estimators': 50, 'subsample': 1.0}\n",
      "0.653381 (0.098164) with: {'learning_rate': 0.1, 'max_depth': 3, 'n_estimators': 100, 'subsample': 0.5}\n",
      "0.655148 (0.096024) with: {'learning_rate': 0.1, 'max_depth': 3, 'n_estimators': 100, 'subsample': 0.7}\n",
      "0.648055 (0.108812) with: {'learning_rate': 0.1, 'max_depth': 3, 'n_estimators': 100, 'subsample': 1.0}\n",
      "0.612275 (0.077640) with: {'learning_rate': 0.1, 'max_depth': 3, 'n_estimators': 500, 'subsample': 0.5}\n",
      "0.637161 (0.096607) with: {'learning_rate': 0.1, 'max_depth': 3, 'n_estimators': 500, 'subsample': 0.7}\n",
      "0.615722 (0.080402) with: {'learning_rate': 0.1, 'max_depth': 3, 'n_estimators': 500, 'subsample': 1.0}\n",
      "0.730115 (0.098844) with: {'learning_rate': 0.1, 'max_depth': 7, 'n_estimators': 10, 'subsample': 0.5}\n",
      "0.726991 (0.116393) with: {'learning_rate': 0.1, 'max_depth': 7, 'n_estimators': 10, 'subsample': 0.7}\n",
      "0.710335 (0.103392) with: {'learning_rate': 0.1, 'max_depth': 7, 'n_estimators': 10, 'subsample': 1.0}\n",
      "0.655534 (0.101552) with: {'learning_rate': 0.1, 'max_depth': 7, 'n_estimators': 50, 'subsample': 0.5}\n",
      "0.642303 (0.099981) with: {'learning_rate': 0.1, 'max_depth': 7, 'n_estimators': 50, 'subsample': 0.7}\n",
      "0.642292 (0.090749) with: {'learning_rate': 0.1, 'max_depth': 7, 'n_estimators': 50, 'subsample': 1.0}\n",
      "0.635140 (0.088814) with: {'learning_rate': 0.1, 'max_depth': 7, 'n_estimators': 100, 'subsample': 0.5}\n",
      "0.667222 (0.097813) with: {'learning_rate': 0.1, 'max_depth': 7, 'n_estimators': 100, 'subsample': 0.7}\n",
      "0.642636 (0.098013) with: {'learning_rate': 0.1, 'max_depth': 7, 'n_estimators': 100, 'subsample': 1.0}\n",
      "0.669839 (0.092429) with: {'learning_rate': 0.1, 'max_depth': 7, 'n_estimators': 500, 'subsample': 0.5}\n",
      "0.676496 (0.089354) with: {'learning_rate': 0.1, 'max_depth': 7, 'n_estimators': 500, 'subsample': 0.7}\n",
      "0.666021 (0.100280) with: {'learning_rate': 0.1, 'max_depth': 7, 'n_estimators': 500, 'subsample': 1.0}\n",
      "0.711897 (0.121497) with: {'learning_rate': 0.1, 'max_depth': 9, 'n_estimators': 10, 'subsample': 0.5}\n",
      "0.746345 (0.120555) with: {'learning_rate': 0.1, 'max_depth': 9, 'n_estimators': 10, 'subsample': 0.7}\n",
      "0.699631 (0.103986) with: {'learning_rate': 0.1, 'max_depth': 9, 'n_estimators': 10, 'subsample': 1.0}\n",
      "0.650319 (0.086463) with: {'learning_rate': 0.1, 'max_depth': 9, 'n_estimators': 50, 'subsample': 0.5}\n",
      "0.655019 (0.095621) with: {'learning_rate': 0.1, 'max_depth': 9, 'n_estimators': 50, 'subsample': 0.7}\n",
      "0.630452 (0.089870) with: {'learning_rate': 0.1, 'max_depth': 9, 'n_estimators': 50, 'subsample': 1.0}\n",
      "0.663415 (0.099192) with: {'learning_rate': 0.1, 'max_depth': 9, 'n_estimators': 100, 'subsample': 0.5}\n",
      "0.664163 (0.090177) with: {'learning_rate': 0.1, 'max_depth': 9, 'n_estimators': 100, 'subsample': 0.7}\n",
      "0.639440 (0.083795) with: {'learning_rate': 0.1, 'max_depth': 9, 'n_estimators': 100, 'subsample': 1.0}\n",
      "0.676201 (0.096270) with: {'learning_rate': 0.1, 'max_depth': 9, 'n_estimators': 500, 'subsample': 0.5}\n",
      "0.689851 (0.102929) with: {'learning_rate': 0.1, 'max_depth': 9, 'n_estimators': 500, 'subsample': 0.7}\n",
      "0.679283 (0.110055) with: {'learning_rate': 0.1, 'max_depth': 9, 'n_estimators': 500, 'subsample': 1.0}\n",
      "0.543142 (0.106864) with: {'learning_rate': 1.0, 'max_depth': 3, 'n_estimators': 10, 'subsample': 0.5}\n",
      "0.563846 (0.093694) with: {'learning_rate': 1.0, 'max_depth': 3, 'n_estimators': 10, 'subsample': 0.7}\n",
      "0.606190 (0.109947) with: {'learning_rate': 1.0, 'max_depth': 3, 'n_estimators': 10, 'subsample': 1.0}\n",
      "0.449312 (0.085799) with: {'learning_rate': 1.0, 'max_depth': 3, 'n_estimators': 50, 'subsample': 0.5}\n",
      "0.487631 (0.092948) with: {'learning_rate': 1.0, 'max_depth': 3, 'n_estimators': 50, 'subsample': 0.7}\n",
      "0.567750 (0.108775) with: {'learning_rate': 1.0, 'max_depth': 3, 'n_estimators': 50, 'subsample': 1.0}\n",
      "0.415934 (0.129686) with: {'learning_rate': 1.0, 'max_depth': 3, 'n_estimators': 100, 'subsample': 0.5}\n",
      "0.468803 (0.082248) with: {'learning_rate': 1.0, 'max_depth': 3, 'n_estimators': 100, 'subsample': 0.7}\n",
      "0.544520 (0.098068) with: {'learning_rate': 1.0, 'max_depth': 3, 'n_estimators': 100, 'subsample': 1.0}\n",
      "0.299713 (0.148352) with: {'learning_rate': 1.0, 'max_depth': 3, 'n_estimators': 500, 'subsample': 0.5}\n",
      "0.428951 (0.102808) with: {'learning_rate': 1.0, 'max_depth': 3, 'n_estimators': 500, 'subsample': 0.7}\n",
      "0.521552 (0.126816) with: {'learning_rate': 1.0, 'max_depth': 3, 'n_estimators': 500, 'subsample': 1.0}\n",
      "0.454352 (0.086488) with: {'learning_rate': 1.0, 'max_depth': 7, 'n_estimators': 10, 'subsample': 0.5}\n",
      "0.445193 (0.072160) with: {'learning_rate': 1.0, 'max_depth': 7, 'n_estimators': 10, 'subsample': 0.7}\n",
      "0.475359 (0.064521) with: {'learning_rate': 1.0, 'max_depth': 7, 'n_estimators': 10, 'subsample': 1.0}\n",
      "0.333673 (0.117514) with: {'learning_rate': 1.0, 'max_depth': 7, 'n_estimators': 50, 'subsample': 0.5}\n",
      "0.409207 (0.048425) with: {'learning_rate': 1.0, 'max_depth': 7, 'n_estimators': 50, 'subsample': 0.7}\n",
      "0.521808 (0.069663) with: {'learning_rate': 1.0, 'max_depth': 7, 'n_estimators': 50, 'subsample': 1.0}\n",
      "0.252165 (0.141937) with: {'learning_rate': 1.0, 'max_depth': 7, 'n_estimators': 100, 'subsample': 0.5}\n",
      "0.376326 (0.087019) with: {'learning_rate': 1.0, 'max_depth': 7, 'n_estimators': 100, 'subsample': 0.7}\n",
      "0.574076 (0.086057) with: {'learning_rate': 1.0, 'max_depth': 7, 'n_estimators': 100, 'subsample': 1.0}\n",
      "0.148121 (0.108328) with: {'learning_rate': 1.0, 'max_depth': 7, 'n_estimators': 500, 'subsample': 0.5}\n",
      "0.316568 (0.103673) with: {'learning_rate': 1.0, 'max_depth': 7, 'n_estimators': 500, 'subsample': 0.7}\n",
      "0.633609 (0.105955) with: {'learning_rate': 1.0, 'max_depth': 7, 'n_estimators': 500, 'subsample': 1.0}\n",
      "0.415676 (0.094579) with: {'learning_rate': 1.0, 'max_depth': 9, 'n_estimators': 10, 'subsample': 0.5}\n",
      "0.438453 (0.073236) with: {'learning_rate': 1.0, 'max_depth': 9, 'n_estimators': 10, 'subsample': 0.7}\n",
      "0.467870 (0.074806) with: {'learning_rate': 1.0, 'max_depth': 9, 'n_estimators': 10, 'subsample': 1.0}\n",
      "0.188984 (0.132399) with: {'learning_rate': 1.0, 'max_depth': 9, 'n_estimators': 50, 'subsample': 0.5}\n",
      "0.397267 (0.072684) with: {'learning_rate': 1.0, 'max_depth': 9, 'n_estimators': 50, 'subsample': 0.7}\n",
      "0.571048 (0.083733) with: {'learning_rate': 1.0, 'max_depth': 9, 'n_estimators': 50, 'subsample': 1.0}\n",
      "0.147967 (0.117969) with: {'learning_rate': 1.0, 'max_depth': 9, 'n_estimators': 100, 'subsample': 0.5}\n",
      "0.316356 (0.115412) with: {'learning_rate': 1.0, 'max_depth': 9, 'n_estimators': 100, 'subsample': 0.7}\n",
      "0.597672 (0.060808) with: {'learning_rate': 1.0, 'max_depth': 9, 'n_estimators': 100, 'subsample': 1.0}\n",
      "0.118762 (0.100426) with: {'learning_rate': 1.0, 'max_depth': 9, 'n_estimators': 500, 'subsample': 0.5}\n",
      "0.253755 (0.172164) with: {'learning_rate': 1.0, 'max_depth': 9, 'n_estimators': 500, 'subsample': 0.7}\n",
      "0.706906 (0.117229) with: {'learning_rate': 1.0, 'max_depth': 9, 'n_estimators': 500, 'subsample': 1.0}\n"
     ]
    }
   ],
   "source": [
    "grid = dict()\n",
    "grid['n_estimators'] = [10, 50, 100, 500]\n",
    "grid['learning_rate'] = [0.0001, 0.001, 0.01, 0.1, 1.0]\n",
    "grid['subsample'] = [0.5, 0.7, 1.0]\n",
    "grid['max_depth'] = [3, 7, 9]\n",
    "\n",
    "cv = RepeatedStratifiedKFold(n_splits=10, n_repeats=3, random_state=1)\n",
    "grid_search = GridSearchCV(estimator=gbm, param_grid=grid, n_jobs=-1, cv=cv, scoring='precision')\n",
    "\n",
    "grid_result = grid_search.fit(X_train, Y_train)\n",
    "print(\"Best: %f using %s\" % (grid_result.best_score_, grid_result.best_params_))\n",
    "\n",
    "means = grid_result.cv_results_['mean_test_score']\n",
    "stds = grid_result.cv_results_['std_test_score']\n",
    "params = grid_result.cv_results_['params']\n",
    "\n",
    "for mean, stdev, param in zip(means, stds, params):\n",
    "    print(\"%f (%f) with: %r\" % (mean, stdev, param))"
   ]
  },
  {
   "cell_type": "code",
   "execution_count": 66,
   "metadata": {},
   "outputs": [],
   "source": [
    "best_gbm = GradientBoostingClassifier(learning_rate = 0.01, max_depth=9, n_estimators=100, subsample=0.5)"
   ]
  },
  {
   "cell_type": "code",
   "execution_count": 67,
   "metadata": {},
   "outputs": [
    {
     "name": "stdout",
     "output_type": "stream",
     "text": [
      "Accuracy Score: 0.9297597042513863\n",
      "Confusion Matrix: \n",
      "[[1465    6]\n",
      " [ 108   44]]\n",
      "Area Under Curve: 0.6426974131453719\n",
      "Recall score: 0.2894736842105263\n",
      "Precision score: 0.88\n",
      "F1 score: 0.4356435643564356\n",
      "F0.5 score: 0.6250000000000001\n",
      "F2 score: 0.33434650455927056\n"
     ]
    }
   ],
   "source": [
    "best_gbm.fit(X_train,Y_train)\n",
    "\n",
    "gbc_predict_best = best_gbm.predict(X_test)\n",
    "\n",
    "print(f'Accuracy Score: {accuracy_score(Y_test,gbc_predict_best)}')\n",
    "print(f'Confusion Matrix: \\n{confusion_matrix(Y_test, gbc_predict_best)}')\n",
    "print(f'Area Under Curve: {roc_auc_score(Y_test, gbc_predict_best)}')\n",
    "print(f'Recall score: {recall_score(Y_test,gbc_predict_best)}')\n",
    "print(f'Precision score: {precision_score(Y_test,gbc_predict_best)}')\n",
    "print(f'F1 score: {f1_score(Y_test,gbc_predict_best)}')\n",
    "print(f\"F0.5 score: {fbeta_score(Y_test, gbc_predict_best, average='binary', beta=0.5)}\")\n",
    "print(f\"F2 score: {fbeta_score(Y_test, gbc_predict_best, average='binary', beta=2)}\")"
   ]
  },
  {
   "cell_type": "markdown",
   "metadata": {},
   "source": [
    "### Hyper-parameter tuning - F1"
   ]
  },
  {
   "cell_type": "code",
   "execution_count": 98,
   "metadata": {},
   "outputs": [
    {
     "name": "stdout",
     "output_type": "stream",
     "text": [
      "Best: 0.753141 using {'learning_rate': 0.1, 'max_depth': 3, 'n_estimators': 50, 'subsample': 0.7}\n"
     ]
    }
   ],
   "source": [
    "grid = dict()\n",
    "grid['n_estimators'] = [10, 50, 100, 500]\n",
    "grid['learning_rate'] = [0.0001, 0.001, 0.01, 0.1, 1.0]\n",
    "grid['subsample'] = [0.5, 0.7, 1.0]\n",
    "grid['max_depth'] = [3, 7, 9]\n",
    "\n",
    "cv = RepeatedStratifiedKFold(n_splits=10, n_repeats=3, random_state=1)\n",
    "grid_search_f = GridSearchCV(estimator=gbm, param_grid=grid, n_jobs=-1, cv=cv, scoring='f1_macro')\n",
    "\n",
    "grid_result_f = grid_search_f.fit(X_train, Y_train)\n",
    "print(\"Best: %f using %s\" % (grid_result_f.best_score_, grid_result_f.best_params_))"
   ]
  },
  {
   "cell_type": "code",
   "execution_count": 37,
   "metadata": {},
   "outputs": [
    {
     "name": "stdout",
     "output_type": "stream",
     "text": [
      "Accuracy Score: 0.9383857054836722\n",
      "Confusion Matrix: \n",
      "[[1436   35]\n",
      " [  65   87]]\n",
      "Area Under Curve: 0.7742875415936168\n",
      "Recall score: 0.5723684210526315\n",
      "Precision score: 0.7131147540983607\n",
      "F1 score: 0.635036496350365\n",
      "F0.5 score: 0.6796874999999999\n",
      "F2 score: 0.595890410958904\n"
     ]
    }
   ],
   "source": [
    "best_gbm_f = GradientBoostingClassifier(learning_rate= 0.1, max_depth= 3, n_estimators= 50, subsample= 0.7)\n",
    "best_gbm_f.fit(X_train, Y_train)\n",
    "\n",
    "gbm_f_predict = best_gbm_f.predict(X_test)\n",
    "\n",
    "print(f'Accuracy Score: {accuracy_score(Y_test, gbm_f_predict)}')\n",
    "print(f'Confusion Matrix: \\n{confusion_matrix(Y_test, gbm_f_predict)}')\n",
    "print(f'Area Under Curve: {roc_auc_score(Y_test, gbm_f_predict)}')\n",
    "print(f'Recall score: {recall_score(Y_test, gbm_f_predict)}')\n",
    "print(f'Precision score: {precision_score(Y_test, gbm_f_predict)}')\n",
    "print(f'F1 score: {f1_score(Y_test, gbm_f_predict)}')\n",
    "print(f\"F0.5 score: {fbeta_score(Y_test, gbm_f_predict, average='binary', beta=0.5)}\")\n",
    "print(f\"F2 score: {fbeta_score(Y_test, gbm_f_predict, average='binary', beta=2)}\")"
   ]
  },
  {
   "cell_type": "code",
   "execution_count": 38,
   "metadata": {},
   "outputs": [
    {
     "data": {
      "text/plain": [
       "[('Inpatient', 0.31451432855213385),\n",
       " ('ClmProcedureCode_count', 0.17930059686189453),\n",
       " ('25000_diag', 0.056637293544317395),\n",
       " ('ClmProcedureCode', 0.04942740893027652),\n",
       " ('2724_diag', 0.04265789787853578),\n",
       " ('42731_diag', 0.03530201557164503),\n",
       " ('ClmAdmitDiagnosisCode', 0.029823907758720784),\n",
       " ('ClaimID', 0.02300114997238317),\n",
       " ('claim_days', 0.01962521610588508),\n",
       " ('OPAnnualReimbursementAmt', 0.019307521900252825),\n",
       " ('InscClaimAmtReimbursed', 0.016974283485209442),\n",
       " ('Patient_Connections', 0.0158435826723579),\n",
       " ('DeductibleAmtPaid', 0.015485399804652347),\n",
       " ('treatment_days', 0.014068580550197942),\n",
       " ('Gender', 0.013025422392912635),\n",
       " ('Age', 0.012826011032266339),\n",
       " ('2449_diag', 0.011159972550036803),\n",
       " ('4019_proc', 0.010054533438915384),\n",
       " ('RenalDiseaseIndicator', 0.008876445392097091),\n",
       " ('duplicate', 0.008818862015672823),\n",
       " ('V5869_diag', 0.008787638245840144),\n",
       " ('NoOfMonths_PartACov', 0.008660652433545784),\n",
       " ('ClmDiagnosisCode_count', 0.00850738973177339),\n",
       " ('45_state', 0.007539662950666248),\n",
       " ('14_state', 0.007064122404325494),\n",
       " ('39_state', 0.006984915234484976),\n",
       " ('OPAnnualDeductibleAmt', 0.005958987596091521),\n",
       " ('8151_proc', 0.005730884615766239),\n",
       " ('NoOfMonths_PartBCov', 0.005704760696041866),\n",
       " ('num_chronic', 0.005620179154229305),\n",
       " ('2724_proc', 0.005094245731249043),\n",
       " ('IPAnnualReimbursementAmt', 0.004673804054599907),\n",
       " ('AttPhys_Connections', 0.004231262633191759),\n",
       " ('8154_proc', 0.002913789113381182),\n",
       " ('4516_proc', 0.0026165108021743693),\n",
       " ('66_proc', 0.0023459482313638843),\n",
       " ('3722_proc', 0.0019621456833735338),\n",
       " ('IPAnnualDeductibleAmt', 0.0018997673453302936),\n",
       " ('3995_proc', 0.0016825774104006882),\n",
       " ('V5861_diag', 0.0012955358024927329),\n",
       " ('4019_diag', 0.0012483162154075832),\n",
       " ('10_state', 0.0008510451691932796),\n",
       " ('9904_proc', 0.0007777282498745581),\n",
       " ('33_state', 0.0005773733092330388),\n",
       " ('4011_diag', 0.0005403267756055105),\n",
       " ('3893_proc', 0.0),\n",
       " ('8872_proc', 0.0),\n",
       " ('5_state', 0.0)]"
      ]
     },
     "execution_count": 38,
     "metadata": {},
     "output_type": "execute_result"
    }
   ],
   "source": [
    "sorted_importance = sorted(zip(x.columns, best_gbm_f.feature_importances_), key=lambda t:t[1], reverse=True)\n",
    "sorted_importance"
   ]
  },
  {
   "cell_type": "code",
   "execution_count": 65,
   "metadata": {},
   "outputs": [
    {
     "data": {
      "image/png": "[encoded data removed]",
      "text/plain": [
       "<Figure size 3240x1800 with 1 Axes>"
      ]
     },
     "metadata": {
      "needs_background": "light"
     },
     "output_type": "display_data"
    }
   ],
   "source": [
    "a, b = zip(*sorted_importance)\n",
    "plt.figure(figsize=(45,25))\n",
    "plt.bar(a,b)\n",
    "plt.xticks(rotation='vertical')\n",
    "plt.xlabel('feature names',fontsize=28)\n",
    "plt.title(\"Gradient Boosting Feature Importance\")\n",
    "plt.rcParams.update({'font.size':22})\n",
    "plt.show()"
   ]
  },
  {
   "cell_type": "markdown",
   "metadata": {},
   "source": [
    "# VotingClassifier"
   ]
  },
  {
   "cell_type": "code",
   "execution_count": 91,
   "metadata": {},
   "outputs": [],
   "source": [
    "from sklearn.ensemble import VotingClassifier"
   ]
  },
  {
   "cell_type": "code",
   "execution_count": 95,
   "metadata": {},
   "outputs": [
    {
     "name": "stderr",
     "output_type": "stream",
     "text": [
      "/Users/thisbekristin/opt/miniconda3/envs/myenv/lib/python3.7/site-packages/sklearn/model_selection/_split.py:297: FutureWarning: Setting a random_state has no effect since shuffle is False. This will raise an error in 0.24. You should leave random_state to its default (None), or set shuffle=True.\n",
      "  FutureWarning\n"
     ]
    },
    {
     "name": "stdout",
     "output_type": "stream",
     "text": [
      "0.7310466600963178\n"
     ]
    }
   ],
   "source": [
    "kfold = model_selection.KFold(n_splits=10, random_state = 7)\n",
    "estimators = []\n",
    "\n",
    "LogReg = LogisticRegression(random_state=13,C=1.0,fit_intercept=True, penalty='l1',solver='liblinear',class_weight={0: 1.0, 1: 1}, max_iter=2000)\n",
    "estimators.append(('logistic', LogReg))\n",
    "RandFor = RandomForestClassifier(class_weight = 'balanced', random_state=0)\n",
    "estimators.append(('random forest', RandFor))\n",
    "GBC = GradientBoostingClassifier(learning_rate = 0.01, max_depth=9, n_estimators=100, subsample=0.5)\n",
    "estimators.append(('gradient boosting classifier', GBC))\n",
    "\n",
    "\n",
    "ensemble = VotingClassifier(estimators)\n",
    "\n",
    "results= model_selection.cross_val_score(ensemble, X_train, Y_train, cv=kfold, scoring='f1_macro')\n",
    "print(np.mean(results))\n",
    "\n"
   ]
  },
  {
   "cell_type": "code",
   "execution_count": 96,
   "metadata": {},
   "outputs": [],
   "source": [
    "vc = ensemble.fit(X_train, Y_train)"
   ]
  },
  {
   "cell_type": "code",
   "execution_count": 97,
   "metadata": {},
   "outputs": [
    {
     "name": "stdout",
     "output_type": "stream",
     "text": [
      "Accuracy Score: 0.9359211337030191\n",
      "Confusion Matrix: \n",
      "[[1450   21]\n",
      " [  83   69]]\n",
      "Area Under Curve: 0.719835682850907\n",
      "Recall score: 0.45394736842105265\n",
      "Precision score: 0.7666666666666667\n",
      "F1 score: 0.5702479338842976\n",
      "F0.5 score: 0.673828125\n",
      "F2 score: 0.49426934097421205\n"
     ]
    }
   ],
   "source": [
    "vc_predict = vc.predict(X_test)\n",
    "\n",
    "print(f'Accuracy Score: {accuracy_score(Y_test,vc_predict)}')\n",
    "print(f'Confusion Matrix: \\n{confusion_matrix(Y_test, vc_predict)}')\n",
    "print(f'Area Under Curve: {roc_auc_score(Y_test, vc_predict)}')\n",
    "print(f'Recall score: {recall_score(Y_test,vc_predict)}')\n",
    "print(f'Precision score: {precision_score(Y_test,vc_predict)}')\n",
    "print(f'F1 score: {f1_score(Y_test,vc_predict)}')\n",
    "print(f\"F0.5 score: {fbeta_score(Y_test, vc_predict, average='binary', beta=0.5)}\")\n",
    "print(f\"F2 score: {fbeta_score(Y_test, vc_predict, average='binary', beta=2)}\")"
   ]
  },
  {
   "cell_type": "markdown",
   "metadata": {},
   "source": [
    "# More Testing with Different Models\n",
    "# XGBoost\n",
    "Example: https://machinelearningmastery.com/xgboost-for-imbalanced-classification/"
   ]
  },
  {
   "cell_type": "code",
   "execution_count": 18,
   "metadata": {},
   "outputs": [],
   "source": [
    "xg_model = xgb.XGBClassifier()"
   ]
  },
  {
   "cell_type": "code",
   "execution_count": 19,
   "metadata": {},
   "outputs": [
    {
     "name": "stderr",
     "output_type": "stream",
     "text": [
      "/Users/thisbekristin/opt/miniconda3/envs/myenv/lib/python3.7/site-packages/xgboost/sklearn.py:888: UserWarning: The use of label encoder in XGBClassifier is deprecated and will be removed in a future release. To remove this warning, do the following: 1) Pass option use_label_encoder=False when constructing XGBClassifier object; and 2) Encode your labels (y) as integers starting with 0, i.e. 0, 1, 2, ..., [num_class - 1].\n",
      "  warnings.warn(label_encoder_deprecation_msg, UserWarning)\n"
     ]
    },
    {
     "name": "stdout",
     "output_type": "stream",
     "text": [
      "[11:51:27] WARNING: /Users/runner/miniforge3/conda-bld/xgboost_1607604592557/work/src/learner.cc:1061: Starting in XGBoost 1.3.0, the default evaluation metric used with the objective 'binary:logistic' was changed from 'error' to 'logloss'. Explicitly set eval_metric if you'd like to restore the old behavior.\n"
     ]
    }
   ],
   "source": [
    "cv = RepeatedStratifiedKFold(n_splits=10, n_repeats=3, random_state=1)\n",
    "xg_model.fit(x_train, y_train)\n",
    "xg_rocauc = cross_val_score(xg_model, x_train, y_train, scoring='roc_auc', cv=cv, n_jobs=-1)\n",
    "xg_f1 = cross_val_score(xg_model, x_train, y_train, scoring='f1', cv=cv, n_jobs=-1)\n",
    "xg_precision = cross_val_score(xg_model, x_train, y_train, scoring='precision', cv=cv, n_jobs=-1)\n",
    "xg_recall = cross_val_score(xg_model, x_train, y_train, scoring='recall', cv=cv, n_jobs=-1)"
   ]
  },
  {
   "cell_type": "markdown",
   "metadata": {},
   "source": [
    "With Diagnostic codes"
   ]
  },
  {
   "cell_type": "code",
   "execution_count": 20,
   "metadata": {},
   "outputs": [
    {
     "name": "stdout",
     "output_type": "stream",
     "text": [
      "ROC_AUC: 0.92372\n",
      "F1: 0.53540\n",
      "Precision: 0.65447\n",
      "Recall: 0.45947\n"
     ]
    }
   ],
   "source": [
    "print('ROC_AUC: %.5f' % np.mean(xg_rocauc))\n",
    "print('F1: %.5f' % np.mean(xg_f1))\n",
    "print('Precision: %.5f' % np.mean(xg_precision))\n",
    "print('Recall: %.5f' % np.mean(xg_recall))"
   ]
  },
  {
   "cell_type": "markdown",
   "metadata": {},
   "source": [
    "No Diagnostic codes"
   ]
  },
  {
   "cell_type": "code",
   "execution_count": 29,
   "metadata": {},
   "outputs": [
    {
     "name": "stdout",
     "output_type": "stream",
     "text": [
      "ROC_AUC: 0.92596\n",
      "F1: 0.56132\n",
      "Precision: 0.67953\n",
      "Recall: 0.48437\n"
     ]
    }
   ],
   "source": [
    "print('ROC_AUC: %.5f' % np.mean(xg_rocauc))\n",
    "print('F1: %.5f' % np.mean(xg_f1))\n",
    "print('Precision: %.5f' % np.mean(xg_precision))\n",
    "print('Recall: %.5f' % np.mean(xg_recall))"
   ]
  },
  {
   "cell_type": "code",
   "execution_count": 20,
   "metadata": {},
   "outputs": [
    {
     "name": "stdout",
     "output_type": "stream",
     "text": [
      "Estimate: 9.692\n"
     ]
    }
   ],
   "source": [
    "estimate = list(counter.values())[0] / list(counter.values())[1]\n",
    "print('Estimate: %.3f' % estimate)"
   ]
  },
  {
   "cell_type": "markdown",
   "metadata": {},
   "source": [
    "Adjusted scale_pos_weight"
   ]
  },
  {
   "cell_type": "code",
   "execution_count": 21,
   "metadata": {},
   "outputs": [
    {
     "name": "stderr",
     "output_type": "stream",
     "text": [
      "/Users/thisbekristin/opt/miniconda3/envs/myenv/lib/python3.7/site-packages/xgboost/sklearn.py:888: UserWarning: The use of label encoder in XGBClassifier is deprecated and will be removed in a future release. To remove this warning, do the following: 1) Pass option use_label_encoder=False when constructing XGBClassifier object; and 2) Encode your labels (y) as integers starting with 0, i.e. 0, 1, 2, ..., [num_class - 1].\n",
      "  warnings.warn(label_encoder_deprecation_msg, UserWarning)\n"
     ]
    },
    {
     "name": "stdout",
     "output_type": "stream",
     "text": [
      "[11:53:10] WARNING: /Users/runner/miniforge3/conda-bld/xgboost_1607604592557/work/src/learner.cc:1061: Starting in XGBoost 1.3.0, the default evaluation metric used with the objective 'binary:logistic' was changed from 'error' to 'logloss'. Explicitly set eval_metric if you'd like to restore the old behavior.\n"
     ]
    }
   ],
   "source": [
    "xg_model_high = xgb.XGBClassifier(scale_pos_weight=9)\n",
    "xg_model_high.fit(x_train, y_train)\n",
    "xg_rocauc_high = cross_val_score(xg_model_high, x_train, y_train, scoring='roc_auc', n_jobs=-1)\n",
    "xg_f1_high = cross_val_score(xg_model_high, x_train, y_train, scoring='f1', n_jobs=-1)\n",
    "xg_precision_high = cross_val_score(xg_model_high, x_train, y_train, scoring='precision', n_jobs=-1)\n",
    "xg_recall_high = cross_val_score(xg_model_high, x_train, y_train, scoring='recall', n_jobs=-1)"
   ]
  },
  {
   "cell_type": "markdown",
   "metadata": {},
   "source": [
    "With diagnostic codes"
   ]
  },
  {
   "cell_type": "code",
   "execution_count": 22,
   "metadata": {},
   "outputs": [
    {
     "name": "stdout",
     "output_type": "stream",
     "text": [
      "ROC_AUC: 0.92560\n",
      "F1: 0.59195\n",
      "Precision: 0.61898\n",
      "Recall: 0.57052\n"
     ]
    }
   ],
   "source": [
    "print('ROC_AUC: %.5f' % np.mean(xg_rocauc_high))\n",
    "print('F1: %.5f' % np.mean(xg_f1_high))\n",
    "print('Precision: %.5f' % np.mean(xg_precision_high))\n",
    "print('Recall: %.5f' % np.mean(xg_recall_high))"
   ]
  },
  {
   "cell_type": "markdown",
   "metadata": {},
   "source": [
    "No diagnostic code"
   ]
  },
  {
   "cell_type": "code",
   "execution_count": 27,
   "metadata": {},
   "outputs": [
    {
     "name": "stdout",
     "output_type": "stream",
     "text": [
      "ROC_AUC: 0.92391\n",
      "F1: 0.57845\n",
      "Precision: 0.61178\n",
      "Recall: 0.55337\n"
     ]
    }
   ],
   "source": [
    "print('ROC_AUC: %.5f' % np.mean(xg_rocauc_high))\n",
    "print('F1: %.5f' % np.mean(xg_f1_high))\n",
    "print('Precision: %.5f' % np.mean(xg_precision_high))\n",
    "print('Recall: %.5f' % np.mean(xg_recall_high))"
   ]
  },
  {
   "cell_type": "code",
   "execution_count": 23,
   "metadata": {},
   "outputs": [
    {
     "name": "stdout",
     "output_type": "stream",
     "text": [
      "[[1421   43]\n",
      " [  77   82]]\n",
      "              precision    recall  f1-score   support\n",
      "\n",
      "           0       0.95      0.97      0.96      1464\n",
      "           1       0.66      0.52      0.58       159\n",
      "\n",
      "    accuracy                           0.93      1623\n",
      "   macro avg       0.80      0.74      0.77      1623\n",
      "weighted avg       0.92      0.93      0.92      1623\n",
      "\n"
     ]
    }
   ],
   "source": [
    "print(confusion_matrix(y_test,xg_model_high.predict(x_test)))\n",
    "print(classification_report(y_test,xg_model_high.predict(x_test)))"
   ]
  },
  {
   "cell_type": "code",
   "execution_count": 51,
   "metadata": {},
   "outputs": [
    {
     "name": "stdout",
     "output_type": "stream",
     "text": [
      "Confusion matrix, without normalization\n",
      "[[1412   52]\n",
      " [  74   85]]\n",
      "Normalized confusion matrix\n",
      "[[0.96448087 0.03551913]\n",
      " [0.46540881 0.53459119]]\n"
     ]
    },
    {
     "data": {
      "image/png": "[encoded data removed]",
      "text/plain": [
       "<Figure size 432x288 with 2 Axes>"
      ]
     },
     "metadata": {
      "needs_background": "light"
     },
     "output_type": "display_data"
    },
    {
     "data": {
      "image/png": "[encoded data removed]",
      "text/plain": [
       "<Figure size 432x288 with 2 Axes>"
      ]
     },
     "metadata": {
      "needs_background": "light"
     },
     "output_type": "display_data"
    }
   ],
   "source": [
    "title_options = [(\"Confusion matrix, without normalization\", None),\\\n",
    "                (\"Normalized confusion matrix\", 'true')]\n",
    "\n",
    "for title, normalize in title_options:\n",
    "    disp = plot_confusion_matrix(xg_model_, x_test, Y_test, normalize=normalize, cmap=plt.cm.Blues, display_labels=['No Fraud','Fraud'])\n",
    "    \n",
    "    disp.ax_.set_title(title)\n",
    "    \n",
    "    print(title)\n",
    "    print(disp.confusion_matrix)\n",
    "    \n",
    "plt.show()"
   ]
  },
  {
   "cell_type": "code",
   "execution_count": 60,
   "metadata": {},
   "outputs": [],
   "source": [
    "def plot_cm(y_test, y_pred, model):\n",
    "    cm = confusion_matrix(y_test, y_pred)\n",
    "    group_names = ['TN','FP','FN','TP']\n",
    "    group_counts = ['{0:0.0f}'.format(value) for value in\n",
    "                cm.flatten()]\n",
    "    group_percentages = ['{0:.2%}'.format(value) for value in\n",
    "                     cm.flatten()/np.sum(cm)]\n",
    "    labels = [f'{v1}\\n{v2}\\n{v3}' for v1, v2, v3 in\n",
    "          zip(group_names,group_counts,group_percentages)]\n",
    "    labels = np.asarray(labels).reshape(2,2)\n",
    "    ax= plt.subplot()\n",
    "    sns.heatmap(cm/np.sum(cm), annot=labels, ax = ax, fmt='', cmap = \"Blues\"); #annot=True to annotate cells\n",
    "    # labels, title and ticks\n",
    "    ax.set_xlabel('Predicted labels');ax.set_ylabel('True labels')\n",
    "    ax.set_title('Confusion Matrix with %s' % model)\n",
    "    ax.xaxis.set_ticklabels(['Not Fraud', 'Potential Fraud']); ax.yaxis.set_ticklabels(['Not Fraud', 'Potential Fraud'])"
   ]
  },
  {
   "cell_type": "code",
   "execution_count": 61,
   "metadata": {},
   "outputs": [
    {
     "data": {
      "image/png": "[encoded data removed]",
      "text/plain": [
       "<Figure size 432x288 with 2 Axes>"
      ]
     },
     "metadata": {
      "needs_background": "light"
     },
     "output_type": "display_data"
    }
   ],
   "source": [
    "plot_cm(Y_test, xg_model.predict(x_test),'XGBoost')"
   ]
  },
  {
   "cell_type": "code",
   "execution_count": 63,
   "metadata": {},
   "outputs": [],
   "source": [
    "ns_probs = [0 for _ in range(len(Y_test))]\n",
    "lr_probs = xg_model.predict_proba(x_test)\n",
    "lr_probs = lr_probs[:, 1]"
   ]
  },
  {
   "cell_type": "code",
   "execution_count": 64,
   "metadata": {},
   "outputs": [
    {
     "name": "stdout",
     "output_type": "stream",
     "text": [
      "No Fraud: ROC AUC=0.500\n",
      "Fraud: ROC AUC=0.924\n"
     ]
    }
   ],
   "source": [
    "ns_auc = roc_auc_score(Y_test, ns_probs)\n",
    "lr_auc = roc_auc_score(Y_test, lr_probs)\n",
    "print('No Fraud: ROC AUC=%.3f' % (ns_auc))\n",
    "print('Fraud: ROC AUC=%.3f' % (lr_auc))"
   ]
  },
  {
   "cell_type": "code",
   "execution_count": 73,
   "metadata": {},
   "outputs": [
    {
     "data": {
      "image/png": "[encoded data removed]",
      "text/plain": [
       "<Figure size 432x288 with 1 Axes>"
      ]
     },
     "metadata": {
      "needs_background": "light"
     },
     "output_type": "display_data"
    }
   ],
   "source": [
    "ns_fpr, ns_tpr, _ = roc_curve(Y_test, ns_probs)\n",
    "lr_fpr, lr_tpr, _ = roc_curve(Y_test, lr_probs)\n",
    "\n",
    "plt.plot(ns_fpr, ns_tpr, linestyle='--',label='No Fraud')\n",
    "plt.plot(lr_fpr, lr_tpr, marker='.', label='Fraud')\n",
    "\n",
    "plt.xlabel('False Positive Rate')\n",
    "plt.ylabel('True Positive Rate')\n",
    "plt.title(\"ROC Curve\")\n",
    "plt.legend()\n",
    "plt.show()"
   ]
  },
  {
   "cell_type": "code",
   "execution_count": 74,
   "metadata": {},
   "outputs": [
    {
     "name": "stdout",
     "output_type": "stream",
     "text": [
      "Fraud: f1=0.574 auc=0.663\n"
     ]
    },
    {
     "data": {
      "image/png": "[encoded data removed]",
      "text/plain": [
       "<Figure size 432x288 with 1 Axes>"
      ]
     },
     "metadata": {
      "needs_background": "light"
     },
     "output_type": "display_data"
    }
   ],
   "source": [
    "yhat = xg_model.predict(x_test)\n",
    "lr_precision, lr_recall, _ = precision_recall_curve(Y_test, lr_probs)\n",
    "lr_f1, lr_auc = f1_score(Y_test, yhat), auc(lr_recall, lr_precision)\n",
    "\n",
    "print('Fraud: f1=%.3f auc=%.3f' % (lr_f1, lr_auc))\n",
    "\n",
    "no_fraud = len(Y_test[Y_test==1])/len(Y_test)\n",
    "plt.plot([0,1], [no_fraud, no_fraud], linestyle='--',label='No Fraud')\n",
    "plt.plot(lr_recall, lr_precision, marker='.', label='Fraud')\n",
    "\n",
    "plt.xlabel('Recall')\n",
    "plt.ylabel('Precision')\n",
    "\n",
    "plt.title(\"Precision-Recall Curve\")\n",
    "plt.legend()\n",
    "plt.show()\n"
   ]
  },
  {
   "cell_type": "markdown",
   "metadata": {},
   "source": [
    "### XGBoost Parameters"
   ]
  },
  {
   "cell_type": "code",
   "execution_count": 21,
   "metadata": {},
   "outputs": [
    {
     "name": "stderr",
     "output_type": "stream",
     "text": [
      "/Users/thisbekristin/opt/miniconda3/envs/myenv/lib/python3.7/site-packages/xgboost/sklearn.py:888: UserWarning: The use of label encoder in XGBClassifier is deprecated and will be removed in a future release. To remove this warning, do the following: 1) Pass option use_label_encoder=False when constructing XGBClassifier object; and 2) Encode your labels (y) as integers starting with 0, i.e. 0, 1, 2, ..., [num_class - 1].\n",
      "  warnings.warn(label_encoder_deprecation_msg, UserWarning)\n"
     ]
    },
    {
     "name": "stdout",
     "output_type": "stream",
     "text": [
      "[19:49:41] WARNING: /Users/runner/miniforge3/conda-bld/xgboost_1607604592557/work/src/learner.cc:1061: Starting in XGBoost 1.3.0, the default evaluation metric used with the objective 'binary:logistic' was changed from 'error' to 'logloss'. Explicitly set eval_metric if you'd like to restore the old behavior.\n"
     ]
    }
   ],
   "source": [
    "weights = [0.01, 0.1, 1, 10, 25, 50, 75, 99, 100, 1000]\n",
    "min_child_weight = [1,5,10,15,25]\n",
    "param_grid = dict(scale_pos_weight=weights,min_child_weight=min_child_weight)\n",
    "cv = RepeatedStratifiedKFold(n_splits=10, n_repeats=3, random_state=1)\n",
    "grid = GridSearchCV(estimator=xg_model, param_grid=param_grid, n_jobs=-1, cv=cv, scoring='roc_auc')\n",
    "grid_result = grid.fit(x_train,Y_train)"
   ]
  },
  {
   "cell_type": "code",
   "execution_count": 22,
   "metadata": {},
   "outputs": [
    {
     "name": "stdout",
     "output_type": "stream",
     "text": [
      "Best: 0.930197 using {'min_child_weight': 25, 'scale_pos_weight': 1}\n",
      "0.921523 (0.020223) with: {'min_child_weight': 1, 'scale_pos_weight': 0.01}\n",
      "0.929532 (0.021655) with: {'min_child_weight': 1, 'scale_pos_weight': 0.1}\n",
      "0.925961 (0.021222) with: {'min_child_weight': 1, 'scale_pos_weight': 1}\n",
      "0.922040 (0.023926) with: {'min_child_weight': 1, 'scale_pos_weight': 10}\n",
      "0.918061 (0.021962) with: {'min_child_weight': 1, 'scale_pos_weight': 25}\n",
      "0.917537 (0.024578) with: {'min_child_weight': 1, 'scale_pos_weight': 50}\n",
      "0.918103 (0.020443) with: {'min_child_weight': 1, 'scale_pos_weight': 75}\n",
      "0.914079 (0.025273) with: {'min_child_weight': 1, 'scale_pos_weight': 99}\n",
      "0.914129 (0.022128) with: {'min_child_weight': 1, 'scale_pos_weight': 100}\n",
      "0.903502 (0.022847) with: {'min_child_weight': 1, 'scale_pos_weight': 1000}\n",
      "0.893310 (0.023556) with: {'min_child_weight': 5, 'scale_pos_weight': 0.01}\n",
      "0.929223 (0.018005) with: {'min_child_weight': 5, 'scale_pos_weight': 0.1}\n",
      "0.925039 (0.022895) with: {'min_child_weight': 5, 'scale_pos_weight': 1}\n",
      "0.924066 (0.021516) with: {'min_child_weight': 5, 'scale_pos_weight': 10}\n",
      "0.920332 (0.021305) with: {'min_child_weight': 5, 'scale_pos_weight': 25}\n",
      "0.920703 (0.024671) with: {'min_child_weight': 5, 'scale_pos_weight': 50}\n",
      "0.916862 (0.024358) with: {'min_child_weight': 5, 'scale_pos_weight': 75}\n",
      "0.915211 (0.021069) with: {'min_child_weight': 5, 'scale_pos_weight': 99}\n",
      "0.916140 (0.023323) with: {'min_child_weight': 5, 'scale_pos_weight': 100}\n",
      "0.899906 (0.027724) with: {'min_child_weight': 5, 'scale_pos_weight': 1000}\n",
      "0.500000 (0.000000) with: {'min_child_weight': 10, 'scale_pos_weight': 0.01}\n",
      "0.922817 (0.018572) with: {'min_child_weight': 10, 'scale_pos_weight': 0.1}\n",
      "0.925331 (0.022424) with: {'min_child_weight': 10, 'scale_pos_weight': 1}\n",
      "0.923124 (0.023114) with: {'min_child_weight': 10, 'scale_pos_weight': 10}\n",
      "0.922252 (0.021516) with: {'min_child_weight': 10, 'scale_pos_weight': 25}\n",
      "0.920172 (0.024327) with: {'min_child_weight': 10, 'scale_pos_weight': 50}\n",
      "0.922027 (0.024085) with: {'min_child_weight': 10, 'scale_pos_weight': 75}\n",
      "0.917849 (0.021041) with: {'min_child_weight': 10, 'scale_pos_weight': 99}\n",
      "0.917637 (0.026237) with: {'min_child_weight': 10, 'scale_pos_weight': 100}\n",
      "0.907810 (0.028772) with: {'min_child_weight': 10, 'scale_pos_weight': 1000}\n",
      "0.500000 (0.000000) with: {'min_child_weight': 15, 'scale_pos_weight': 0.01}\n",
      "0.922557 (0.017674) with: {'min_child_weight': 15, 'scale_pos_weight': 0.1}\n",
      "0.926797 (0.020764) with: {'min_child_weight': 15, 'scale_pos_weight': 1}\n",
      "0.923968 (0.023137) with: {'min_child_weight': 15, 'scale_pos_weight': 10}\n",
      "0.923386 (0.022625) with: {'min_child_weight': 15, 'scale_pos_weight': 25}\n",
      "0.920760 (0.022491) with: {'min_child_weight': 15, 'scale_pos_weight': 50}\n",
      "0.918125 (0.022730) with: {'min_child_weight': 15, 'scale_pos_weight': 75}\n",
      "0.921273 (0.021469) with: {'min_child_weight': 15, 'scale_pos_weight': 99}\n",
      "0.921280 (0.021027) with: {'min_child_weight': 15, 'scale_pos_weight': 100}\n",
      "0.914802 (0.021061) with: {'min_child_weight': 15, 'scale_pos_weight': 1000}\n",
      "0.500000 (0.000000) with: {'min_child_weight': 25, 'scale_pos_weight': 0.01}\n",
      "0.911318 (0.019490) with: {'min_child_weight': 25, 'scale_pos_weight': 0.1}\n",
      "0.930197 (0.019319) with: {'min_child_weight': 25, 'scale_pos_weight': 1}\n",
      "0.924792 (0.022220) with: {'min_child_weight': 25, 'scale_pos_weight': 10}\n",
      "0.924198 (0.022080) with: {'min_child_weight': 25, 'scale_pos_weight': 25}\n",
      "0.921446 (0.023762) with: {'min_child_weight': 25, 'scale_pos_weight': 50}\n",
      "0.923541 (0.026337) with: {'min_child_weight': 25, 'scale_pos_weight': 75}\n",
      "0.922417 (0.023338) with: {'min_child_weight': 25, 'scale_pos_weight': 99}\n",
      "0.921920 (0.024865) with: {'min_child_weight': 25, 'scale_pos_weight': 100}\n",
      "0.918969 (0.021805) with: {'min_child_weight': 25, 'scale_pos_weight': 1000}\n"
     ]
    }
   ],
   "source": [
    "# report the best configuration\n",
    "print(\"Best: %f using %s\" % (grid_result.best_score_, grid_result.best_params_))\n",
    "# report all configurations\n",
    "means = grid_result.cv_results_['mean_test_score']\n",
    "stds = grid_result.cv_results_['std_test_score']\n",
    "params = grid_result.cv_results_['params']\n",
    "for mean, stdev, param in zip(means, stds, params):\n",
    "    print(\"%f (%f) with: %r\" % (mean, stdev, param))"
   ]
  },
  {
   "cell_type": "code",
   "execution_count": 52,
   "metadata": {},
   "outputs": [
    {
     "data": {
      "text/plain": [
       "GridSearchCV(cv=RepeatedStratifiedKFold(n_repeats=3, n_splits=10, random_state=1),\n",
       "             estimator=XGBClassifier(base_score=0.5, booster='gbtree',\n",
       "                                     colsample_bylevel=1, colsample_bynode=1,\n",
       "                                     colsample_bytree=1, gamma=0, gpu_id=-1,\n",
       "                                     importance_type='gain',\n",
       "                                     interaction_constraints='',\n",
       "                                     learning_rate=0.300000012,\n",
       "                                     max_delta_step=0, max_depth=6,\n",
       "                                     min_child_weight=1, missing=nan,\n",
       "                                     monotone_constraints='()',\n",
       "                                     n_estimators=100, n_jobs=8,\n",
       "                                     num_parallel_tree=1, random_state=0,\n",
       "                                     reg_alpha=0, reg_lambda=1,\n",
       "                                     scale_pos_weight=9, subsample=1,\n",
       "                                     tree_method='exact', validate_parameters=1,\n",
       "                                     verbosity=None),\n",
       "             n_jobs=-1,\n",
       "             param_grid={'scale_pos_weight': [0.01, 0.1, 1, 10, 25, 50, 75, 99,\n",
       "                                              100, 1000]},\n",
       "             scoring='roc_auc')"
      ]
     },
     "execution_count": 52,
     "metadata": {},
     "output_type": "execute_result"
    }
   ],
   "source": [
    "grid"
   ]
  },
  {
   "cell_type": "markdown",
   "metadata": {},
   "source": [
    "# SVM\n",
    "https://www.analyticsvidhya.com/blog/2017/09/understaing-support-vector-machine-example-code/"
   ]
  },
  {
   "cell_type": "markdown",
   "metadata": {},
   "source": [
    "**Adjust built-in parameter**"
   ]
  },
  {
   "cell_type": "code",
   "execution_count": 24,
   "metadata": {},
   "outputs": [],
   "source": [
    "svc_model_p = SVC(class_weight='balanced', probability=True)"
   ]
  },
  {
   "cell_type": "code",
   "execution_count": 25,
   "metadata": {},
   "outputs": [
    {
     "name": "stdout",
     "output_type": "stream",
     "text": [
      "Counter({0: 3440, 1: 347})\n"
     ]
    }
   ],
   "source": [
    "counter_over = Counter(y_train)\n",
    "print(counter_over)"
   ]
  },
  {
   "cell_type": "code",
   "execution_count": 26,
   "metadata": {},
   "outputs": [
    {
     "data": {
      "text/plain": [
       "SVC(class_weight='balanced', probability=True)"
      ]
     },
     "execution_count": 26,
     "metadata": {},
     "output_type": "execute_result"
    }
   ],
   "source": [
    "svc_model_p.fit(x_train,y_train)"
   ]
  },
  {
   "cell_type": "code",
   "execution_count": 27,
   "metadata": {},
   "outputs": [],
   "source": [
    "svc_predict = svc_model_p.predict(x_test)"
   ]
  },
  {
   "cell_type": "code",
   "execution_count": 28,
   "metadata": {},
   "outputs": [
    {
     "name": "stdout",
     "output_type": "stream",
     "text": [
      "ROCAUC score: 0.8464339107124447\n",
      "Accuracy score: 0.884781269254467\n",
      "F1 score: 0.5759637188208616\n",
      "Precision score: 0.450354609929078\n",
      "Recall score: 0.7987421383647799\n"
     ]
    }
   ],
   "source": [
    "print('ROCAUC score:', roc_auc_score(y_test, svc_predict))\n",
    "print('Accuracy score:', accuracy_score(y_test, svc_predict))\n",
    "print('F1 score:', f1_score(y_test, svc_predict))\n",
    "print('Precision score:', precision_score(y_test, svc_predict))\n",
    "print('Recall score:', recall_score(y_test,svc_predict))"
   ]
  },
  {
   "cell_type": "markdown",
   "metadata": {},
   "source": [
    "**With SMOTE - oversampling**"
   ]
  },
  {
   "cell_type": "code",
   "execution_count": 29,
   "metadata": {},
   "outputs": [],
   "source": [
    "oversample = SMOTE()\n",
    "x_train_over, y_train_over = oversample.fit_resample(x_train,y_train)"
   ]
  },
  {
   "cell_type": "code",
   "execution_count": 30,
   "metadata": {},
   "outputs": [],
   "source": [
    "svc_model_smote = SVC()"
   ]
  },
  {
   "cell_type": "code",
   "execution_count": 31,
   "metadata": {},
   "outputs": [
    {
     "data": {
      "text/plain": [
       "SVC()"
      ]
     },
     "execution_count": 31,
     "metadata": {},
     "output_type": "execute_result"
    }
   ],
   "source": [
    "svc_model_smote.fit(x_train_over,y_train_over)"
   ]
  },
  {
   "cell_type": "code",
   "execution_count": 32,
   "metadata": {},
   "outputs": [],
   "source": [
    "svc_predict_smote = svc_model_smote.predict(x_test)"
   ]
  },
  {
   "cell_type": "code",
   "execution_count": 33,
   "metadata": {},
   "outputs": [
    {
     "name": "stdout",
     "output_type": "stream",
     "text": [
      "ROCAUC score: 0.8497203319929889\n",
      "Accuracy score: 0.8755391250770179\n",
      "F1 score: 0.5627705627705628\n",
      "Precision score: 0.429042904290429\n",
      "Recall score: 0.8176100628930818\n"
     ]
    }
   ],
   "source": [
    "print('ROCAUC score:', roc_auc_score(y_test, svc_predict_smote))\n",
    "print('Accuracy score:', accuracy_score(y_test, svc_predict_smote))\n",
    "print('F1 score:', f1_score(y_test, svc_predict_smote))\n",
    "print('Precision score:', precision_score(y_test, svc_predict_smote))\n",
    "print('Recall score:', recall_score(y_test,svc_predict_smote))"
   ]
  },
  {
   "cell_type": "markdown",
   "metadata": {},
   "source": [
    "# Test All Models"
   ]
  },
  {
   "cell_type": "code",
   "execution_count": 47,
   "metadata": {},
   "outputs": [],
   "source": [
    "from pycaret.classification import *"
   ]
  },
  {
   "cell_type": "code",
   "execution_count": 48,
   "metadata": {},
   "outputs": [
    {
     "data": {
      "text/html": [
       "<style  type=\"text/css\" >\n",
       "</style><table id=\"T_8e06a566_7c0f_11eb_8408_f45c89cb0e03\" ><thead>    <tr>        <th class=\"blank level0\" ></th>        <th class=\"col_heading level0 col0\" >Description</th>        <th class=\"col_heading level0 col1\" >Value</th>    </tr></thead><tbody>\n",
       "                <tr>\n",
       "                        <th id=\"T_8e06a566_7c0f_11eb_8408_f45c89cb0e03level0_row0\" class=\"row_heading level0 row0\" >0</th>\n",
       "                        <td id=\"T_8e06a566_7c0f_11eb_8408_f45c89cb0e03row0_col0\" class=\"data row0 col0\" >session_id</td>\n",
       "                        <td id=\"T_8e06a566_7c0f_11eb_8408_f45c89cb0e03row0_col1\" class=\"data row0 col1\" >5650</td>\n",
       "            </tr>\n",
       "            <tr>\n",
       "                        <th id=\"T_8e06a566_7c0f_11eb_8408_f45c89cb0e03level0_row1\" class=\"row_heading level0 row1\" >1</th>\n",
       "                        <td id=\"T_8e06a566_7c0f_11eb_8408_f45c89cb0e03row1_col0\" class=\"data row1 col0\" >Target</td>\n",
       "                        <td id=\"T_8e06a566_7c0f_11eb_8408_f45c89cb0e03row1_col1\" class=\"data row1 col1\" >PotentialFraud</td>\n",
       "            </tr>\n",
       "            <tr>\n",
       "                        <th id=\"T_8e06a566_7c0f_11eb_8408_f45c89cb0e03level0_row2\" class=\"row_heading level0 row2\" >2</th>\n",
       "                        <td id=\"T_8e06a566_7c0f_11eb_8408_f45c89cb0e03row2_col0\" class=\"data row2 col0\" >Target Type</td>\n",
       "                        <td id=\"T_8e06a566_7c0f_11eb_8408_f45c89cb0e03row2_col1\" class=\"data row2 col1\" >Binary</td>\n",
       "            </tr>\n",
       "            <tr>\n",
       "                        <th id=\"T_8e06a566_7c0f_11eb_8408_f45c89cb0e03level0_row3\" class=\"row_heading level0 row3\" >3</th>\n",
       "                        <td id=\"T_8e06a566_7c0f_11eb_8408_f45c89cb0e03row3_col0\" class=\"data row3 col0\" >Label Encoded</td>\n",
       "                        <td id=\"T_8e06a566_7c0f_11eb_8408_f45c89cb0e03row3_col1\" class=\"data row3 col1\" >No: 0, Yes: 1</td>\n",
       "            </tr>\n",
       "            <tr>\n",
       "                        <th id=\"T_8e06a566_7c0f_11eb_8408_f45c89cb0e03level0_row4\" class=\"row_heading level0 row4\" >4</th>\n",
       "                        <td id=\"T_8e06a566_7c0f_11eb_8408_f45c89cb0e03row4_col0\" class=\"data row4 col0\" >Original Data</td>\n",
       "                        <td id=\"T_8e06a566_7c0f_11eb_8408_f45c89cb0e03row4_col1\" class=\"data row4 col1\" >(5410, 50)</td>\n",
       "            </tr>\n",
       "            <tr>\n",
       "                        <th id=\"T_8e06a566_7c0f_11eb_8408_f45c89cb0e03level0_row5\" class=\"row_heading level0 row5\" >5</th>\n",
       "                        <td id=\"T_8e06a566_7c0f_11eb_8408_f45c89cb0e03row5_col0\" class=\"data row5 col0\" >Missing Values</td>\n",
       "                        <td id=\"T_8e06a566_7c0f_11eb_8408_f45c89cb0e03row5_col1\" class=\"data row5 col1\" >False</td>\n",
       "            </tr>\n",
       "            <tr>\n",
       "                        <th id=\"T_8e06a566_7c0f_11eb_8408_f45c89cb0e03level0_row6\" class=\"row_heading level0 row6\" >6</th>\n",
       "                        <td id=\"T_8e06a566_7c0f_11eb_8408_f45c89cb0e03row6_col0\" class=\"data row6 col0\" >Numeric Features</td>\n",
       "                        <td id=\"T_8e06a566_7c0f_11eb_8408_f45c89cb0e03row6_col1\" class=\"data row6 col1\" >38</td>\n",
       "            </tr>\n",
       "            <tr>\n",
       "                        <th id=\"T_8e06a566_7c0f_11eb_8408_f45c89cb0e03level0_row7\" class=\"row_heading level0 row7\" >7</th>\n",
       "                        <td id=\"T_8e06a566_7c0f_11eb_8408_f45c89cb0e03row7_col0\" class=\"data row7 col0\" >Categorical Features</td>\n",
       "                        <td id=\"T_8e06a566_7c0f_11eb_8408_f45c89cb0e03row7_col1\" class=\"data row7 col1\" >11</td>\n",
       "            </tr>\n",
       "            <tr>\n",
       "                        <th id=\"T_8e06a566_7c0f_11eb_8408_f45c89cb0e03level0_row8\" class=\"row_heading level0 row8\" >8</th>\n",
       "                        <td id=\"T_8e06a566_7c0f_11eb_8408_f45c89cb0e03row8_col0\" class=\"data row8 col0\" >Ordinal Features</td>\n",
       "                        <td id=\"T_8e06a566_7c0f_11eb_8408_f45c89cb0e03row8_col1\" class=\"data row8 col1\" >False</td>\n",
       "            </tr>\n",
       "            <tr>\n",
       "                        <th id=\"T_8e06a566_7c0f_11eb_8408_f45c89cb0e03level0_row9\" class=\"row_heading level0 row9\" >9</th>\n",
       "                        <td id=\"T_8e06a566_7c0f_11eb_8408_f45c89cb0e03row9_col0\" class=\"data row9 col0\" >High Cardinality Features</td>\n",
       "                        <td id=\"T_8e06a566_7c0f_11eb_8408_f45c89cb0e03row9_col1\" class=\"data row9 col1\" >False</td>\n",
       "            </tr>\n",
       "            <tr>\n",
       "                        <th id=\"T_8e06a566_7c0f_11eb_8408_f45c89cb0e03level0_row10\" class=\"row_heading level0 row10\" >10</th>\n",
       "                        <td id=\"T_8e06a566_7c0f_11eb_8408_f45c89cb0e03row10_col0\" class=\"data row10 col0\" >High Cardinality Method</td>\n",
       "                        <td id=\"T_8e06a566_7c0f_11eb_8408_f45c89cb0e03row10_col1\" class=\"data row10 col1\" >None</td>\n",
       "            </tr>\n",
       "            <tr>\n",
       "                        <th id=\"T_8e06a566_7c0f_11eb_8408_f45c89cb0e03level0_row11\" class=\"row_heading level0 row11\" >11</th>\n",
       "                        <td id=\"T_8e06a566_7c0f_11eb_8408_f45c89cb0e03row11_col0\" class=\"data row11 col0\" >Transformed Train Set</td>\n",
       "                        <td id=\"T_8e06a566_7c0f_11eb_8408_f45c89cb0e03row11_col1\" class=\"data row11 col1\" >(3786, 134)</td>\n",
       "            </tr>\n",
       "            <tr>\n",
       "                        <th id=\"T_8e06a566_7c0f_11eb_8408_f45c89cb0e03level0_row12\" class=\"row_heading level0 row12\" >12</th>\n",
       "                        <td id=\"T_8e06a566_7c0f_11eb_8408_f45c89cb0e03row12_col0\" class=\"data row12 col0\" >Transformed Test Set</td>\n",
       "                        <td id=\"T_8e06a566_7c0f_11eb_8408_f45c89cb0e03row12_col1\" class=\"data row12 col1\" >(1624, 134)</td>\n",
       "            </tr>\n",
       "            <tr>\n",
       "                        <th id=\"T_8e06a566_7c0f_11eb_8408_f45c89cb0e03level0_row13\" class=\"row_heading level0 row13\" >13</th>\n",
       "                        <td id=\"T_8e06a566_7c0f_11eb_8408_f45c89cb0e03row13_col0\" class=\"data row13 col0\" >Shuffle Train-Test</td>\n",
       "                        <td id=\"T_8e06a566_7c0f_11eb_8408_f45c89cb0e03row13_col1\" class=\"data row13 col1\" >True</td>\n",
       "            </tr>\n",
       "            <tr>\n",
       "                        <th id=\"T_8e06a566_7c0f_11eb_8408_f45c89cb0e03level0_row14\" class=\"row_heading level0 row14\" >14</th>\n",
       "                        <td id=\"T_8e06a566_7c0f_11eb_8408_f45c89cb0e03row14_col0\" class=\"data row14 col0\" >Stratify Train-Test</td>\n",
       "                        <td id=\"T_8e06a566_7c0f_11eb_8408_f45c89cb0e03row14_col1\" class=\"data row14 col1\" >False</td>\n",
       "            </tr>\n",
       "            <tr>\n",
       "                        <th id=\"T_8e06a566_7c0f_11eb_8408_f45c89cb0e03level0_row15\" class=\"row_heading level0 row15\" >15</th>\n",
       "                        <td id=\"T_8e06a566_7c0f_11eb_8408_f45c89cb0e03row15_col0\" class=\"data row15 col0\" >Fold Generator</td>\n",
       "                        <td id=\"T_8e06a566_7c0f_11eb_8408_f45c89cb0e03row15_col1\" class=\"data row15 col1\" >StratifiedKFold</td>\n",
       "            </tr>\n",
       "            <tr>\n",
       "                        <th id=\"T_8e06a566_7c0f_11eb_8408_f45c89cb0e03level0_row16\" class=\"row_heading level0 row16\" >16</th>\n",
       "                        <td id=\"T_8e06a566_7c0f_11eb_8408_f45c89cb0e03row16_col0\" class=\"data row16 col0\" >Fold Number</td>\n",
       "                        <td id=\"T_8e06a566_7c0f_11eb_8408_f45c89cb0e03row16_col1\" class=\"data row16 col1\" >10</td>\n",
       "            </tr>\n",
       "            <tr>\n",
       "                        <th id=\"T_8e06a566_7c0f_11eb_8408_f45c89cb0e03level0_row17\" class=\"row_heading level0 row17\" >17</th>\n",
       "                        <td id=\"T_8e06a566_7c0f_11eb_8408_f45c89cb0e03row17_col0\" class=\"data row17 col0\" >CPU Jobs</td>\n",
       "                        <td id=\"T_8e06a566_7c0f_11eb_8408_f45c89cb0e03row17_col1\" class=\"data row17 col1\" >-1</td>\n",
       "            </tr>\n",
       "            <tr>\n",
       "                        <th id=\"T_8e06a566_7c0f_11eb_8408_f45c89cb0e03level0_row18\" class=\"row_heading level0 row18\" >18</th>\n",
       "                        <td id=\"T_8e06a566_7c0f_11eb_8408_f45c89cb0e03row18_col0\" class=\"data row18 col0\" >Use GPU</td>\n",
       "                        <td id=\"T_8e06a566_7c0f_11eb_8408_f45c89cb0e03row18_col1\" class=\"data row18 col1\" >False</td>\n",
       "            </tr>\n",
       "            <tr>\n",
       "                        <th id=\"T_8e06a566_7c0f_11eb_8408_f45c89cb0e03level0_row19\" class=\"row_heading level0 row19\" >19</th>\n",
       "                        <td id=\"T_8e06a566_7c0f_11eb_8408_f45c89cb0e03row19_col0\" class=\"data row19 col0\" >Log Experiment</td>\n",
       "                        <td id=\"T_8e06a566_7c0f_11eb_8408_f45c89cb0e03row19_col1\" class=\"data row19 col1\" >False</td>\n",
       "            </tr>\n",
       "            <tr>\n",
       "                        <th id=\"T_8e06a566_7c0f_11eb_8408_f45c89cb0e03level0_row20\" class=\"row_heading level0 row20\" >20</th>\n",
       "                        <td id=\"T_8e06a566_7c0f_11eb_8408_f45c89cb0e03row20_col0\" class=\"data row20 col0\" >Experiment Name</td>\n",
       "                        <td id=\"T_8e06a566_7c0f_11eb_8408_f45c89cb0e03row20_col1\" class=\"data row20 col1\" >clf-default-name</td>\n",
       "            </tr>\n",
       "            <tr>\n",
       "                        <th id=\"T_8e06a566_7c0f_11eb_8408_f45c89cb0e03level0_row21\" class=\"row_heading level0 row21\" >21</th>\n",
       "                        <td id=\"T_8e06a566_7c0f_11eb_8408_f45c89cb0e03row21_col0\" class=\"data row21 col0\" >USI</td>\n",
       "                        <td id=\"T_8e06a566_7c0f_11eb_8408_f45c89cb0e03row21_col1\" class=\"data row21 col1\" >26e7</td>\n",
       "            </tr>\n",
       "            <tr>\n",
       "                        <th id=\"T_8e06a566_7c0f_11eb_8408_f45c89cb0e03level0_row22\" class=\"row_heading level0 row22\" >22</th>\n",
       "                        <td id=\"T_8e06a566_7c0f_11eb_8408_f45c89cb0e03row22_col0\" class=\"data row22 col0\" >Imputation Type</td>\n",
       "                        <td id=\"T_8e06a566_7c0f_11eb_8408_f45c89cb0e03row22_col1\" class=\"data row22 col1\" >simple</td>\n",
       "            </tr>\n",
       "            <tr>\n",
       "                        <th id=\"T_8e06a566_7c0f_11eb_8408_f45c89cb0e03level0_row23\" class=\"row_heading level0 row23\" >23</th>\n",
       "                        <td id=\"T_8e06a566_7c0f_11eb_8408_f45c89cb0e03row23_col0\" class=\"data row23 col0\" >Iterative Imputation Iteration</td>\n",
       "                        <td id=\"T_8e06a566_7c0f_11eb_8408_f45c89cb0e03row23_col1\" class=\"data row23 col1\" >None</td>\n",
       "            </tr>\n",
       "            <tr>\n",
       "                        <th id=\"T_8e06a566_7c0f_11eb_8408_f45c89cb0e03level0_row24\" class=\"row_heading level0 row24\" >24</th>\n",
       "                        <td id=\"T_8e06a566_7c0f_11eb_8408_f45c89cb0e03row24_col0\" class=\"data row24 col0\" >Numeric Imputer</td>\n",
       "                        <td id=\"T_8e06a566_7c0f_11eb_8408_f45c89cb0e03row24_col1\" class=\"data row24 col1\" >mean</td>\n",
       "            </tr>\n",
       "            <tr>\n",
       "                        <th id=\"T_8e06a566_7c0f_11eb_8408_f45c89cb0e03level0_row25\" class=\"row_heading level0 row25\" >25</th>\n",
       "                        <td id=\"T_8e06a566_7c0f_11eb_8408_f45c89cb0e03row25_col0\" class=\"data row25 col0\" >Iterative Imputation Numeric Model</td>\n",
       "                        <td id=\"T_8e06a566_7c0f_11eb_8408_f45c89cb0e03row25_col1\" class=\"data row25 col1\" >None</td>\n",
       "            </tr>\n",
       "            <tr>\n",
       "                        <th id=\"T_8e06a566_7c0f_11eb_8408_f45c89cb0e03level0_row26\" class=\"row_heading level0 row26\" >26</th>\n",
       "                        <td id=\"T_8e06a566_7c0f_11eb_8408_f45c89cb0e03row26_col0\" class=\"data row26 col0\" >Categorical Imputer</td>\n",
       "                        <td id=\"T_8e06a566_7c0f_11eb_8408_f45c89cb0e03row26_col1\" class=\"data row26 col1\" >constant</td>\n",
       "            </tr>\n",
       "            <tr>\n",
       "                        <th id=\"T_8e06a566_7c0f_11eb_8408_f45c89cb0e03level0_row27\" class=\"row_heading level0 row27\" >27</th>\n",
       "                        <td id=\"T_8e06a566_7c0f_11eb_8408_f45c89cb0e03row27_col0\" class=\"data row27 col0\" >Iterative Imputation Categorical Model</td>\n",
       "                        <td id=\"T_8e06a566_7c0f_11eb_8408_f45c89cb0e03row27_col1\" class=\"data row27 col1\" >None</td>\n",
       "            </tr>\n",
       "            <tr>\n",
       "                        <th id=\"T_8e06a566_7c0f_11eb_8408_f45c89cb0e03level0_row28\" class=\"row_heading level0 row28\" >28</th>\n",
       "                        <td id=\"T_8e06a566_7c0f_11eb_8408_f45c89cb0e03row28_col0\" class=\"data row28 col0\" >Unknown Categoricals Handling</td>\n",
       "                        <td id=\"T_8e06a566_7c0f_11eb_8408_f45c89cb0e03row28_col1\" class=\"data row28 col1\" >least_frequent</td>\n",
       "            </tr>\n",
       "            <tr>\n",
       "                        <th id=\"T_8e06a566_7c0f_11eb_8408_f45c89cb0e03level0_row29\" class=\"row_heading level0 row29\" >29</th>\n",
       "                        <td id=\"T_8e06a566_7c0f_11eb_8408_f45c89cb0e03row29_col0\" class=\"data row29 col0\" >Normalize</td>\n",
       "                        <td id=\"T_8e06a566_7c0f_11eb_8408_f45c89cb0e03row29_col1\" class=\"data row29 col1\" >False</td>\n",
       "            </tr>\n",
       "            <tr>\n",
       "                        <th id=\"T_8e06a566_7c0f_11eb_8408_f45c89cb0e03level0_row30\" class=\"row_heading level0 row30\" >30</th>\n",
       "                        <td id=\"T_8e06a566_7c0f_11eb_8408_f45c89cb0e03row30_col0\" class=\"data row30 col0\" >Normalize Method</td>\n",
       "                        <td id=\"T_8e06a566_7c0f_11eb_8408_f45c89cb0e03row30_col1\" class=\"data row30 col1\" >None</td>\n",
       "            </tr>\n",
       "            <tr>\n",
       "                        <th id=\"T_8e06a566_7c0f_11eb_8408_f45c89cb0e03level0_row31\" class=\"row_heading level0 row31\" >31</th>\n",
       "                        <td id=\"T_8e06a566_7c0f_11eb_8408_f45c89cb0e03row31_col0\" class=\"data row31 col0\" >Transformation</td>\n",
       "                        <td id=\"T_8e06a566_7c0f_11eb_8408_f45c89cb0e03row31_col1\" class=\"data row31 col1\" >False</td>\n",
       "            </tr>\n",
       "            <tr>\n",
       "                        <th id=\"T_8e06a566_7c0f_11eb_8408_f45c89cb0e03level0_row32\" class=\"row_heading level0 row32\" >32</th>\n",
       "                        <td id=\"T_8e06a566_7c0f_11eb_8408_f45c89cb0e03row32_col0\" class=\"data row32 col0\" >Transformation Method</td>\n",
       "                        <td id=\"T_8e06a566_7c0f_11eb_8408_f45c89cb0e03row32_col1\" class=\"data row32 col1\" >None</td>\n",
       "            </tr>\n",
       "            <tr>\n",
       "                        <th id=\"T_8e06a566_7c0f_11eb_8408_f45c89cb0e03level0_row33\" class=\"row_heading level0 row33\" >33</th>\n",
       "                        <td id=\"T_8e06a566_7c0f_11eb_8408_f45c89cb0e03row33_col0\" class=\"data row33 col0\" >PCA</td>\n",
       "                        <td id=\"T_8e06a566_7c0f_11eb_8408_f45c89cb0e03row33_col1\" class=\"data row33 col1\" >False</td>\n",
       "            </tr>\n",
       "            <tr>\n",
       "                        <th id=\"T_8e06a566_7c0f_11eb_8408_f45c89cb0e03level0_row34\" class=\"row_heading level0 row34\" >34</th>\n",
       "                        <td id=\"T_8e06a566_7c0f_11eb_8408_f45c89cb0e03row34_col0\" class=\"data row34 col0\" >PCA Method</td>\n",
       "                        <td id=\"T_8e06a566_7c0f_11eb_8408_f45c89cb0e03row34_col1\" class=\"data row34 col1\" >None</td>\n",
       "            </tr>\n",
       "            <tr>\n",
       "                        <th id=\"T_8e06a566_7c0f_11eb_8408_f45c89cb0e03level0_row35\" class=\"row_heading level0 row35\" >35</th>\n",
       "                        <td id=\"T_8e06a566_7c0f_11eb_8408_f45c89cb0e03row35_col0\" class=\"data row35 col0\" >PCA Components</td>\n",
       "                        <td id=\"T_8e06a566_7c0f_11eb_8408_f45c89cb0e03row35_col1\" class=\"data row35 col1\" >None</td>\n",
       "            </tr>\n",
       "            <tr>\n",
       "                        <th id=\"T_8e06a566_7c0f_11eb_8408_f45c89cb0e03level0_row36\" class=\"row_heading level0 row36\" >36</th>\n",
       "                        <td id=\"T_8e06a566_7c0f_11eb_8408_f45c89cb0e03row36_col0\" class=\"data row36 col0\" >Ignore Low Variance</td>\n",
       "                        <td id=\"T_8e06a566_7c0f_11eb_8408_f45c89cb0e03row36_col1\" class=\"data row36 col1\" >False</td>\n",
       "            </tr>\n",
       "            <tr>\n",
       "                        <th id=\"T_8e06a566_7c0f_11eb_8408_f45c89cb0e03level0_row37\" class=\"row_heading level0 row37\" >37</th>\n",
       "                        <td id=\"T_8e06a566_7c0f_11eb_8408_f45c89cb0e03row37_col0\" class=\"data row37 col0\" >Combine Rare Levels</td>\n",
       "                        <td id=\"T_8e06a566_7c0f_11eb_8408_f45c89cb0e03row37_col1\" class=\"data row37 col1\" >False</td>\n",
       "            </tr>\n",
       "            <tr>\n",
       "                        <th id=\"T_8e06a566_7c0f_11eb_8408_f45c89cb0e03level0_row38\" class=\"row_heading level0 row38\" >38</th>\n",
       "                        <td id=\"T_8e06a566_7c0f_11eb_8408_f45c89cb0e03row38_col0\" class=\"data row38 col0\" >Rare Level Threshold</td>\n",
       "                        <td id=\"T_8e06a566_7c0f_11eb_8408_f45c89cb0e03row38_col1\" class=\"data row38 col1\" >None</td>\n",
       "            </tr>\n",
       "            <tr>\n",
       "                        <th id=\"T_8e06a566_7c0f_11eb_8408_f45c89cb0e03level0_row39\" class=\"row_heading level0 row39\" >39</th>\n",
       "                        <td id=\"T_8e06a566_7c0f_11eb_8408_f45c89cb0e03row39_col0\" class=\"data row39 col0\" >Numeric Binning</td>\n",
       "                        <td id=\"T_8e06a566_7c0f_11eb_8408_f45c89cb0e03row39_col1\" class=\"data row39 col1\" >False</td>\n",
       "            </tr>\n",
       "            <tr>\n",
       "                        <th id=\"T_8e06a566_7c0f_11eb_8408_f45c89cb0e03level0_row40\" class=\"row_heading level0 row40\" >40</th>\n",
       "                        <td id=\"T_8e06a566_7c0f_11eb_8408_f45c89cb0e03row40_col0\" class=\"data row40 col0\" >Remove Outliers</td>\n",
       "                        <td id=\"T_8e06a566_7c0f_11eb_8408_f45c89cb0e03row40_col1\" class=\"data row40 col1\" >False</td>\n",
       "            </tr>\n",
       "            <tr>\n",
       "                        <th id=\"T_8e06a566_7c0f_11eb_8408_f45c89cb0e03level0_row41\" class=\"row_heading level0 row41\" >41</th>\n",
       "                        <td id=\"T_8e06a566_7c0f_11eb_8408_f45c89cb0e03row41_col0\" class=\"data row41 col0\" >Outliers Threshold</td>\n",
       "                        <td id=\"T_8e06a566_7c0f_11eb_8408_f45c89cb0e03row41_col1\" class=\"data row41 col1\" >None</td>\n",
       "            </tr>\n",
       "            <tr>\n",
       "                        <th id=\"T_8e06a566_7c0f_11eb_8408_f45c89cb0e03level0_row42\" class=\"row_heading level0 row42\" >42</th>\n",
       "                        <td id=\"T_8e06a566_7c0f_11eb_8408_f45c89cb0e03row42_col0\" class=\"data row42 col0\" >Remove Multicollinearity</td>\n",
       "                        <td id=\"T_8e06a566_7c0f_11eb_8408_f45c89cb0e03row42_col1\" class=\"data row42 col1\" >False</td>\n",
       "            </tr>\n",
       "            <tr>\n",
       "                        <th id=\"T_8e06a566_7c0f_11eb_8408_f45c89cb0e03level0_row43\" class=\"row_heading level0 row43\" >43</th>\n",
       "                        <td id=\"T_8e06a566_7c0f_11eb_8408_f45c89cb0e03row43_col0\" class=\"data row43 col0\" >Multicollinearity Threshold</td>\n",
       "                        <td id=\"T_8e06a566_7c0f_11eb_8408_f45c89cb0e03row43_col1\" class=\"data row43 col1\" >None</td>\n",
       "            </tr>\n",
       "            <tr>\n",
       "                        <th id=\"T_8e06a566_7c0f_11eb_8408_f45c89cb0e03level0_row44\" class=\"row_heading level0 row44\" >44</th>\n",
       "                        <td id=\"T_8e06a566_7c0f_11eb_8408_f45c89cb0e03row44_col0\" class=\"data row44 col0\" >Clustering</td>\n",
       "                        <td id=\"T_8e06a566_7c0f_11eb_8408_f45c89cb0e03row44_col1\" class=\"data row44 col1\" >False</td>\n",
       "            </tr>\n",
       "            <tr>\n",
       "                        <th id=\"T_8e06a566_7c0f_11eb_8408_f45c89cb0e03level0_row45\" class=\"row_heading level0 row45\" >45</th>\n",
       "                        <td id=\"T_8e06a566_7c0f_11eb_8408_f45c89cb0e03row45_col0\" class=\"data row45 col0\" >Clustering Iteration</td>\n",
       "                        <td id=\"T_8e06a566_7c0f_11eb_8408_f45c89cb0e03row45_col1\" class=\"data row45 col1\" >None</td>\n",
       "            </tr>\n",
       "            <tr>\n",
       "                        <th id=\"T_8e06a566_7c0f_11eb_8408_f45c89cb0e03level0_row46\" class=\"row_heading level0 row46\" >46</th>\n",
       "                        <td id=\"T_8e06a566_7c0f_11eb_8408_f45c89cb0e03row46_col0\" class=\"data row46 col0\" >Polynomial Features</td>\n",
       "                        <td id=\"T_8e06a566_7c0f_11eb_8408_f45c89cb0e03row46_col1\" class=\"data row46 col1\" >False</td>\n",
       "            </tr>\n",
       "            <tr>\n",
       "                        <th id=\"T_8e06a566_7c0f_11eb_8408_f45c89cb0e03level0_row47\" class=\"row_heading level0 row47\" >47</th>\n",
       "                        <td id=\"T_8e06a566_7c0f_11eb_8408_f45c89cb0e03row47_col0\" class=\"data row47 col0\" >Polynomial Degree</td>\n",
       "                        <td id=\"T_8e06a566_7c0f_11eb_8408_f45c89cb0e03row47_col1\" class=\"data row47 col1\" >None</td>\n",
       "            </tr>\n",
       "            <tr>\n",
       "                        <th id=\"T_8e06a566_7c0f_11eb_8408_f45c89cb0e03level0_row48\" class=\"row_heading level0 row48\" >48</th>\n",
       "                        <td id=\"T_8e06a566_7c0f_11eb_8408_f45c89cb0e03row48_col0\" class=\"data row48 col0\" >Trignometry Features</td>\n",
       "                        <td id=\"T_8e06a566_7c0f_11eb_8408_f45c89cb0e03row48_col1\" class=\"data row48 col1\" >False</td>\n",
       "            </tr>\n",
       "            <tr>\n",
       "                        <th id=\"T_8e06a566_7c0f_11eb_8408_f45c89cb0e03level0_row49\" class=\"row_heading level0 row49\" >49</th>\n",
       "                        <td id=\"T_8e06a566_7c0f_11eb_8408_f45c89cb0e03row49_col0\" class=\"data row49 col0\" >Polynomial Threshold</td>\n",
       "                        <td id=\"T_8e06a566_7c0f_11eb_8408_f45c89cb0e03row49_col1\" class=\"data row49 col1\" >None</td>\n",
       "            </tr>\n",
       "            <tr>\n",
       "                        <th id=\"T_8e06a566_7c0f_11eb_8408_f45c89cb0e03level0_row50\" class=\"row_heading level0 row50\" >50</th>\n",
       "                        <td id=\"T_8e06a566_7c0f_11eb_8408_f45c89cb0e03row50_col0\" class=\"data row50 col0\" >Group Features</td>\n",
       "                        <td id=\"T_8e06a566_7c0f_11eb_8408_f45c89cb0e03row50_col1\" class=\"data row50 col1\" >False</td>\n",
       "            </tr>\n",
       "            <tr>\n",
       "                        <th id=\"T_8e06a566_7c0f_11eb_8408_f45c89cb0e03level0_row51\" class=\"row_heading level0 row51\" >51</th>\n",
       "                        <td id=\"T_8e06a566_7c0f_11eb_8408_f45c89cb0e03row51_col0\" class=\"data row51 col0\" >Feature Selection</td>\n",
       "                        <td id=\"T_8e06a566_7c0f_11eb_8408_f45c89cb0e03row51_col1\" class=\"data row51 col1\" >False</td>\n",
       "            </tr>\n",
       "            <tr>\n",
       "                        <th id=\"T_8e06a566_7c0f_11eb_8408_f45c89cb0e03level0_row52\" class=\"row_heading level0 row52\" >52</th>\n",
       "                        <td id=\"T_8e06a566_7c0f_11eb_8408_f45c89cb0e03row52_col0\" class=\"data row52 col0\" >Features Selection Threshold</td>\n",
       "                        <td id=\"T_8e06a566_7c0f_11eb_8408_f45c89cb0e03row52_col1\" class=\"data row52 col1\" >None</td>\n",
       "            </tr>\n",
       "            <tr>\n",
       "                        <th id=\"T_8e06a566_7c0f_11eb_8408_f45c89cb0e03level0_row53\" class=\"row_heading level0 row53\" >53</th>\n",
       "                        <td id=\"T_8e06a566_7c0f_11eb_8408_f45c89cb0e03row53_col0\" class=\"data row53 col0\" >Feature Interaction</td>\n",
       "                        <td id=\"T_8e06a566_7c0f_11eb_8408_f45c89cb0e03row53_col1\" class=\"data row53 col1\" >False</td>\n",
       "            </tr>\n",
       "            <tr>\n",
       "                        <th id=\"T_8e06a566_7c0f_11eb_8408_f45c89cb0e03level0_row54\" class=\"row_heading level0 row54\" >54</th>\n",
       "                        <td id=\"T_8e06a566_7c0f_11eb_8408_f45c89cb0e03row54_col0\" class=\"data row54 col0\" >Feature Ratio</td>\n",
       "                        <td id=\"T_8e06a566_7c0f_11eb_8408_f45c89cb0e03row54_col1\" class=\"data row54 col1\" >False</td>\n",
       "            </tr>\n",
       "            <tr>\n",
       "                        <th id=\"T_8e06a566_7c0f_11eb_8408_f45c89cb0e03level0_row55\" class=\"row_heading level0 row55\" >55</th>\n",
       "                        <td id=\"T_8e06a566_7c0f_11eb_8408_f45c89cb0e03row55_col0\" class=\"data row55 col0\" >Interaction Threshold</td>\n",
       "                        <td id=\"T_8e06a566_7c0f_11eb_8408_f45c89cb0e03row55_col1\" class=\"data row55 col1\" >None</td>\n",
       "            </tr>\n",
       "            <tr>\n",
       "                        <th id=\"T_8e06a566_7c0f_11eb_8408_f45c89cb0e03level0_row56\" class=\"row_heading level0 row56\" >56</th>\n",
       "                        <td id=\"T_8e06a566_7c0f_11eb_8408_f45c89cb0e03row56_col0\" class=\"data row56 col0\" >Fix Imbalance</td>\n",
       "                        <td id=\"T_8e06a566_7c0f_11eb_8408_f45c89cb0e03row56_col1\" class=\"data row56 col1\" >False</td>\n",
       "            </tr>\n",
       "            <tr>\n",
       "                        <th id=\"T_8e06a566_7c0f_11eb_8408_f45c89cb0e03level0_row57\" class=\"row_heading level0 row57\" >57</th>\n",
       "                        <td id=\"T_8e06a566_7c0f_11eb_8408_f45c89cb0e03row57_col0\" class=\"data row57 col0\" >Fix Imbalance Method</td>\n",
       "                        <td id=\"T_8e06a566_7c0f_11eb_8408_f45c89cb0e03row57_col1\" class=\"data row57 col1\" >SMOTE</td>\n",
       "            </tr>\n",
       "    </tbody></table>"
      ],
      "text/plain": [
       "<pandas.io.formats.style.Styler at 0x7fd734a4fe10>"
      ]
     },
     "metadata": {},
     "output_type": "display_data"
    }
   ],
   "source": [
    "clf1 = setup(data = py_combine, target = 'PotentialFraud')"
   ]
  },
  {
   "cell_type": "code",
   "execution_count": 133,
   "metadata": {},
   "outputs": [
    {
     "data": {
      "text/plain": [
       "[GradientBoostingClassifier(ccp_alpha=0.0, criterion='friedman_mse', init=None,\n",
       "                            learning_rate=0.1, loss='deviance', max_depth=3,\n",
       "                            max_features=None, max_leaf_nodes=None,\n",
       "                            min_impurity_decrease=0.0, min_impurity_split=None,\n",
       "                            min_samples_leaf=1, min_samples_split=2,\n",
       "                            min_weight_fraction_leaf=0.0, n_estimators=100,\n",
       "                            n_iter_no_change=None, presort='deprecated',\n",
       "                            random_state=3804, subsample=1.0, tol=0.0001,\n",
       "                            validation_fraction=0.1, verbose=0,\n",
       "                            warm_start=False),\n",
       " <catboost.core.CatBoostClassifier at 0x7fbfb21d1250>,\n",
       " AdaBoostClassifier(algorithm='SAMME.R', base_estimator=None, learning_rate=1.0,\n",
       "                    n_estimators=50, random_state=3804),\n",
       " LGBMClassifier(boosting_type='gbdt', class_weight=None, colsample_bytree=1.0,\n",
       "                importance_type='split', learning_rate=0.1, max_depth=-1,\n",
       "                min_child_samples=20, min_child_weight=0.001, min_split_gain=0.0,\n",
       "                n_estimators=100, n_jobs=-1, num_leaves=31, objective=None,\n",
       "                random_state=3804, reg_alpha=0.0, reg_lambda=0.0, silent=True,\n",
       "                subsample=1.0, subsample_for_bin=200000, subsample_freq=0),\n",
       " XGBClassifier(base_score=0.5, booster='gbtree', colsample_bylevel=1,\n",
       "               colsample_bynode=1, colsample_bytree=1, gamma=0, gpu_id=-1,\n",
       "               importance_type='gain', interaction_constraints='',\n",
       "               learning_rate=0.300000012, max_delta_step=0, max_depth=6,\n",
       "               min_child_weight=1, missing=nan, monotone_constraints='()',\n",
       "               n_estimators=100, n_jobs=-1, num_parallel_tree=1,\n",
       "               objective='binary:logistic', random_state=3804, reg_alpha=0,\n",
       "               reg_lambda=1, scale_pos_weight=1, subsample=1, tree_method='auto',\n",
       "               use_label_encoder=True, validate_parameters=1, verbosity=0),\n",
       " RandomForestClassifier(bootstrap=True, ccp_alpha=0.0, class_weight=None,\n",
       "                        criterion='gini', max_depth=None, max_features='auto',\n",
       "                        max_leaf_nodes=None, max_samples=None,\n",
       "                        min_impurity_decrease=0.0, min_impurity_split=None,\n",
       "                        min_samples_leaf=1, min_samples_split=2,\n",
       "                        min_weight_fraction_leaf=0.0, n_estimators=100,\n",
       "                        n_jobs=-1, oob_score=False, random_state=3804, verbose=0,\n",
       "                        warm_start=False),\n",
       " LogisticRegression(C=1.0, class_weight=None, dual=False, fit_intercept=True,\n",
       "                    intercept_scaling=1, l1_ratio=None, max_iter=1000,\n",
       "                    multi_class='auto', n_jobs=None, penalty='l2',\n",
       "                    random_state=3804, solver='lbfgs', tol=0.0001, verbose=0,\n",
       "                    warm_start=False),\n",
       " LinearDiscriminantAnalysis(n_components=None, priors=None, shrinkage=None,\n",
       "                            solver='svd', store_covariance=False, tol=0.0001),\n",
       " ExtraTreesClassifier(bootstrap=False, ccp_alpha=0.0, class_weight=None,\n",
       "                      criterion='gini', max_depth=None, max_features='auto',\n",
       "                      max_leaf_nodes=None, max_samples=None,\n",
       "                      min_impurity_decrease=0.0, min_impurity_split=None,\n",
       "                      min_samples_leaf=1, min_samples_split=2,\n",
       "                      min_weight_fraction_leaf=0.0, n_estimators=100, n_jobs=-1,\n",
       "                      oob_score=False, random_state=3804, verbose=0,\n",
       "                      warm_start=False),\n",
       " GaussianNB(priors=None, var_smoothing=1e-09)]"
      ]
     },
     "execution_count": 133,
     "metadata": {},
     "output_type": "execute_result"
    }
   ],
   "source": [
    "compare_models(verbose=False, turbo=False, n_select=10, sort='F1')"
   ]
  },
  {
   "cell_type": "markdown",
   "metadata": {},
   "source": [
    "# Compare Models\n",
    "* https://towardsdatascience.com/quickly-test-multiple-models-a98477476f0\n",
    "* Reasons for choosing macro: https://datascience.stackexchange.com/questions/36862/macro-or-micro-average-for-imbalanced-class-problems"
   ]
  },
  {
   "cell_type": "code",
   "execution_count": 66,
   "metadata": {},
   "outputs": [],
   "source": [
    "def run_exps(X_train: pd.DataFrame , y_train: pd.DataFrame, X_test: pd.DataFrame, y_test: pd.DataFrame) -> pd.DataFrame:\n",
    "    '''\n",
    "    Lightweight script to test many models and find winners\n",
    "    :param X_train: training split\n",
    "    :param y_train: training target vector\n",
    "    :param X_test: test split\n",
    "    :param y_test: test target vector\n",
    "    :return: DataFrame of predictions\n",
    "    '''\n",
    "    \n",
    "    dfs = []\n",
    "    models = [\n",
    "              ('LogReg', LogisticRegression()), \n",
    "              ('RF', RandomForestClassifier()),\n",
    "              ('SVM', SVC()), \n",
    "              ('XGB', XGBClassifier()),\n",
    "              ('GBC', GradientBoostingClassifier()),\n",
    "              ('KNN', KNeighborsClassifier())\n",
    "            ]\n",
    "    results = []\n",
    "    names = []\n",
    "    scoring = ['f1_macro','precision_macro','recall_macro']\n",
    "    target_names = ['no fraud', 'fraud']\n",
    "    \n",
    "    for name, model in models:\n",
    "        \n",
    "        kfold = model_selection.KFold(n_splits=5, shuffle=True, random_state=90210)\n",
    "        cv_results = model_selection.cross_validate(model, X_train, y_train, cv=kfold, scoring=scoring)\n",
    "        clf = model.fit(X_train, y_train)\n",
    "        y_pred = clf.predict(X_test)\n",
    "        print(name)\n",
    "        print(classification_report(y_test, y_pred, target_names=target_names))\n",
    "        results.append(cv_results)\n",
    "        names.append(name)\n",
    "        this_df = pd.DataFrame(cv_results)\n",
    "        this_df['model'] = name\n",
    "        dfs.append(this_df)\n",
    "        \n",
    "    final = pd.concat(dfs, ignore_index=True)\n",
    "    return final"
   ]
  },
  {
   "cell_type": "code",
   "execution_count": 67,
   "metadata": {},
   "outputs": [
    {
     "name": "stderr",
     "output_type": "stream",
     "text": [
      "/Users/thisbekristin/opt/miniconda3/envs/myenv/lib/python3.7/site-packages/sklearn/linear_model/_logistic.py:764: ConvergenceWarning: lbfgs failed to converge (status=1):\n",
      "STOP: TOTAL NO. of ITERATIONS REACHED LIMIT.\n",
      "\n",
      "Increase the number of iterations (max_iter) or scale the data as shown in:\n",
      "    https://scikit-learn.org/stable/modules/preprocessing.html\n",
      "Please also refer to the documentation for alternative solver options:\n",
      "    https://scikit-learn.org/stable/modules/linear_model.html#logistic-regression\n",
      "  extra_warning_msg=_LOGISTIC_SOLVER_CONVERGENCE_MSG)\n",
      "/Users/thisbekristin/opt/miniconda3/envs/myenv/lib/python3.7/site-packages/sklearn/linear_model/_logistic.py:764: ConvergenceWarning: lbfgs failed to converge (status=1):\n",
      "STOP: TOTAL NO. of ITERATIONS REACHED LIMIT.\n",
      "\n",
      "Increase the number of iterations (max_iter) or scale the data as shown in:\n",
      "    https://scikit-learn.org/stable/modules/preprocessing.html\n",
      "Please also refer to the documentation for alternative solver options:\n",
      "    https://scikit-learn.org/stable/modules/linear_model.html#logistic-regression\n",
      "  extra_warning_msg=_LOGISTIC_SOLVER_CONVERGENCE_MSG)\n",
      "/Users/thisbekristin/opt/miniconda3/envs/myenv/lib/python3.7/site-packages/sklearn/linear_model/_logistic.py:764: ConvergenceWarning: lbfgs failed to converge (status=1):\n",
      "STOP: TOTAL NO. of ITERATIONS REACHED LIMIT.\n",
      "\n",
      "Increase the number of iterations (max_iter) or scale the data as shown in:\n",
      "    https://scikit-learn.org/stable/modules/preprocessing.html\n",
      "Please also refer to the documentation for alternative solver options:\n",
      "    https://scikit-learn.org/stable/modules/linear_model.html#logistic-regression\n",
      "  extra_warning_msg=_LOGISTIC_SOLVER_CONVERGENCE_MSG)\n",
      "/Users/thisbekristin/opt/miniconda3/envs/myenv/lib/python3.7/site-packages/sklearn/linear_model/_logistic.py:764: ConvergenceWarning: lbfgs failed to converge (status=1):\n",
      "STOP: TOTAL NO. of ITERATIONS REACHED LIMIT.\n",
      "\n",
      "Increase the number of iterations (max_iter) or scale the data as shown in:\n",
      "    https://scikit-learn.org/stable/modules/preprocessing.html\n",
      "Please also refer to the documentation for alternative solver options:\n",
      "    https://scikit-learn.org/stable/modules/linear_model.html#logistic-regression\n",
      "  extra_warning_msg=_LOGISTIC_SOLVER_CONVERGENCE_MSG)\n",
      "/Users/thisbekristin/opt/miniconda3/envs/myenv/lib/python3.7/site-packages/sklearn/linear_model/_logistic.py:764: ConvergenceWarning: lbfgs failed to converge (status=1):\n",
      "STOP: TOTAL NO. of ITERATIONS REACHED LIMIT.\n",
      "\n",
      "Increase the number of iterations (max_iter) or scale the data as shown in:\n",
      "    https://scikit-learn.org/stable/modules/preprocessing.html\n",
      "Please also refer to the documentation for alternative solver options:\n",
      "    https://scikit-learn.org/stable/modules/linear_model.html#logistic-regression\n",
      "  extra_warning_msg=_LOGISTIC_SOLVER_CONVERGENCE_MSG)\n",
      "/Users/thisbekristin/opt/miniconda3/envs/myenv/lib/python3.7/site-packages/sklearn/linear_model/_logistic.py:764: ConvergenceWarning: lbfgs failed to converge (status=1):\n",
      "STOP: TOTAL NO. of ITERATIONS REACHED LIMIT.\n",
      "\n",
      "Increase the number of iterations (max_iter) or scale the data as shown in:\n",
      "    https://scikit-learn.org/stable/modules/preprocessing.html\n",
      "Please also refer to the documentation for alternative solver options:\n",
      "    https://scikit-learn.org/stable/modules/linear_model.html#logistic-regression\n",
      "  extra_warning_msg=_LOGISTIC_SOLVER_CONVERGENCE_MSG)\n"
     ]
    },
    {
     "name": "stdout",
     "output_type": "stream",
     "text": [
      "LogReg\n",
      "              precision    recall  f1-score   support\n",
      "\n",
      "    no fraud       0.95      0.98      0.97      1471\n",
      "       fraud       0.75      0.52      0.61       152\n",
      "\n",
      "    accuracy                           0.94      1623\n",
      "   macro avg       0.85      0.75      0.79      1623\n",
      "weighted avg       0.93      0.94      0.93      1623\n",
      "\n",
      "RF\n",
      "              precision    recall  f1-score   support\n",
      "\n",
      "    no fraud       0.95      0.98      0.96      1471\n",
      "       fraud       0.70      0.51      0.59       152\n",
      "\n",
      "    accuracy                           0.93      1623\n",
      "   macro avg       0.83      0.74      0.78      1623\n",
      "weighted avg       0.93      0.93      0.93      1623\n",
      "\n",
      "SVM\n",
      "              precision    recall  f1-score   support\n",
      "\n",
      "    no fraud       0.95      0.98      0.96      1471\n",
      "       fraud       0.73      0.48      0.58       152\n",
      "\n",
      "    accuracy                           0.93      1623\n",
      "   macro avg       0.84      0.73      0.77      1623\n",
      "weighted avg       0.93      0.93      0.93      1623\n",
      "\n",
      "[11:56:09] WARNING: /Users/runner/miniforge3/conda-bld/xgboost_1607604592557/work/src/learner.cc:1061: Starting in XGBoost 1.3.0, the default evaluation metric used with the objective 'binary:logistic' was changed from 'error' to 'logloss'. Explicitly set eval_metric if you'd like to restore the old behavior.\n"
     ]
    },
    {
     "name": "stderr",
     "output_type": "stream",
     "text": [
      "/Users/thisbekristin/opt/miniconda3/envs/myenv/lib/python3.7/site-packages/xgboost/sklearn.py:888: UserWarning: The use of label encoder in XGBClassifier is deprecated and will be removed in a future release. To remove this warning, do the following: 1) Pass option use_label_encoder=False when constructing XGBClassifier object; and 2) Encode your labels (y) as integers starting with 0, i.e. 0, 1, 2, ..., [num_class - 1].\n",
      "  warnings.warn(label_encoder_deprecation_msg, UserWarning)\n"
     ]
    },
    {
     "name": "stdout",
     "output_type": "stream",
     "text": [
      "[11:56:10] WARNING: /Users/runner/miniforge3/conda-bld/xgboost_1607604592557/work/src/learner.cc:1061: Starting in XGBoost 1.3.0, the default evaluation metric used with the objective 'binary:logistic' was changed from 'error' to 'logloss'. Explicitly set eval_metric if you'd like to restore the old behavior.\n",
      "[11:56:10] WARNING: /Users/runner/miniforge3/conda-bld/xgboost_1607604592557/work/src/learner.cc:1061: Starting in XGBoost 1.3.0, the default evaluation metric used with the objective 'binary:logistic' was changed from 'error' to 'logloss'. Explicitly set eval_metric if you'd like to restore the old behavior.\n",
      "[11:56:11] WARNING: /Users/runner/miniforge3/conda-bld/xgboost_1607604592557/work/src/learner.cc:1061: Starting in XGBoost 1.3.0, the default evaluation metric used with the objective 'binary:logistic' was changed from 'error' to 'logloss'. Explicitly set eval_metric if you'd like to restore the old behavior.\n",
      "[11:56:11] WARNING: /Users/runner/miniforge3/conda-bld/xgboost_1607604592557/work/src/learner.cc:1061: Starting in XGBoost 1.3.0, the default evaluation metric used with the objective 'binary:logistic' was changed from 'error' to 'logloss'. Explicitly set eval_metric if you'd like to restore the old behavior.\n",
      "[11:56:12] WARNING: /Users/runner/miniforge3/conda-bld/xgboost_1607604592557/work/src/learner.cc:1061: Starting in XGBoost 1.3.0, the default evaluation metric used with the objective 'binary:logistic' was changed from 'error' to 'logloss'. Explicitly set eval_metric if you'd like to restore the old behavior.\n",
      "XGB\n",
      "              precision    recall  f1-score   support\n",
      "\n",
      "    no fraud       0.95      0.98      0.97      1471\n",
      "       fraud       0.72      0.55      0.63       152\n",
      "\n",
      "    accuracy                           0.94      1623\n",
      "   macro avg       0.84      0.77      0.80      1623\n",
      "weighted avg       0.93      0.94      0.93      1623\n",
      "\n",
      "GBC\n",
      "              precision    recall  f1-score   support\n",
      "\n",
      "    no fraud       0.96      0.97      0.96      1471\n",
      "       fraud       0.69      0.57      0.62       152\n",
      "\n",
      "    accuracy                           0.94      1623\n",
      "   macro avg       0.82      0.77      0.79      1623\n",
      "weighted avg       0.93      0.94      0.93      1623\n",
      "\n",
      "KNN\n",
      "              precision    recall  f1-score   support\n",
      "\n",
      "    no fraud       0.94      0.98      0.96      1471\n",
      "       fraud       0.67      0.45      0.54       152\n",
      "\n",
      "    accuracy                           0.93      1623\n",
      "   macro avg       0.81      0.71      0.75      1623\n",
      "weighted avg       0.92      0.93      0.92      1623\n",
      "\n"
     ]
    }
   ],
   "source": [
    "final = run_exps(X_train,Y_train,X_test,Y_test)"
   ]
  },
  {
   "cell_type": "code",
   "execution_count": 68,
   "metadata": {},
   "outputs": [],
   "source": [
    "bootstraps = []\n",
    "for model in list(set(final.model.values)):\n",
    "    model_df = final.loc[final.model == model]\n",
    "    bootstrap = model_df.sample(n=30, replace=True)\n",
    "    bootstraps.append(bootstrap)\n",
    "        \n",
    "bootstrap_df = pd.concat(bootstraps, ignore_index=True)\n",
    "results_long = pd.melt(bootstrap_df,id_vars=['model'],var_name='metrics', value_name='values')\n",
    "time_metrics = ['fit_time','score_time'] # fit time metrics\n",
    "## PERFORMANCE METRICS\n",
    "results_long_nofit = results_long.loc[~results_long['metrics'].isin(time_metrics)] # get df without fit data\n",
    "results_long_nofit = results_long_nofit.sort_values(by='values')\n",
    "## TIME METRICS\n",
    "results_long_fit = results_long.loc[results_long['metrics'].isin(time_metrics)] # df with fit data\n",
    "results_long_fit = results_long_fit.sort_values(by='values')"
   ]
  },
  {
   "cell_type": "code",
   "execution_count": 69,
   "metadata": {},
   "outputs": [
    {
     "data": {
      "image/png": "[encoded data removed]",
      "text/plain": [
       "<Figure size 1440x864 with 1 Axes>"
      ]
     },
     "metadata": {
      "needs_background": "light"
     },
     "output_type": "display_data"
    }
   ],
   "source": [
    "plt.figure(figsize=(20, 12))\n",
    "sns.set(font_scale=2.5)\n",
    "g = sns.boxplot(x=\"model\", y=\"values\", hue=\"metrics\", data=results_long_nofit, palette=\"Set3\")\n",
    "plt.legend(bbox_to_anchor=(1.05, 1), loc=2, borderaxespad=0.)\n",
    "plt.title('Comparison of Model by Classification Metric')\n",
    "plt.savefig('./benchmark_models_performance.png',dpi=300)"
   ]
  },
  {
   "cell_type": "code",
   "execution_count": 70,
   "metadata": {},
   "outputs": [
    {
     "data": {
      "image/png": "[encoded data removed]",
      "text/plain": [
       "<Figure size 1440x864 with 1 Axes>"
      ]
     },
     "metadata": {},
     "output_type": "display_data"
    }
   ],
   "source": [
    "plt.figure(figsize=(20, 12))\n",
    "sns.set(font_scale=2.5)\n",
    "g = sns.boxplot(x=\"model\", y=\"values\", hue=\"metrics\", data=results_long_fit, palette=\"Set3\")\n",
    "plt.legend(bbox_to_anchor=(1.05, 1), loc=2, borderaxespad=0.)\n",
    "plt.title('Comparison of Model by Fit and Score Time')\n",
    "plt.savefig('./benchmark_models_time.png',dpi=300)"
   ]
  },
  {
   "cell_type": "code",
   "execution_count": 71,
   "metadata": {},
   "outputs": [
    {
     "data": {
      "text/html": [
       "<div>\n",
       "<style scoped>\n",
       "    .dataframe tbody tr th:only-of-type {\n",
       "        vertical-align: middle;\n",
       "    }\n",
       "\n",
       "    .dataframe tbody tr th {\n",
       "        vertical-align: top;\n",
       "    }\n",
       "\n",
       "    .dataframe thead tr th {\n",
       "        text-align: left;\n",
       "    }\n",
       "\n",
       "    .dataframe thead tr:last-of-type th {\n",
       "        text-align: right;\n",
       "    }\n",
       "</style>\n",
       "<table border=\"1\" class=\"dataframe\">\n",
       "  <thead>\n",
       "    <tr>\n",
       "      <th></th>\n",
       "      <th colspan=\"2\" halign=\"left\">test_precision_macro</th>\n",
       "      <th colspan=\"2\" halign=\"left\">test_recall_macro</th>\n",
       "      <th colspan=\"2\" halign=\"left\">test_f1_macro</th>\n",
       "    </tr>\n",
       "    <tr>\n",
       "      <th></th>\n",
       "      <th>std</th>\n",
       "      <th>mean</th>\n",
       "      <th>std</th>\n",
       "      <th>mean</th>\n",
       "      <th>std</th>\n",
       "      <th>mean</th>\n",
       "    </tr>\n",
       "    <tr>\n",
       "      <th>model</th>\n",
       "      <th></th>\n",
       "      <th></th>\n",
       "      <th></th>\n",
       "      <th></th>\n",
       "      <th></th>\n",
       "      <th></th>\n",
       "    </tr>\n",
       "  </thead>\n",
       "  <tbody>\n",
       "    <tr>\n",
       "      <th>GBC</th>\n",
       "      <td>0.010572</td>\n",
       "      <td>0.790292</td>\n",
       "      <td>0.025893</td>\n",
       "      <td>0.715991</td>\n",
       "      <td>0.020113</td>\n",
       "      <td>0.745020</td>\n",
       "    </tr>\n",
       "    <tr>\n",
       "      <th>KNN</th>\n",
       "      <td>0.025169</td>\n",
       "      <td>0.818149</td>\n",
       "      <td>0.021477</td>\n",
       "      <td>0.666868</td>\n",
       "      <td>0.023339</td>\n",
       "      <td>0.711817</td>\n",
       "    </tr>\n",
       "    <tr>\n",
       "      <th>LogReg</th>\n",
       "      <td>0.013151</td>\n",
       "      <td>0.834371</td>\n",
       "      <td>0.026018</td>\n",
       "      <td>0.696004</td>\n",
       "      <td>0.023511</td>\n",
       "      <td>0.741360</td>\n",
       "    </tr>\n",
       "    <tr>\n",
       "      <th>RF</th>\n",
       "      <td>0.029275</td>\n",
       "      <td>0.814412</td>\n",
       "      <td>0.036098</td>\n",
       "      <td>0.696746</td>\n",
       "      <td>0.035278</td>\n",
       "      <td>0.736775</td>\n",
       "    </tr>\n",
       "    <tr>\n",
       "      <th>SVM</th>\n",
       "      <td>0.029103</td>\n",
       "      <td>0.839302</td>\n",
       "      <td>0.036818</td>\n",
       "      <td>0.673083</td>\n",
       "      <td>0.038997</td>\n",
       "      <td>0.721236</td>\n",
       "    </tr>\n",
       "    <tr>\n",
       "      <th>XGB</th>\n",
       "      <td>0.023510</td>\n",
       "      <td>0.791912</td>\n",
       "      <td>0.027006</td>\n",
       "      <td>0.700651</td>\n",
       "      <td>0.024014</td>\n",
       "      <td>0.734250</td>\n",
       "    </tr>\n",
       "  </tbody>\n",
       "</table>\n",
       "</div>"
      ],
      "text/plain": [
       "       test_precision_macro           test_recall_macro           test_f1_macro          \n",
       "                        std      mean               std      mean           std      mean\n",
       "model                                                                                    \n",
       "GBC                0.010572  0.790292          0.025893  0.715991      0.020113  0.745020\n",
       "KNN                0.025169  0.818149          0.021477  0.666868      0.023339  0.711817\n",
       "LogReg             0.013151  0.834371          0.026018  0.696004      0.023511  0.741360\n",
       "RF                 0.029275  0.814412          0.036098  0.696746      0.035278  0.736775\n",
       "SVM                0.029103  0.839302          0.036818  0.673083      0.038997  0.721236\n",
       "XGB                0.023510  0.791912          0.027006  0.700651      0.024014  0.734250"
      ]
     },
     "execution_count": 71,
     "metadata": {},
     "output_type": "execute_result"
    }
   ],
   "source": [
    "metrics = list(set(results_long_nofit.metrics.values))\n",
    "bootstrap_df.groupby(['model'])[metrics].agg([np.std, np.mean])"
   ]
  },
  {
   "cell_type": "code",
   "execution_count": null,
   "metadata": {},
   "outputs": [],
   "source": []
  }
 ],
 "metadata": {
  "kernelspec": {
   "display_name": "Python 3",
   "language": "python",
   "name": "python3"
  },
  "language_info": {
   "codemirror_mode": {
    "name": "ipython",
    "version": 3
   },
   "file_extension": ".py",
   "mimetype": "text/x-python",
   "name": "python",
   "nbconvert_exporter": "python",
   "pygments_lexer": "ipython3",
   "version": "3.7.7"
  }
 },
 "nbformat": 4,
 "nbformat_minor": 5
}
